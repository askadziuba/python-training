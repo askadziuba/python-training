{
 "cells": [
  {
   "cell_type": "markdown",
   "id": "3eaf72e3",
   "metadata": {},
   "source": [
    "# PEP 8 — Code Layout & Spacing / Układ i odstępy w kodzie\n",
    "\n",
    "> **Audience / Grupa docelowa:** Python intermediate trainees / uczestnicy szkolenia średniozaawansowanego  \n",
    "> **Scope / Zakres:** Line length, indentation, blank lines, imports, whitespace around tokens, continued lines, comments, shebang & encoding headers (brief), and practical exercises.\n",
    "\n",
    "---"
   ]
  },
  {
   "cell_type": "markdown",
   "id": "d0c6dbd0",
   "metadata": {},
   "source": [
    "## Why it matters / Dlaczego to ważne\n",
    "\n",
    "**EN:** Consistent formatting improves readability, reduces cognitive load, and makes diffs and reviews cleaner. PEP 8 is the community guideline.  \n",
    "**PL:** Spójne formatowanie poprawia czytelność, zmniejsza obciążenie poznawcze i ułatwia przegląd zmian. PEP 8 to społeczna wytyczna stylu.\n",
    "\n",
    "**Goal / Cel:** After this module you’ll be able to format Python code according to PEP 8 essentials and spot common spacing mistakes. / Po tym module będziesz w stanie formatować kod zgodnie z podstawami PEP 8 i wychwytywać typowe błędy odstępów."
   ]
  },
  {
   "cell_type": "markdown",
   "id": "8454f4ce",
   "metadata": {},
   "source": [
    "## Line length / Długość linii\n",
    "\n",
    "**EN:** Preferred maximum line length is **79** characters for code, and **72** for comments/docstrings. Long expressions may be wrapped using implicit line continuation inside `()`, `[]`, `{}`.  \n",
    "**PL:** Zalecana maksymalna długość linii to **79** znaków dla kodu oraz **72** dla komentarzy/docstringów. Długie wyrażenia można łamać dzięki niejawnej kontynuacji w `()`, `[]`, `{}`.\n",
    "\n",
    "**Tip / Wskazówka:** Use editor rulers and formatters (e.g., `ruff`, `black`) to keep lines short. / Użyj linijek w edytorze i formaterów (np. `ruff`, `black`) aby utrzymywać krótkie linie."
   ]
  },
  {
   "cell_type": "markdown",
   "id": "65e7952f",
   "metadata": {},
   "source": [
    "## Indentation / Wcięcia\n",
    "\n",
    "**EN:** Use **4 spaces per indentation level**. Never mix tabs and spaces.  \n",
    "**PL:** Używaj **4 spacji na poziom wcięcia**. Nigdy nie mieszaj tabulatorów ze spacjami.\n",
    "\n",
    "**EN:** Continuation lines should align with opening delimiter or be indented by 4 spaces (or a multiple of 4).  \n",
    "**PL:** Linie kontynuacji powinny wyrównywać się do nawiasu otwierającego albo być wcięte o 4 spacje (lub ich wielokrotność)."
   ]
  },
  {
   "cell_type": "markdown",
   "id": "067bfecd",
   "metadata": {},
   "source": [
    "## Blank lines / Puste linie\n",
    "\n",
    "**EN:** Surround top-level function and class definitions with **2** blank lines. Inside classes, separate methods with **1** blank line. Use blank lines sparingly inside functions to group logical sections.  \n",
    "**PL:** Oddziel definicje funkcji i klas najwyższego poziomu **2** pustymi liniami. W klasach oddzielaj metody **1** pustą linią. Wewnątrz funkcji stosuj puste linie oszczędnie, aby grupować logiczne fragmenty."
   ]
  },
  {
   "cell_type": "markdown",
   "id": "3a5fa5be",
   "metadata": {},
   "source": [
    "## Imports / Importy\n",
    "\n",
    "**EN:** Imports go **at the top** of the file. Order: standard library, third‑party, local; each group separated by a blank line. One import per line is preferred. Avoid `from module import *`.  \n",
    "**PL:** Importy umieszczaj **na górze** pliku. Kolejność: standardowa biblioteka, zewnętrzne pakiety, lokalne moduły; każdą grupę oddziel pustą linią. Preferuj jeden import na linię. Unikaj `from module import *`."
   ]
  },
  {
   "cell_type": "markdown",
   "id": "69505d79",
   "metadata": {},
   "source": [
    "## Whitespace in expressions and statements / Odstępy w wyrażeniach i instrukcjach\n",
    "\n",
    "**EN / PL key rules:**\n",
    "- **Around binary operators** (e.g., `=`, `+`, `-`, `*`, `/`, `%`, `==`, `<`, `>=`): one space on **both** sides. / **Wokół operatorów binarnych**: jedna spacja z **obu** stron.\n",
    "- **No extra space** just inside brackets/parentheses/braces: `func(x, y)`, not `func( x, y )`. / **Bez dodatkowej spacji** tuż wewnątrz nawiasów.\n",
    "- **After commas, colons, semicolons**: one space. / **Po przecinkach, dwukropkach, średnikach**: jedna spacja.\n",
    "- **No space** before comma, semicolon, colon. / **Bez spacji** przed przecinkiem, średnikiem, dwukropkiem.\n",
    "- **Default args**: `def f(a, b=0)` not `def f(a, b = 0)`. / **Domyślne argumenty**: `b=0`, nie `b = 0`.\n",
    "- **Slicing**: `a[1:5]`, spaces only around `:` when it improves readability: `a[lo : hi]`. / **Wycinki**: `a[1:5]`, spacje wokół `:` tylko jeśli zwiększa to czytelność.\n",
    "- **Unary operators**: no space after unary `-`, `+`, or `~` (e.g., `-x`). / **Operatory unarne**: bez spacji po `-`, `+`, `~`.\n",
    "- **Trailing whitespace**: avoid. / **Końcowe spacje**: unikaj."
   ]
  },
  {
   "cell_type": "markdown",
   "id": "c0c59315",
   "metadata": {},
   "source": [
    "## Breaking long statements / Łamanie długich instrukcji\n",
    "\n",
    "**EN:** Prefer implicit continuation inside parentheses/brackets/braces. For binary operators, break **before** the operator (modern recommendation).  \n",
    "**PL:** Preferuj niejawną kontynuację w nawiasach. Dla operatorów binarnych łam linię **przed** operatorem (współczesne zalecenie)."
   ]
  },
  {
   "cell_type": "markdown",
   "id": "b8ce0257",
   "metadata": {},
   "source": [
    "## Comments & encoding headers (brief) / Komentarze i nagłówki kodowania (krótko)\n",
    "\n",
    "**EN:** Use complete sentences in comments; keep them up-to-date. For module files, if needed, specify encoding via `# -*- coding: utf-8 -*-` (rarely necessary in modern Python). Shebang `#!/usr/bin/env python3` may appear on the first line for executables.  \n",
    "**PL:** Pisz komentarze pełnymi zdaniami i aktualizuj je. W plikach modułów kodowanie można wskazać `# -*- coding: utf-8 -*-` (rzadko potrzebne we współczesnym Pythonie). Shebang `#!/usr/bin/env python3` może być pierwszą linią w plikach wykonywalnych."
   ]
  },
  {
   "cell_type": "markdown",
   "id": "13fceadb",
   "metadata": {},
   "source": [
    "## Examples: good vs bad / Przykłady: dobre vs złe\n",
    "\n",
    "**EN:** Compare pairs to see proper spacing.  \n",
    "**PL:** Porównaj pary, aby zobaczyć poprawne odstępy."
   ]
  },
  {
   "cell_type": "code",
   "execution_count": null,
   "id": "a44585eb",
   "metadata": {},
   "outputs": [],
   "source": [
    "\n",
    "# BAD\n",
    "x=1+2\n",
    "def area (w,h): \n",
    "    return w*h\n",
    "items = [1 ,2,3 , 4]\n",
    "total=sum(items)\n",
    "result=(1+\n",
    "2)\n",
    "paths = ['a','b' ,'c' ]\n",
    "if(x>0 and  y<5):\n",
    "    print('ok')"
   ]
  },
  {
   "cell_type": "code",
   "execution_count": null,
   "id": "86a7a2fb",
   "metadata": {},
   "outputs": [],
   "source": [
    "\n",
    "# GOOD\n",
    "x = 1 + 2\n",
    "\n",
    "def area(w, h):\n",
    "    return w * h\n",
    "\n",
    "items = [1, 2, 3, 4]\n",
    "total = sum(items)\n",
    "\n",
    "result = (1\n",
    "          + 2)\n",
    "\n",
    "paths = [\"a\", \"b\", \"c\"]\n",
    "\n",
    "if (x > 0\n",
    "        and y < 5):\n",
    "    print(\"ok\")"
   ]
  },
  {
   "cell_type": "markdown",
   "id": "38909734",
   "metadata": {},
   "source": [
    "## Exercises / Ćwiczenia\n",
    "\n",
    "> **How to use / Jak korzystać:** Each task includes an English and Polish description. Write your answer in the code cell below each task.  \n",
    "> **Tip:** You can run `ruff --fix` or `black` locally to compare with auto-format. / **Wskazówka:** Lokalnie możesz użyć `ruff --fix` lub `black` do porównania.\n",
    "\n",
    "### 1) Fix spacing around operators / Popraw odstępy wokół operatorów\n",
    "**EN:** Reformat the code to follow PEP 8 spacing around `=`, `+`, `*`.  \n",
    "**PL:** Sformatuj kod zgodnie z PEP 8 wokół `=`, `+`, `*`."
   ]
  },
  {
   "cell_type": "code",
   "execution_count": null,
   "id": "3d388cb7",
   "metadata": {},
   "outputs": [],
   "source": [
    "\n",
    "# Your turn / Twoja kolej\n",
    "a=10\n",
    "b=5\n",
    "sum=a+b*2\n",
    "print(sum)"
   ]
  },
  {
   "cell_type": "markdown",
   "id": "97526cc2",
   "metadata": {},
   "source": [
    "### 2) Function definition & call / Definicja i wywołanie funkcji\n",
    "**EN:** Fix spaces in the function signature and the call.  \n",
    "**PL:** Popraw spacje w sygnaturze funkcji i jej wywołaniu."
   ]
  },
  {
   "cell_type": "code",
   "execution_count": null,
   "id": "5bae2f0c",
   "metadata": {},
   "outputs": [],
   "source": [
    "\n",
    "def  scale (value , factor=2 ):\n",
    "    return value*factor\n",
    "\n",
    "print( scale ( 3 , factor =3))"
   ]
  },
  {
   "cell_type": "markdown",
   "id": "3ba53b0a",
   "metadata": {},
   "source": [
    "### 3) Lists, dicts, slicing / Listy, słowniki, wycinki\n",
    "**EN:** Remove extra inner spaces in brackets and add missing spaces after commas; make slicing readable.  \n",
    "**PL:** Usuń zbędne spacje wewnątrz nawiasów i dodaj brakujące spacje po przecinkach; uczyń wycinki czytelnymi."
   ]
  },
  {
   "cell_type": "code",
   "execution_count": null,
   "id": "89759c0b",
   "metadata": {},
   "outputs": [],
   "source": [
    "\n",
    "nums = [ 1,2 ,3 ,4 ]\n",
    "conf = { \"host\" :\"localhost\" , \"port\":5432 }\n",
    "part = nums[1:4 ]\n",
    "print(nums, conf, part)"
   ]
  },
  {
   "cell_type": "markdown",
   "id": "10b7e313",
   "metadata": {},
   "source": [
    "### 4) Breaking long expressions / Łamanie długich wyrażeń\n",
    "**EN:** Break the long boolean expression across lines using implicit continuation; place operators at the line beginning.  \n",
    "**PL:** Złam długie wyrażenie logiczne na linie używając niejawnej kontynuacji; umieść operatory na początku linii."
   ]
  },
  {
   "cell_type": "code",
   "execution_count": null,
   "id": "f3e7ad92",
   "metadata": {},
   "outputs": [],
   "source": [
    "\n",
    "ready = True; cached = False; retries = 3\n",
    "if ready and cached or (retries > 0 and not cached and ready and (1 + 2 + 3 > 5)):\n",
    "    print(\"go\")"
   ]
  },
  {
   "cell_type": "markdown",
   "id": "35df6f82",
   "metadata": {},
   "source": [
    "### 5) Imports ordering / Kolejność importów\n",
    "**EN:** Reorder imports: stdlib, third‑party, local; one per line; separate groups with blank lines.  \n",
    "**PL:** Przegrupuj importy: stdlib, zewnętrzne, lokalne; jeden na linię; oddziel grupy pustymi liniami."
   ]
  },
  {
   "cell_type": "code",
   "execution_count": null,
   "id": "6b4d409b",
   "metadata": {},
   "outputs": [],
   "source": [
    "\n",
    "import requests, sys, .local_utils as lu, os\n",
    "from collections import defaultdict, namedtuple"
   ]
  },
  {
   "cell_type": "markdown",
   "id": "22dfef63",
   "metadata": {},
   "source": [
    "## Solutions (click to expand) / Rozwiązania (kliknij aby rozwinąć)\n",
    "\n",
    "<details>\n",
    "<summary>Show / Pokaż</summary>"
   ]
  },
  {
   "cell_type": "markdown",
   "id": "70dc784b",
   "metadata": {},
   "source": [
    "**1)**\n",
    "```python\n",
    "a = 10\n",
    "b = 5\n",
    "sum_ = a + b * 2\n",
    "print(sum_)\n",
    "```\n",
    "**Note / Uwaga:** Avoid shadowing built-ins like `sum`. / Unikaj nadpisywania wbudowanych nazw jak `sum`."
   ]
  },
  {
   "cell_type": "markdown",
   "id": "dff945ee",
   "metadata": {},
   "source": [
    "**2)**\n",
    "```python\n",
    "def scale(value, factor=2):\n",
    "    return value * factor\n",
    "\n",
    "print(scale(3, factor=3))\n",
    "```"
   ]
  },
  {
   "cell_type": "markdown",
   "id": "dd3e3143",
   "metadata": {},
   "source": [
    "**3)**\n",
    "```python\n",
    "nums = [1, 2, 3, 4]\n",
    "conf = {\"host\": \"localhost\", \"port\": 5432}\n",
    "part = nums[1:4]\n",
    "print(nums, conf, part)\n",
    "```"
   ]
  },
  {
   "cell_type": "markdown",
   "id": "c97a410a",
   "metadata": {},
   "source": [
    "**4)**\n",
    "```python\n",
    "ready = True\n",
    "cached = False\n",
    "retries = 3\n",
    "\n",
    "if (\n",
    "    ready\n",
    "    and cached\n",
    "    or (\n",
    "        retries > 0\n",
    "        and not cached\n",
    "        and ready\n",
    "        and (1 + 2 + 3 > 5)\n",
    "    )\n",
    "):\n",
    "    print(\"go\")\n",
    "```\n",
    "```\n",
    "# Alternative modern style: break BEFORE operators but keep alignment:\n",
    "value = (\n",
    "    a_long_name\n",
    "    + another_component\n",
    "    - offset\n",
    ")\n",
    "```"
   ]
  },
  {
   "cell_type": "markdown",
   "id": "1bb210e6",
   "metadata": {},
   "source": [
    "**5)**\n",
    "```python\n",
    "import os\n",
    "import sys\n",
    "from collections import defaultdict, namedtuple\n",
    "\n",
    "import requests\n",
    "\n",
    "from . import local_utils as lu\n",
    "```"
   ]
  },
  {
   "cell_type": "markdown",
   "id": "b5937f74",
   "metadata": {},
   "source": [
    "</details>"
   ]
  },
  {
   "cell_type": "markdown",
   "id": "e741a241",
   "metadata": {},
   "source": [
    "## Tools & linters / Narzędzia i lintery\n",
    "\n",
    "**EN:** Recommended:\n",
    "- `ruff` (linter + formatter; very fast)  \n",
    "- `black` (opinionated formatter)  \n",
    "- `isort` (import sorter; `ruff` can replace it)  \n",
    "\n",
    "**PL:** Rekomendowane:\n",
    "- `ruff` (linter + formatter; bardzo szybki)  \n",
    "- `black` (formatowanie)  \n",
    "- `isort` (sortowanie importów; `ruff` może zastąpić)"
   ]
  },
  {
   "cell_type": "markdown",
   "id": "e85c32cd",
   "metadata": {},
   "source": [
    "## References / Źródła\n",
    "\n",
    "- PEP 8 — *Style Guide for Python Code*  \n",
    "- PEP 257 — *Docstring Conventions*  \n",
    "*(Search these titles in official Python docs.)*"
   ]
  }
 ],
 "metadata": {},
 "nbformat": 4,
 "nbformat_minor": 5
}