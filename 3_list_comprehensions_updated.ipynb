{
 "cells": [
  {
   "cell_type": "markdown",
   "metadata": {
    "id": "XRFpZxrJmhXh"
   },
   "source": [
    "# Składanie list (ang. `list comprehensions`)\n",
    "\n",
    "List comprehensions to zwięzła i czytelna składnia w Pythonie, która pozwala tworzyć listy w jednej linijce kodu, często zastępując pętle for oraz instrukcje warunkowe wbudowane w procesgenerowania listy. Dzięki nim kod jest krótszy, bardziej przejrzysty i często szybszy.\n",
    "Stosuje się je do:\n",
    "\n",
    "-przekształcania danych (np. modyfikacji elementów listy),\n",
    "\n",
    "-filtrowania elementów według warunku,\n",
    "\n",
    "-tworzenia list na podstawie innych iterowalnych obiektów.\n",
    "\n",
    "**List comprehensions are a concise and readable Python syntax for creating lists in a single line of code, often replacing for loops and conditional statements within the list creation process.** **They make code shorter, cleaner, and often faster.**\n",
    "**They are used for:**\n",
    "\n",
    "**-transforming data (e.g., modifying list elements),**\n",
    "\n",
    "**-filtering elements based on a condition,**\n",
    "\n",
    "**-generating lists from other iterable objects.**\n",
    "\n",
    "Docs:\n",
    "1. https://docs.python.org/2/tutorial/datastructures.html#list-comprehensions\n",
    "2. https://realpython.com/list-comprehension-python/\n",
    "\n",
    "<br><br>\n",
    "\n"
   ]
  },
  {
   "cell_type": "markdown",
   "metadata": {},
   "source": [
    "**The core syntax consists of an expression ( This is what gets evaluated and added to the list) , a variable ( The loop variable that takes values from the iterable) , and an iterable (The sequence of values that variable will loop through):**\n",
    "\n",
    "**List comprehension is specified by square brackets (just like the list itself) inside which you have a for loop over some iterable object.**\n",
    "\n",
    "\n",
    "Podstawowa składnia składa się z : wyrażenia ( wykonanie zadanej operacji i dodanie obiektu do listy) , zmiennej (zmienna która przechodzi przez wartości iteratora /sekwencji) i iteratora ( wartości przez które nasza zmienna będzie 'przechodzić') :\n",
    "\n",
    "List comprehension jest tworzona przy uzyciu nawaisów kwadratowych (jak sama lista) wewnątrz których zdefiniowana jest pętla for która iteruje po iteratorze/sekwencji)\n",
    "\n",
    "new_list = [x for x in some_iterable]"
   ]
  },
  {
   "cell_type": "markdown",
   "metadata": {},
   "source": [
    "**Let’s go through the operation of list construction with an example. We will multiply each element of the list. Let’s do it using the familiar for loop approach:**\n",
    "\n",
    "Prześledźmy operację składania list na przykładzie. Pomnożymy kolejne elementy listy. Zróbmy to za pomocą znanego sposobu z pętlą for:"
   ]
  },
  {
   "cell_type": "code",
   "execution_count": 24,
   "metadata": {
    "id": "BYAMlDGIkEJC"
   },
   "outputs": [],
   "source": [
    "simple_list = [0, 5, 2, 10, -1, 3]"
   ]
  },
  {
   "cell_type": "code",
   "execution_count": 25,
   "metadata": {
    "id": "4-93bHd7nPCi"
   },
   "outputs": [],
   "source": [
    "new_list = []\n",
    "for elem in simple_list:\n",
    "  new_list.append(2 * elem)"
   ]
  },
  {
   "cell_type": "code",
   "execution_count": 26,
   "metadata": {
    "id": "p2aOhsXundvq"
   },
   "outputs": [
    {
     "data": {
      "text/plain": [
       "[0, 10, 4, 20, -2, 6]"
      ]
     },
     "execution_count": 26,
     "metadata": {},
     "output_type": "execute_result"
    }
   ],
   "source": [
    "new_list"
   ]
  },
  {
   "cell_type": "markdown",
   "metadata": {
    "id": "qCjVKE_xnk0a"
   },
   "source": [
    "**Python allows performing the same transformation in a more concise way**\n",
    "\n",
    "Python umożliwia wykonanie takiej samej transformacji w bardziej zwięzły sposób:\n"
   ]
  },
  {
   "cell_type": "code",
   "execution_count": 27,
   "metadata": {
    "id": "9mwoxvnoneda"
   },
   "outputs": [
    {
     "data": {
      "text/plain": [
       "[0, 10, 4, 20, -2, 6]"
      ]
     },
     "execution_count": 27,
     "metadata": {},
     "output_type": "execute_result"
    }
   ],
   "source": [
    "[2 * elem for elem in simple_list]"
   ]
  },
  {
   "cell_type": "markdown",
   "metadata": {},
   "source": [
    "# List comprehension with if\n",
    "\n",
    "**List comprehension with an if condition allows you to create a new list by adding only those elements from an existing sequence that meet a specified condition.**\n",
    "\n",
    "List comprehension z warunkiem if pozwala na tworzenie nowej listy, dodając do niej tylko te elementy z istniejącej sekwencji, które spełniają określony warunek.\n",
    "\n",
    "\n",
    "new_list = [x for x in some_iterable if condition]\n",
    "\n",
    "\n"
   ]
  },
  {
   "cell_type": "markdown",
   "metadata": {
    "id": "STedIrzvol4_"
   },
   "source": [
    "**If we also wanted to filter out elements greater than 0:**\n",
    "\n",
    "Gdybyśmy chcieli przy okazji odfiltrować elementy większe od 0:\n",
    "\n"
   ]
  },
  {
   "cell_type": "code",
   "execution_count": 10,
   "metadata": {
    "id": "LddZ0hlRn0Wv"
   },
   "outputs": [
    {
     "data": {
      "text/plain": [
       "[10, 4, 20, 6]"
      ]
     },
     "execution_count": 10,
     "metadata": {},
     "output_type": "execute_result"
    }
   ],
   "source": [
    "new_list = []\n",
    "for elem in simple_list:\n",
    "  if elem > 0:\n",
    "    new_list.append(2 * elem)\n",
    "\n",
    "new_list"
   ]
  },
  {
   "cell_type": "markdown",
   "metadata": {
    "id": "POwD1BrHo1Yx"
   },
   "source": [
    "**More concisely, we can do the same thing using a list comprehension:**\n",
    "\n",
    "Bardziej zwięźle możemy zrobić to samo za pomocą list comprehension:"
   ]
  },
  {
   "cell_type": "code",
   "execution_count": 6,
   "metadata": {
    "id": "NUWh3dN5ozsv"
   },
   "outputs": [
    {
     "data": {
      "text/plain": [
       "[10, 4, 20, 6]"
      ]
     },
     "execution_count": 6,
     "metadata": {},
     "output_type": "execute_result"
    }
   ],
   "source": [
    "[2 * elem for elem in simple_list if elem > 0]"
   ]
  },
  {
   "cell_type": "markdown",
   "metadata": {},
   "source": [
    "**Lets assume we don't want to filter items of the iterable/ sequence but we would like to make an updates only if specific condition is met:**\n",
    "\n",
    "Nie chcemy filtrować elementów sekwencji ale uzależnić działanie wyrażenia od zaistnienia konkretnegho warunku:\n"
   ]
  },
  {
   "cell_type": "code",
   "execution_count": 28,
   "metadata": {},
   "outputs": [
    {
     "data": {
      "text/plain": [
       "[0, 10, 4, 20, -1, 6]"
      ]
     },
     "execution_count": 28,
     "metadata": {},
     "output_type": "execute_result"
    }
   ],
   "source": [
    "[2 * elem if elem > 0 else elem for elem in simple_list]\n"
   ]
  },
  {
   "cell_type": "markdown",
   "metadata": {
    "id": "TrjuE3m6qhYX"
   },
   "source": [
    "## Exercise\n",
    "\n",
    "**Converting prices from one currency to another. The list can contain nested dictionaries. For example:**\n",
    "\n",
    "Przeliczanie cen z jednej waluty na inną. W liście mogą znajdować się zagnieżdżone słowniki. Przykładowo:"
   ]
  },
  {
   "cell_type": "code",
   "execution_count": 12,
   "metadata": {
    "id": "xdneqzTQq48y"
   },
   "outputs": [],
   "source": [
    "stock_levels = [\n",
    "    {\"item\": \"Samsung\", \"price\": 700.0, \"quantity\": 5, \"currency\": \"EUR\"},\n",
    "    {\"item\": \"IPhone\", \"price\": 1000.0, \"quantity\": 3, \"currency\": \"EUR\"},\n",
    "]"
   ]
  },
  {
   "cell_type": "markdown",
   "metadata": {
    "id": "SCdZc8zvreen"
   },
   "source": [
    "**We have a given EUR/PLN exchange rate:**\n",
    "\n",
    "\n",
    "Mamy dany kurs EUR/PLN:"
   ]
  },
  {
   "cell_type": "code",
   "execution_count": 13,
   "metadata": {
    "id": "not1zIHOrd6f"
   },
   "outputs": [],
   "source": [
    "exchange_rate = 4.26"
   ]
  },
  {
   "cell_type": "markdown",
   "metadata": {
    "id": "mfB3nifauyQb"
   },
   "source": [
    "**Using the list comprehension, we can concisely convert prices at the EUR/PLN exchange rate:**\n",
    "\n",
    "Korzystając z list comprehension możemy w zwięzły sposób przeliczyć ceny po kursie EUR/PLN::"
   ]
  },
  {
   "cell_type": "code",
   "execution_count": 14,
   "metadata": {
    "id": "Ur-JPeo8sDay",
    "scrolled": true
   },
   "outputs": [
    {
     "data": {
      "text/plain": [
       "[{'item': 'Samsung', 'price': 2982.0, 'quantity': 5, 'currency': 'PLN'},\n",
       " {'item': 'IPhone', 'price': 4260.0, 'quantity': 3, 'currency': 'PLN'}]"
      ]
     },
     "execution_count": 14,
     "metadata": {},
     "output_type": "execute_result"
    }
   ],
   "source": [
    "stock_levels_pln = [\n",
    "    {**stock, **{\"price\": stock[\"price\"] * exchange_rate, \"currency\": \"PLN\"}} for stock in stock_levels\n",
    "]\n",
    "stock_levels_pln"
   ]
  },
  {
   "cell_type": "markdown",
   "metadata": {
    "id": "OGQkSCMKqJOh"
   },
   "source": [
    "## Exercise\n",
    "\n",
    "**How would total revenue for the `TV` product change if the price increased by 10%. Here is the list of transactions:**\n",
    "\n",
    "Jak zmieniłby się łączny przychód dla produktu `TV`, jeśli cena zwiększyłaby się o 10%. Oto lista transakcji:"
   ]
  },
  {
   "cell_type": "code",
   "execution_count": 29,
   "metadata": {
    "id": "e-jdBy_gb9oW"
   },
   "outputs": [],
   "source": [
    "transactions = [\n",
    "    {\"id\": 1, \"item\": \"TV\", \"quantity\": 2, \"price\": 2000.0},\n",
    "    {\"id\": 2, \"item\": \"TV\", \"quantity\": 1, \"price\": 4000.0},\n",
    "    {\"id\": 3, \"item\": \"PC\", \"quantity\": 3, \"price\": 2500.0},\n",
    "]"
   ]
  },
  {
   "cell_type": "code",
   "execution_count": 43,
   "metadata": {
    "cellView": "form",
    "id": "3ysgGx7YpXWO"
   },
   "outputs": [],
   "source": [
    "# Place for solution\n",
    "\n",
    "\n",
    "\n",
    "    "
   ]
  },
  {
   "cell_type": "markdown",
   "metadata": {
    "id": "hy-k0QoD4ibh"
   },
   "source": [
    "## Exercise\n",
    "\n",
    "**Use list comprehension to clean `data`:**\n",
    "\n",
    "**1. Remove `None`**\n",
    "\n",
    "**2. Cast the string to numeric values**\n",
    "\n",
    "**3. Extract numeric values from the tuple**\n",
    "\n",
    "**4. Leave only values greater than or equal to `0`**\n",
    "\n",
    "**5. Sort the result ascending**\n",
    "\n",
    "Za pomocą list comprehension oczyść `dane`:\n",
    "1. Usuń `None`\n",
    "2. Zrzutuj string na wartości liczbowe\n",
    "3. Wyciagnij wartości liczbowe z tupli\n",
    "4. Zostaw tylko wartości większe bądź równe `0`\n",
    "5. Posortuj wynik rosnąco\n"
   ]
  },
  {
   "cell_type": "code",
   "execution_count": 46,
   "metadata": {
    "id": "G6xrfd_f4iBy"
   },
   "outputs": [],
   "source": [
    "data = [None, \"12\", -5, (\"result\", 8), \"7\", None, 5, \"-8\", (\"ranking\", 15), 0, None, \"3\", -2, (\"value\", 21)]\n",
    "result = [0, 3, 5, 7, 8, 12, 15, 21]"
   ]
  },
  {
   "cell_type": "code",
   "execution_count": 69,
   "metadata": {
    "id": "mJ9fXlvNBUCr"
   },
   "outputs": [
    {
     "data": {
      "text/plain": [
       "[0, 3, 5, 7, 8, 12, 15, 21]"
      ]
     },
     "execution_count": 69,
     "metadata": {},
     "output_type": "execute_result"
    }
   ],
   "source": [
    "# Place for solution\n",
    "\n"
   ]
  },
  {
   "cell_type": "markdown",
   "metadata": {
    "id": "7jM6QFadgL7l"
   },
   "source": [
    "# Składanie słowników (ang. `dict comprehensions`)\n",
    "\n",
    "Docs:\n",
    "1. https://realpython.com/python-dictionary-comprehension/\n"
   ]
  },
  {
   "cell_type": "markdown",
   "metadata": {},
   "source": [
    "## Exercise\n",
    "\n",
    "**We will use an example of a dictionary that contains information about temperatures in various cities in Poland:**\n",
    "\n",
    "Posłużymy się przykładem słownika, który zawiera informacje o temperaturach w różnych miastach w Polsce:"
   ]
  },
  {
   "cell_type": "code",
   "execution_count": 71,
   "metadata": {
    "id": "m2DQmKtZh5oj"
   },
   "outputs": [],
   "source": [
    "temperatures = {\n",
    "    \"Poznań\": 10,\n",
    "    \"Warszawa\": 5,\n",
    "    \"Kraków\": 8,\n",
    "    \"Wrocław\": 12,\n",
    "    \"Gdańsk\": 7,\n",
    "}"
   ]
  },
  {
   "cell_type": "markdown",
   "metadata": {
    "id": "L4eHb0H5oGU7"
   },
   "source": [
    "**Little reminder on how the following functions work:**\n",
    "\n",
    "\n",
    "Przypomnijmy sobie działanie poniższych funkcji:"
   ]
  },
  {
   "cell_type": "code",
   "execution_count": 73,
   "metadata": {
    "id": "zTxNMFdQkyYr"
   },
   "outputs": [
    {
     "data": {
      "text/plain": [
       "dict_items([('Poznań', 10), ('Warszawa', 5), ('Kraków', 8), ('Wrocław', 12), ('Gdańsk', 7)])"
      ]
     },
     "execution_count": 73,
     "metadata": {},
     "output_type": "execute_result"
    }
   ],
   "source": [
    "temperatures.items()"
   ]
  },
  {
   "cell_type": "code",
   "execution_count": 74,
   "metadata": {},
   "outputs": [
    {
     "name": "stdout",
     "output_type": "stream",
     "text": [
      "Poznań 10\n",
      "Warszawa 5\n",
      "Kraków 8\n",
      "Wrocław 12\n",
      "Gdańsk 7\n"
     ]
    }
   ],
   "source": [
    "for day, temp in temperatures.items():\n",
    "    print(day, temp)"
   ]
  },
  {
   "cell_type": "code",
   "execution_count": 75,
   "metadata": {
    "id": "u9tDT5EqlDSQ"
   },
   "outputs": [
    {
     "data": {
      "text/plain": [
       "dict_keys(['Poznań', 'Warszawa', 'Kraków', 'Wrocław', 'Gdańsk'])"
      ]
     },
     "execution_count": 75,
     "metadata": {},
     "output_type": "execute_result"
    }
   ],
   "source": [
    "temperatures.keys()"
   ]
  },
  {
   "cell_type": "code",
   "execution_count": 76,
   "metadata": {
    "id": "5hVnWyyelEs8"
   },
   "outputs": [
    {
     "data": {
      "text/plain": [
       "dict_values([10, 5, 8, 12, 7])"
      ]
     },
     "execution_count": 76,
     "metadata": {},
     "output_type": "execute_result"
    }
   ],
   "source": [
    "temperatures.values()"
   ]
  },
  {
   "cell_type": "markdown",
   "metadata": {
    "id": "62YLAa9YoWvr"
   },
   "source": [
    "**We want to transform `temperatures` to include information about cities where the temperature is greater than 7 degrees Celsius. Using a `for` loop, we would do this as follows:**\n",
    "\n",
    "Chcemy przekształcić `temperatures`, tak aby zawierał informacje o miastach, w których temperatura jest większa niż 7 stopni. Za pomocą pętli `for` zrobilibyśmy to w następujący sposób:"
   ]
  },
  {
   "cell_type": "code",
   "execution_count": 77,
   "metadata": {
    "id": "sbcKsdQaoUP2"
   },
   "outputs": [
    {
     "data": {
      "text/plain": [
       "{'Poznań': 10, 'Kraków': 8, 'Wrocław': 12}"
      ]
     },
     "execution_count": 77,
     "metadata": {},
     "output_type": "execute_result"
    }
   ],
   "source": [
    "temperatures_dict = {}\n",
    "for city, temp_ in temperatures.items():\n",
    "  if temp_ > 7:\n",
    "    temperatures_dict[city] = temp_\n",
    "\n",
    "temperatures_dict"
   ]
  },
  {
   "cell_type": "markdown",
   "metadata": {
    "id": "RznExMDPpqzs"
   },
   "source": [
    "**The similar code for the dict comprehension operation is below:**\n",
    "\n",
    "Analogiczny kod dla operacji comprehension znajduje się poniżej:"
   ]
  },
  {
   "cell_type": "code",
   "execution_count": 78,
   "metadata": {
    "id": "UlP_Z-p6jNUj"
   },
   "outputs": [
    {
     "data": {
      "text/plain": [
       "{'Poznań': 10, 'Kraków': 8, 'Wrocław': 12}"
      ]
     },
     "execution_count": 78,
     "metadata": {},
     "output_type": "execute_result"
    }
   ],
   "source": [
    "{  city: temp_ \n",
    "   for city, temp_ in temperatures.items()\n",
    "   if temp_ > 7}"
   ]
  },
  {
   "cell_type": "markdown",
   "metadata": {
    "id": "_5U3iIHUqCJj"
   },
   "source": [
    "**In case we still want to convert the temperature from Celsius to Fahrenheit using the function below:**\n",
    "\n",
    "W przypadku, gdybyśmy jeszcze chcieli przekształcić temperaturę ze stopni Celsjusza na Fahrenheita za pomocą ponższej funkcji:"
   ]
  },
  {
   "cell_type": "code",
   "execution_count": 79,
   "metadata": {
    "id": "a4BJTNF0ju8I"
   },
   "outputs": [],
   "source": [
    "def celsius2fahrenheit(c):\n",
    "  return (c * 9/5) + 32"
   ]
  },
  {
   "cell_type": "markdown",
   "metadata": {
    "id": "zc3RtI2WqLDQ"
   },
   "source": [
    "**The only change will be to call the `celsius2fahrenheit` function, for the temperature values:**\n",
    "\n",
    "Jedyną zmiana będzie wywołanie funkcji `celsius2fahrenheit`, na wartości temperatury:"
   ]
  },
  {
   "cell_type": "code",
   "execution_count": 80,
   "metadata": {
    "id": "ZHuh5CD1j6QZ"
   },
   "outputs": [
    {
     "data": {
      "text/plain": [
       "{'Poznań': 50.0, 'Kraków': 46.4, 'Wrocław': 53.6}"
      ]
     },
     "execution_count": 80,
     "metadata": {},
     "output_type": "execute_result"
    }
   ],
   "source": [
    "{\n",
    "    city: celsius2fahrenheit(temp_)\n",
    "    for city, temp_ in temperatures.items()\n",
    "    if temp_ > 7\n",
    "}"
   ]
  },
  {
   "cell_type": "markdown",
   "metadata": {
    "id": "dSkMsIzSqcNo"
   },
   "source": [
    "**There is nothing stopping you from creating lists based on key-value pairs from a dictionary:**\n",
    "\n",
    "Nic nie stoi na przeszkodzie, aby na bazie par klucz-wartość ze słownika tworzyć listy:"
   ]
  },
  {
   "cell_type": "code",
   "execution_count": 82,
   "metadata": {
    "id": "HmxG783AkHnO"
   },
   "outputs": [
    {
     "data": {
      "text/plain": [
       "[('Poznań', 50.0), ('Kraków', 46.4), ('Wrocław', 53.6)]"
      ]
     },
     "execution_count": 82,
     "metadata": {},
     "output_type": "execute_result"
    }
   ],
   "source": [
    "temperatures_list = [(city, celsius2fahrenheit(temp_)) for city, temp_ in temperatures.items() if temp_ > 7]\n",
    "temperatures_list"
   ]
  },
  {
   "cell_type": "markdown",
   "metadata": {
    "id": "kYDy235tqt3Z"
   },
   "source": [
    "**And vice versa:**\n",
    "\n",
    "I na odwrót:"
   ]
  },
  {
   "cell_type": "code",
   "execution_count": 83,
   "metadata": {
    "id": "N7dS6qAOkmTW"
   },
   "outputs": [
    {
     "data": {
      "text/plain": [
       "{'Poznań': 50.0, 'Kraków': 46.4, 'Wrocław': 53.6}"
      ]
     },
     "execution_count": 83,
     "metadata": {},
     "output_type": "execute_result"
    }
   ],
   "source": [
    "{\n",
    "    city: temp_\n",
    "    for city, temp_ in temperatures_list\n",
    "}"
   ]
  },
  {
   "cell_type": "markdown",
   "metadata": {
    "id": "6r5zygp1q7--"
   },
   "source": [
    "**Although it will be simpler this way:**\n",
    "\n",
    "Chociaż tak będzie prościej:"
   ]
  },
  {
   "cell_type": "code",
   "execution_count": 84,
   "metadata": {
    "id": "pR6shpQyqz0n"
   },
   "outputs": [
    {
     "data": {
      "text/plain": [
       "{'Poznań': 50.0, 'Kraków': 46.4, 'Wrocław': 53.6}"
      ]
     },
     "execution_count": 84,
     "metadata": {},
     "output_type": "execute_result"
    }
   ],
   "source": [
    "dict(temperatures_list)"
   ]
  },
  {
   "cell_type": "markdown",
   "metadata": {
    "id": "wo-uz97YuHK4"
   },
   "source": [
    "## Exercise\n",
    "\n",
    "**Based on the data below, create a dictionary with the key \"name\" and the value \"salary.\" We're interested in people with salaries below 10,000.**\n",
    "\n",
    "Na podstawie poniższych danych utwórz słownik, którego kluczem będzie imię a wartością pensja. Interesują nas osoby z pensją poniżej 10000."
   ]
  },
  {
   "cell_type": "code",
   "execution_count": 91,
   "metadata": {
    "id": "yGvFKQ9iu4zx"
   },
   "outputs": [],
   "source": [
    "data = [\n",
    "    {\"id\": 1, \"name\": \"Alicja\", \"salary\": 7000},\n",
    "    {\"id\": 2, \"name\": \"Robert\", \"salary\": 5000},\n",
    "    {\"id\": 3, \"name\": \"Jerzy\", \"salary\": 12000}\n",
    "]"
   ]
  },
  {
   "cell_type": "code",
   "execution_count": 92,
   "metadata": {
    "cellView": "form",
    "id": "sfkz8wINuGrv"
   },
   "outputs": [
    {
     "data": {
      "text/plain": [
       "{'Alicja': 7000, 'Robert': 5000}"
      ]
     },
     "execution_count": 92,
     "metadata": {},
     "output_type": "execute_result"
    }
   ],
   "source": [
    "# Placeholder for solution\n",
    "\n",
    "\n"
   ]
  },
  {
   "cell_type": "markdown",
   "metadata": {
    "id": "LU7wXgACgRPI"
   },
   "source": [
    "Set comprehension\n",
    "\n",
    "**Set comprehension is very similar to dict comprehension. Instead of returning a key-value pair, we simply return the value. Let's use an example similar to the last one. We'll add a record for another person named Alicja:**\n",
    "\n",
    "Set comprehension wygląda bardzo podobnie do dict comprehension. Zamiast pary klucz-wartość zwracamy tylko wartość. Posłużmy się przykładem podobnym do ostatniego. Dodamy rekord z kolejną osobą o imieniu Alicja:"
   ]
  },
  {
   "cell_type": "code",
   "execution_count": 93,
   "metadata": {
    "id": "aTz1HmjLwk8p"
   },
   "outputs": [],
   "source": [
    "data = [\n",
    "    {\"id\": 1, \"name\": \"Alicja\", \"salary\": 7000},\n",
    "    {\"id\": 2, \"name\": \"Robert\", \"salary\": 5000},\n",
    "    {\"id\": 3, \"name\": \"Jerzy\", \"salary\": 12000},\n",
    "    {\"id\": 4, \"name\": \"Alicja\", \"salary\": 8000},\n",
    "]"
   ]
  },
  {
   "cell_type": "markdown",
   "metadata": {
    "id": "I7A0seDNxmQ0"
   },
   "source": [
    "**Our task will be to find people whose salary is below 10,000:**\n",
    "\n",
    "Naszym zadaniem będzie znalezienie osób, których pensja jest poniżej 10000:"
   ]
  },
  {
   "cell_type": "code",
   "execution_count": 94,
   "metadata": {
    "id": "01V8NQipxl3d"
   },
   "outputs": [
    {
     "data": {
      "text/plain": [
       "{'Alicja', 'Robert'}"
      ]
     },
     "execution_count": 94,
     "metadata": {},
     "output_type": "execute_result"
    }
   ],
   "source": [
    "{\n",
    "    d[\"name\"]\n",
    "    for d in data\n",
    "    if d[\"salary\"] < 10000\n",
    "}"
   ]
  },
  {
   "cell_type": "markdown",
   "metadata": {
    "id": "lGVJZfykxbc-"
   },
   "source": [
    "NOTE:\n",
    "\n",
    "**Referring to the previous exercise, note that the salary value is determined by the last record in the list under the same key:**\n",
    "\n",
    "Nawiązując do poprzedniego ćwiczenia zwróćmy uwagę, że o wartości pensji decyduje ostatni rekord z listy pod tym samym kluczem:"
   ]
  },
  {
   "cell_type": "code",
   "execution_count": 95,
   "metadata": {
    "id": "xe6RC8zoxWCn"
   },
   "outputs": [
    {
     "data": {
      "text/plain": [
       "{'Alicja': 8000, 'Robert': 5000}"
      ]
     },
     "execution_count": 95,
     "metadata": {},
     "output_type": "execute_result"
    }
   ],
   "source": [
    "{\n",
    "    d[\"name\"]: d[\"salary\"]\n",
    "    for d in data\n",
    "    if d[\"salary\"] < 10000\n",
    "}"
   ]
  },
  {
   "cell_type": "markdown",
   "metadata": {
    "id": "7QLGtqZggVCu"
   },
   "source": [
    "# Zagnieźdzone comprehensions (ang. nested)\n",
    "\n",
    "Docs:\n",
    "1. https://www.geeksforgeeks.org/nested-list-comprehensions-in-python/\n",
    "2. https://realpython.com/list-comprehension-python/#watch-out-for-nested-comprehensions\n"
   ]
  },
  {
   "cell_type": "markdown",
   "metadata": {},
   "source": [
    "**Let's use an example to analyze temperature measurements. Each row represents a separate measurement device. The values of the elements in the rows represent subsequent measurements.**\n",
    "\n",
    "Posłużmy się przykładem, w który będziemy analizować pomiary temperatur. Każdy wiersz reprezentuje osobne urządzenie pomiarowe. Wartości elementów w wierszach są kolejnymi pomiarami."
   ]
  },
  {
   "cell_type": "code",
   "execution_count": 30,
   "metadata": {
    "id": "9M8nUC7B1fSR"
   },
   "outputs": [],
   "source": [
    "temperatures = [\n",
    "    [-10, 30, 8],\n",
    "    [-50, 0, -20, 10],\n",
    "    [-30, 25],\n",
    "    [5, 40, 22],\n",
    "]"
   ]
  },
  {
   "cell_type": "markdown",
   "metadata": {
    "id": "DMOxJXHZBLcD"
   },
   "source": [
    "**In example 1, we want to convert degrees Celsius to Fahrenheit, leaving the measurements in degrees Celsius greater than 0. Using a `for` loop, we will do this as follows:**\n",
    "\n",
    "W 1. przykładzie chcemy zamienić stopnie Celsjusza na Fahrenheita zostawiając pomiary w stopniach Celsjusza większe od 0. Za pomocą pętli `for` zrobimy to następująco:"
   ]
  },
  {
   "cell_type": "code",
   "execution_count": 31,
   "metadata": {
    "id": "du8UU_aV9BeJ"
   },
   "outputs": [],
   "source": [
    "def celsius2fahrenheit(c):\n",
    "  return (c * 9/5) + 32"
   ]
  },
  {
   "cell_type": "code",
   "execution_count": 32,
   "metadata": {
    "id": "SUrAl52G9Cvl"
   },
   "outputs": [
    {
     "data": {
      "text/plain": [
       "[[86.0, 46.4], [50.0], [77.0], [41.0, 104.0, 71.6]]"
      ]
     },
     "execution_count": 32,
     "metadata": {},
     "output_type": "execute_result"
    }
   ],
   "source": [
    "wynik = []\n",
    "for internal_temp in temperatures:\n",
    "  wynik.append([celsius2fahrenheit(element) for element in internal_temp if element > 0])\n",
    "\n",
    "wynik"
   ]
  },
  {
   "cell_type": "markdown",
   "metadata": {
    "id": "H7AqWmpABvSy"
   },
   "source": [
    "**If we want to use only the comprehensions, we need to nest subsequent operations:**\n",
    "\n",
    "W przypadku gdybyśmy chceli skorzystać wyłącznie z comprehensions musimy zagnieżdżać kolejne operacje:"
   ]
  },
  {
   "cell_type": "code",
   "execution_count": 33,
   "metadata": {
    "id": "TyHwn3bqB3Co"
   },
   "outputs": [
    {
     "data": {
      "text/plain": [
       "[[86.0, 46.4], [50.0], [77.0], [41.0, 104.0, 71.6]]"
      ]
     },
     "execution_count": 33,
     "metadata": {},
     "output_type": "execute_result"
    }
   ],
   "source": [
    "[\n",
    "    [celsius2fahrenheit(element) for element in wewn_temp if element > 0]\n",
    "    for wewn_temp in temperatures\n",
    "]"
   ]
  },
  {
   "cell_type": "markdown",
   "metadata": {
    "id": "B8m6-KDBCBpK"
   },
   "source": [
    "**What if we wanted a flat list of temperatures? Let's start with the loop solution:**\n",
    "\n",
    "A co jeśli chcielibyśmy otrzymać płaską listę temperatur? Zacznijmy od rozwiązania z pętlą:"
   ]
  },
  {
   "cell_type": "code",
   "execution_count": 34,
   "metadata": {
    "id": "C_6X2mgFCOdz"
   },
   "outputs": [
    {
     "data": {
      "text/plain": [
       "[86.0, 46.4, 50.0, 77.0, 41.0, 104.0, 71.6]"
      ]
     },
     "execution_count": 34,
     "metadata": {},
     "output_type": "execute_result"
    }
   ],
   "source": [
    "temp_list = []\n",
    "for internal_temp in temperatures:\n",
    "  temp_list += [celsius2fahrenheit(element) for element in internal_temp if element > 0]\n",
    "\n",
    "temp_list"
   ]
  },
  {
   "cell_type": "markdown",
   "metadata": {
    "id": "-SMbvG1ECV-y"
   },
   "source": [
    "**Solution based solely on comprehensions:**\n",
    "\n",
    "Rozwiązanie oparte wyłącznie o comprehensions:"
   ]
  },
  {
   "cell_type": "code",
   "execution_count": 35,
   "metadata": {
    "id": "nPEeZe6aC0I4"
   },
   "outputs": [
    {
     "data": {
      "text/plain": [
       "[86.0, 46.4, 50.0, 77.0, 41.0, 104.0, 71.6]"
      ]
     },
     "execution_count": 35,
     "metadata": {},
     "output_type": "execute_result"
    }
   ],
   "source": [
    "[\n",
    "    celsius2fahrenheit(element)\n",
    "    for internal_temp in temperatures\n",
    "    for element in internal_temp if element > 0\n",
    "]"
   ]
  },
  {
   "cell_type": "markdown",
   "metadata": {
    "id": "TY8O9wOLtGru"
   },
   "source": [
    "## Exercise\n",
    "\n",
    "Transform the server logs as follows:\n",
    "1. Filter out log entries where the CPU metric exceeds 75 (i.e., 75% utilization).\n",
    "2. Two possible results:\n",
    "\n",
    "Przekształć w następujący sposób logi z serwera:\n",
    "1. Odfiltruj wpisy w logach, gdzie metryka cpu przekracza 75 (tj. 75% utylizacji)\n",
    "2. Dwa warianty wyniku:\n",
    "* variant I:\n",
    "```\n",
    "{\n",
    "  'server_1': {\n",
    "    'service_a': {'cpu': 55, 'memory': 1200, 'requests': 3200},\n",
    "    'service_b': {'cpu': 70, 'memory': 1800, 'requests': 4500}\n",
    "  },\n",
    "  'server_2': {\n",
    "    'service_a': {'cpu': 65, 'memory': 1400, 'requests': 3800}\n",
    "  }\n",
    "}\n",
    "```\n",
    "* variant II:\n",
    "```\n",
    "{\n",
    "  'server_1-service_a': {'cpu': 55, 'memory': 1200, 'requests': 3200},\n",
    "  'server_1-service_b': {'cpu': 70, 'memory': 1800, 'requests': 4500},\n",
    "  'server_2-service_a': {'cpu': 65, 'memory': 1400, 'requests': 3800}\n",
    "}\n",
    "```\n",
    "\n",
    "\n"
   ]
  },
  {
   "cell_type": "code",
   "execution_count": 36,
   "metadata": {
    "id": "3Cw6Q0dCtK7f"
   },
   "outputs": [],
   "source": [
    "logs = {\n",
    "    \"server_1\": {\n",
    "        \"service_a\": {\"cpu\": 55, \"memory\": 1200, \"requests\": 3200},\n",
    "        \"service_b\": {\"cpu\": 70, \"memory\": 1800, \"requests\": 4500}\n",
    "    },\n",
    "    \"server_2\": {\n",
    "        \"service_a\": {\"cpu\": 65, \"memory\": 1400, \"requests\": 3800},\n",
    "        \"service_c\": {\"cpu\": 80, \"memory\": 2200, \"requests\": 5100}\n",
    "    }\n",
    "}"
   ]
  },
  {
   "cell_type": "code",
   "execution_count": 37,
   "metadata": {
    "cellView": "form",
    "id": "9uNUb9NNhqDZ"
   },
   "outputs": [],
   "source": [
    "# Placeholder for solution - variant I"
   ]
  },
  {
   "cell_type": "code",
   "execution_count": 38,
   "metadata": {
    "cellView": "form",
    "id": "__rHPr__hwa2"
   },
   "outputs": [],
   "source": [
    "# Placeholder for solution - variant II"
   ]
  },
  {
   "cell_type": "markdown",
   "metadata": {
    "id": "RAhrUWpJgfVl"
   },
   "source": [
    "# Wyrażenia generatorowe (ang. `generator expressions`)\n",
    "\n",
    "**Generator expressions are a concise Python syntax for creating generators in a single line of code, similar to list comprehensions but without building the entire list in memory. Instead, they return a generator object that produces elements lazily – only when they are needed.This makes them more memory-efficient and ideal for working with large datasets or data streams.**\n",
    "**They are used for:**\n",
    "\n",
    "**iterating over large datasets without fully loading them into memory,**\n",
    "\n",
    "**processing sequences sequentially,**\n",
    "\n",
    "**combining with functions like sum(), any(), all(), or max().**\n",
    "\n",
    "Wyrażenia generowane (generator expressions) to zwięzła składnia w Pythonie pozwalająca tworzyć generatory w jednej linijce kodu, podobnie jak list comprehensions, ale bez tworzenia całej listy w pamięci. Zamiast tego zwracają obiekt generatora, który wytwarza elementy leniwe – dopiero wtedy, gdy są potrzebne.\n",
    "Dzięki temu są bardziej pamięciooszczędne i nadają się do pracy z dużymi zbiorami danych lub strumieniami.\n",
    "Stosuje się je m.in. do:\n",
    "\n",
    "iteracji po dużych danych bez ich pełnego ładowania do pamięci,\n",
    "\n",
    "przetwarzania sekwencji w sposób sekwencyjny,\n",
    "\n",
    "łączenia z funkcjami takimi jak sum(), any(), all() czy max().\n",
    "\n",
    "Docs:\n",
    "1. https://docs.python.org/3/reference/expressions.html#grammar-token-python-grammar-generator_expression\n",
    "2. https://realpython.com/introduction-to-python-generators/#creating-data-pipelines-with-generators\n"
   ]
  },
  {
   "cell_type": "markdown",
   "metadata": {},
   "source": [
    "**A simple example of a generator:**\n",
    "\n",
    "Prosty przykład generatora:"
   ]
  },
  {
   "cell_type": "code",
   "execution_count": 39,
   "metadata": {
    "id": "eu-5WGDTLAAm"
   },
   "outputs": [],
   "source": [
    "generator = (x**2 for x in range(10))"
   ]
  },
  {
   "cell_type": "code",
   "execution_count": 40,
   "metadata": {},
   "outputs": [
    {
     "data": {
      "text/plain": [
       "<generator object <genexpr> at 0x00000272A8FE6E90>"
      ]
     },
     "execution_count": 40,
     "metadata": {},
     "output_type": "execute_result"
    }
   ],
   "source": [
    "generator"
   ]
  },
  {
   "cell_type": "markdown",
   "metadata": {
    "id": "Ktl99d7MLR5c"
   },
   "source": [
    "**Let's check if the result is as expected:**\n",
    "\n",
    "Sprawdźmy, czy wynik jest zgodny z oczekiwanym:"
   ]
  },
  {
   "cell_type": "code",
   "execution_count": 41,
   "metadata": {
    "id": "whqV0NvFLRgo"
   },
   "outputs": [
    {
     "data": {
      "text/plain": [
       "[0, 1, 4, 9, 16, 25, 36, 49, 64, 81]"
      ]
     },
     "execution_count": 41,
     "metadata": {},
     "output_type": "execute_result"
    }
   ],
   "source": [
    "list(generator)"
   ]
  },
  {
   "cell_type": "markdown",
   "metadata": {
    "id": "8QZrw_boLb2l"
   },
   "source": [
    "**Generators can be used to create call chains that resemble data flows. This way, instead of triggering calculations for subsequent variables, we create a \"recipe\" for obtaining them. For example:**\n",
    "\n",
    "Korzystanie z generatorów można łączyć w ciągi wywołań, które przypominają przepływy danych. W ten sposób nie wywołujemy obliczeń kolejnych zmiennych, a tworzymy \"przepis\" na ich otrzymanie. Przykładowo:"
   ]
  },
  {
   "cell_type": "code",
   "execution_count": 42,
   "metadata": {
    "id": "8YsXyy6NLK-E"
   },
   "outputs": [],
   "source": [
    "squares = (x**2 for x in range(10))"
   ]
  },
  {
   "cell_type": "code",
   "execution_count": 43,
   "metadata": {
    "id": "jT6vg8pILsyv"
   },
   "outputs": [],
   "source": [
    "divided_by_3 = (x for x in squares if x % 3 == 0)"
   ]
  },
  {
   "cell_type": "markdown",
   "metadata": {
    "id": "Q_F6skOwNTM-"
   },
   "source": [
    "**At this point, the calculations are performed:**\n",
    "\n",
    "W tym momencie wykonywane są obliczenia:"
   ]
  },
  {
   "cell_type": "code",
   "execution_count": 44,
   "metadata": {
    "id": "S776s0VRMH1Q"
   },
   "outputs": [
    {
     "data": {
      "text/plain": [
       "[0, 9, 36, 81]"
      ]
     },
     "execution_count": 44,
     "metadata": {},
     "output_type": "execute_result"
    }
   ],
   "source": [
    "list(divided_by_3)"
   ]
  },
  {
   "cell_type": "markdown",
   "metadata": {
    "id": "lbIUskybNZ0D"
   },
   "source": [
    "## Exercise\n",
    "\n",
    "**We have a function that randomly selects the sensor name and measurement value n times:**\n",
    "\n",
    "Mamy funkcję, która losuje n-razy nazwę czujnika i wartość pomiaru:"
   ]
  },
  {
   "cell_type": "code",
   "execution_count": 45,
   "metadata": {
    "id": "6BR-FLBKNZhj"
   },
   "outputs": [],
   "source": [
    "from random import randint, choice\n",
    "\n",
    "SENSORS = [\"SENSOR_1\", \"SENSOR_2\", \"SENSOR_3\", \"SENSOR_4\"]\n",
    "\n",
    "def get_measurements(n):\n",
    "    for _ in range(n):\n",
    "        yield choice(SENSORS), randint(-30, 30)"
   ]
  },
  {
   "cell_type": "code",
   "execution_count": 46,
   "metadata": {
    "id": "r_7yL8UInkKh"
   },
   "outputs": [
    {
     "data": {
      "text/plain": [
       "<generator object get_measurements at 0x00000272A8D06020>"
      ]
     },
     "execution_count": 46,
     "metadata": {},
     "output_type": "execute_result"
    }
   ],
   "source": [
    "get_measurements(4)"
   ]
  },
  {
   "cell_type": "code",
   "execution_count": 47,
   "metadata": {
    "id": "UHk9ok10nzCW"
   },
   "outputs": [
    {
     "data": {
      "text/plain": [
       "('SENSOR_2', 18)"
      ]
     },
     "execution_count": 47,
     "metadata": {},
     "output_type": "execute_result"
    }
   ],
   "source": [
    "next(get_measurements(4))"
   ]
  },
  {
   "cell_type": "markdown",
   "metadata": {
    "id": "ddcuIHOVN29P"
   },
   "source": [
    "**Modify the function to use generator expressions.**\n",
    "\n",
    "Przerób funkcję tak, aby korzystała z wyrażeń generatorowych"
   ]
  },
  {
   "cell_type": "code",
   "execution_count": null,
   "metadata": {},
   "outputs": [
    {
     "ename": "",
     "evalue": "",
     "output_type": "error",
     "traceback": [
      "\u001b[1;31mThe Kernel crashed while executing code in the current cell or a previous cell. \n",
      "\u001b[1;31mPlease review the code in the cell(s) to identify a possible cause of the failure. \n",
      "\u001b[1;31mClick <a href='https://aka.ms/vscodeJupyterKernelCrash'>here</a> for more info. \n",
      "\u001b[1;31mView Jupyter <a href='command:jupyter.viewOutput'>log</a> for further details."
     ]
    }
   ],
   "source": [
    "# Placeholder for solution"
   ]
  }
 ],
 "metadata": {
  "colab": {
   "authorship_tag": "ABX9TyOijItmKMWDez/0w+ekxHMV",
   "include_colab_link": true,
   "provenance": []
  },
  "kernelspec": {
   "display_name": "Python 3 (ipykernel)",
   "language": "python",
   "name": "python3"
  },
  "language_info": {
   "codemirror_mode": {
    "name": "ipython",
    "version": 3
   },
   "file_extension": ".py",
   "mimetype": "text/x-python",
   "name": "python",
   "nbconvert_exporter": "python",
   "pygments_lexer": "ipython3",
   "version": "3.12.6"
  }
 },
 "nbformat": 4,
 "nbformat_minor": 4
}
