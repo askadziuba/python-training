{
 "cells": [
  {
   "cell_type": "markdown",
   "id": "5a126bfe",
   "metadata": {},
   "source": [
    "## 🧠 1. Theoretical Introduction\n",
    "\n",
    "### What is Jupyter Notebook?\n",
    "Jupyter Notebook is a web application that allows users to create and share documents containing code, equations, visualizations, and narrative text. It is part of the Jupyter project, which evolved from the IPython project.\n",
    "\n",
    "### History\n",
    "- **2001**: IPython was created as an interactive environment for Python\n",
    "- **2014**: The Jupyter project split from IPython, supporting multiple programming languages\n",
    "- **Present**: Jupyter supports over 40 languages, including Python and R\n",
    "\n",
    "### Architecture\n",
    "- **Kernel**: Executes the code (e.g., Python Kernel)\n",
    "- **Notebook Server**: Manages files and the interface\n",
    "- **Frontend**: User interface (e.g., JupyterLab, classic Jupyter)\n",
    "\n",
    "### Applications\n",
    "- **Data Science**: Data exploration, visualizations, ML models\n",
    "- **Education**: Interactive teaching materials, exercises\n",
    "- **Scientific Research**: Experiment documentation\n",
    "- **Presentations**: Real-time code and results demonstration\n",
    "\n",
    "### Usage Examples\n",
    "- Data analysis with Pandas\n",
    "- Creating plots with Matplotlib and Seaborn\n",
    "- Building ML models with Scikit-learn\n",
    "- Project documentation on GitHub\n",
    "\n",
    "### Alternatives to Jupyter\n",
    "- **RStudio**: For the R language\n",
    "- **Google Colab**: Cloud-based Jupyter with free GPU\n",
    "- **VS Code Notebooks**: Integration with VS Code editor\n",
    "- **Observable**: For JavaScript and data visualization\n",
    "\n",
    "### Advantages\n",
    "- Interactivity\n",
    "- Easy documentation\n",
    "- Integration with libraries\n",
    "- Export options (PDF, HTML)\n",
    "\n",
    "### Disadvantages\n",
    "- Versioning difficulties (JSON files)\n",
    "- Performance issues with large datasets\n"
   ]
  },
  {
   "cell_type": "markdown",
   "id": "cc68dbfd",
   "metadata": {},
   "source": [
    "## 🔤 2. Code Cells vs Markdown Cells\n",
    "In Jupyter Notebook, there are two main types of cells: code cells, where we write and execute code, and markdown cells, used for formatting text, adding headings, descriptions, or equations.\n",
    "\n",
    "\n",
    "**Code Cells**\n",
    "\n",
    "Used to write and run code in programming languages, most commonly Python. The output of the code (e.g., plots, data, messages) appears directly below the cell after execution.\n",
    "\n",
    "**Markdown Cells**\n",
    "\n",
    "Allow you to add formatted text, headings, lists, links, and mathematical equations written in LaTeX. They are used for documenting code, creating descriptions, and writing instructions.\n",
    "\n",
    "\n",
    "Example of Markdown:\n",
    "```markdown\n",
    "# Nagłówek\n",
    "**Pogrubienie**\n",
    "- Lista\n",
    "```\n"
   ]
  },
  {
   "cell_type": "code",
   "execution_count": null,
   "id": "28e0eed3",
   "metadata": {
    "vscode": {
     "languageId": "plaintext"
    }
   },
   "outputs": [],
   "source": [
    "print('This is code cell')"
   ]
  },
  {
   "cell_type": "markdown",
   "id": "a2525784",
   "metadata": {},
   "source": [
    "# 📘 Markdown Basics\n",
    "\n",
    "Markdown is a lightweight markup language that makes it easy to format text. Below are the most important elements of Markdown syntax:\n",
    "\n",
    "---\n",
    "\n",
    "## 🧩 Header\n",
    "\n",
    "Use `#` to create Header:\n",
    "\n",
    "```\n",
    "# Header 1  \n",
    "## Header 2  \n",
    "### Header 3\n",
    "```\n",
    "\n",
    "---\n",
    "\n",
    "## ✍️  Bold and Italics\n",
    "\n",
    "```\n",
    "**Bold**  \n",
    "*Italics*  \n",
    "***Bold Italic***\n",
    "```\n",
    "\n",
    "---\n",
    "\n",
    "## 📋 Lists\n",
    "\n",
    "**Bullet list:**\n",
    "\n",
    "```\n",
    "- Item  1  \n",
    "- Item  2  \n",
    "  - Subitem\n",
    "```\n",
    "\n",
    "**Numbered list:**\n",
    "\n",
    "```\n",
    "1. First  \n",
    "2. Second\n",
    "```\n",
    "\n",
    "---\n",
    "\n",
    "## 🔗 Links and Images\n",
    "\n",
    "```\n",
    "[Click here](https://example.com)  \n",
    "![Alt text](https://via.placeholder.com/150)\n",
    "```\n",
    "\n",
    "---\n",
    "\n",
    "## 💻 Code\n",
    "\n",
    "**Inline code:**  \n",
    "`print(\"Hello, world!\")`\n",
    "\n",
    "**Code block:**\n",
    "\n",
    "```\n",
    "```python\n",
    "\n",
    "def hello():\n",
    "    print(\"Hello, world!\")\n",
    "```\n",
    "```\n",
    "\n",
    "---\n",
    "\n",
    "## 💬 Blockquotes\n",
    "\n",
    "```\n",
    "> This is a quote.\n",
    "```\n",
    "\n",
    "---\n",
    "\n",
    "## 📊 Table\n",
    "\n",
    "```\n",
    "| Name | Age |  \n",
    "|------|------|  \n",
    "| Anna | 25   |  \n",
    "| Jan  | 30   |\n",
    "```\n",
    "\n",
    "---\n",
    "\n",
    "Markdown is simple, readable, and very useful for documentation, blogs, and notes!\n",
    "\n"
   ]
  },
  {
   "cell_type": "markdown",
   "id": "96314d25",
   "metadata": {},
   "source": [
    "## ✅ 3. Code\n",
    "Calculating the Average:"
   ]
  },
  {
   "cell_type": "code",
   "execution_count": null,
   "id": "e8264855",
   "metadata": {
    "vscode": {
     "languageId": "plaintext"
    }
   },
   "outputs": [],
   "source": [
    "numbers = [10, 20, 30, 40]\n",
    "average = sum(numbers) / len(numbers)\n",
    "print('Średnia:', average)"
   ]
  },
  {
   "cell_type": "code",
   "execution_count": null,
   "id": "7add4b66",
   "metadata": {
    "vscode": {
     "languageId": "plaintext"
    }
   },
   "outputs": [],
   "source": [
    "import matplotlib.pyplot as plt\n",
    "\n",
    "x = [1, 2, 3, 4]\n",
    "y = [10, 20, 25, 30]\n",
    "\n",
    "plt.plot(x, y)\n",
    "plt.title('Przykładowy wykres')\n",
    "plt.show()"
   ]
  },
  {
   "cell_type": "markdown",
   "id": "555806d5",
   "metadata": {},
   "source": [
    "## ▶️ 4. Running, Editing, and Sharing Notebooks\n",
    "\n",
    "- **Run cells:** `Shift + Enter`  \n",
    "- **Edit:** Double-click the cell  \n",
    "- **Save:** `Ctrl + S`  \n",
    "- **Export:** File → Download as  \n",
    "- **Share:** GitHub, nbviewer, Google Colab"
   ]
  },
  {
   "cell_type": "markdown",
   "id": "7e2852dd",
   "metadata": {},
   "source": [
    "## 🔗 5. Links to Additional Resources\n",
    "- [Jupyter.org](https://jupyter.org/documentation)\n",
    "- [Google Colab](https://colab.research.google.com/)\n",
    "- [Markdown Cheatsheet](https://www.markdownguide.org/cheat-sheet/)"
   ]
  },
  {
   "cell_type": "markdown",
   "id": "c4ce9638",
   "metadata": {},
   "source": [
    "## 📝 6. Exercises\n",
    "### Task 1\n",
    "Sum numbers: `5, 8, 12, 3, 7`\n",
    "\n",
    "### Task 2\n",
    "Count the number of characters in a sentence \"Python is fun!\""
   ]
  },
  {
   "cell_type": "markdown",
   "id": "997358dc",
   "metadata": {},
   "source": [
    "### Task 3 – Create Documentation in Markdown\n",
    "\n",
    "In a Markdown cell, prepare documentation for the function `calculate_average(list)` according to the following requirements:\n",
    "\n",
    "- Add a **header** with the function name\n",
    "- Describe the **purpose of the function** in text form\n",
    "- List the **arguments** and **data types**\n",
    "- Add an **example of usage** in a code block format\n",
    "- Include the **mathematical formula** for calculating the average: \n",
    "$$\\text{average} = \\frac{\\sum x_i}{n}$$\n",
    "\n",
    "\n"
   ]
  }
 ],
 "metadata": {
  "language_info": {
   "name": "python"
  }
 },
 "nbformat": 4,
 "nbformat_minor": 5
}
