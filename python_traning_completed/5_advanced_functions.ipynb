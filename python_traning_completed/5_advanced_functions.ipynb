{
  "cells": [
    {
      "cell_type": "markdown",
      "metadata": {
        "colab_type": "text",
        "id": "view-in-github"
      },
      "source": [
        "<a href=\"https://colab.research.google.com/github/chrispi21/python-dataeng/blob/main/02_funkcje_zaawansowane.ipynb\" target=\"_parent\"><img src=\"https://colab.research.google.com/assets/colab-badge.svg\" alt=\"Open In Colab\"/></a>"
      ]
    },
    {
      "cell_type": "markdown",
      "metadata": {
        "id": "rrhHCZP0ly6X"
      },
      "source": [
        "# Advanced functions"
      ]
    },
    {
      "cell_type": "code",
      "execution_count": null,
      "metadata": {
        "id": "yD5pZPImp3bL"
      },
      "outputs": [],
      "source": [
        "def add_one(x):\n",
        "  return x + 1"
      ]
    },
    {
      "cell_type": "code",
      "execution_count": null,
      "metadata": {
        "id": "jxKO9KNHp4Pt"
      },
      "outputs": [],
      "source": [
        "add_one(10)"
      ]
    },
    {
      "cell_type": "markdown",
      "metadata": {
        "id": "Kq8hA6Y0qDJN"
      },
      "source": [
        "We can also create functions with a default value:"
      ]
    },
    {
      "cell_type": "code",
      "execution_count": null,
      "metadata": {
        "id": "m4RzLy8ap9e2"
      },
      "outputs": [],
      "source": [
        "def add_n(x, n=5):\n",
        "  return x + n"
      ]
    },
    {
      "cell_type": "code",
      "execution_count": null,
      "metadata": {
        "id": "tVBSRJOHqOTA"
      },
      "outputs": [],
      "source": [
        "add_n(2)"
      ]
    },
    {
      "cell_type": "markdown",
      "metadata": {
        "id": "oh-HGcjGqTxo"
      },
      "source": [
        "We can also use named arguments:"
      ]
    },
    {
      "cell_type": "code",
      "execution_count": null,
      "metadata": {
        "id": "t3D-h_jHqS-n"
      },
      "outputs": [],
      "source": [
        "add_n(x=1, n=100)"
      ]
    },
    {
      "cell_type": "markdown",
      "metadata": {
        "id": "ViwOR5bbqe6E"
      },
      "source": [
        "This allows us to change the order of passing arguments:"
      ]
    },
    {
      "cell_type": "code",
      "execution_count": null,
      "metadata": {
        "id": "3Uu5m7iAqeKY"
      },
      "outputs": [],
      "source": [
        "add_n(n=100, x=1)"
      ]
    },
    {
      "cell_type": "markdown",
      "metadata": {
        "id": "6Ci9ygLdsilL"
      },
      "source": [
        "# Unpacking lists, tuples, and dictionaries as function arguments"
      ]
    },
    {
      "cell_type": "markdown",
      "metadata": {
        "id": "L2hvp4Paqujb"
      },
      "source": [
        "Python also allows unpacking a list, tuple, or dictionary of arguments when calling a function:"
      ]
    },
    {
      "cell_type": "code",
      "execution_count": null,
      "metadata": {
        "id": "8kEG5098q8e8"
      },
      "outputs": [],
      "source": [
        "# We use * to unpack elements\n",
        "list_of_arguments = [1, 100]\n",
        "add_n(*list_of_arguments)"
      ]
    },
    {
      "cell_type": "code",
      "execution_count": null,
      "metadata": {
        "id": "u7wSWrQPqR4w"
      },
      "outputs": [],
      "source": [
        "tuple_of_arguments = (1, 100)\n",
        "add_n(*tuple_of_arguments)"
      ]
    },
    {
      "cell_type": "code",
      "execution_count": null,
      "metadata": {
        "id": "MifXxj5zrGrV"
      },
      "outputs": [],
      "source": [
        "# We use ** to unpack key-value pairs in dictionaries\n",
        "dict_of_arguments = {\"x\": 1, \"n\": 100}\n",
        "add_n(**dict_of_arguments)"
      ]
    },
    {
      "cell_type": "markdown",
      "metadata": {
        "id": "8p-sbBc7s1yl"
      },
      "source": [
        "# Functions that accept any number of elements\n",
        "\n",
        "When an argument name is preceded by `*`, we can pass any tuple containing unnamed arguments. For example, we can create a function that sums any number of elements:\n"
      ]
    },
    {
      "cell_type": "code",
      "execution_count": null,
      "metadata": {
        "id": "rN11iVcKrLsX"
      },
      "outputs": [],
      "source": [
        "def add_elements(*args):\n",
        "    total = 0\n",
        "    for arg in args:\n",
        "        total += arg\n",
        "    return total\n"
      ]
    },
    {
      "cell_type": "code",
      "execution_count": null,
      "metadata": {
        "id": "RjXF-UJws3oK"
      },
      "outputs": [],
      "source": [
        "add_elements(1, 2, 4)"
      ]
    },
    {
      "cell_type": "markdown",
      "metadata": {
        "id": "osg-XQ1FufXk"
      },
      "source": [
        "The argument name `*args` is a naming convention – it’s good practice to follow it."
      ]
    },
    {
      "cell_type": "markdown",
      "metadata": {
        "id": "KmBjHNtPvSpn"
      },
      "source": [
        "Similarly, we can pass named arguments as a dictionary. We use `**` before the argument name. For example, we can create a function that returns the minimum:"
      ]
    },
    {
      "cell_type": "code",
      "execution_count": null,
      "metadata": {
        "id": "2ub7tGr2ue1T"
      },
      "outputs": [],
      "source": [
        "def minimum(**kwargs):\n",
        "    if len(kwargs) == 0:\n",
        "        return None\n",
        "    min_value = float(\"inf\")\n",
        "    for value in kwargs.values():\n",
        "        if value < min_value:\n",
        "            min_value = value\n",
        "    return min_value\n"
      ]
    },
    {
      "cell_type": "code",
      "execution_count": null,
      "metadata": {
        "id": "u7x22m-itcbk"
      },
      "outputs": [],
      "source": [
        "minimum(a=1, b=10, c=-5)"
      ]
    },
    {
      "cell_type": "markdown",
      "metadata": {
        "id": "isNJgbnqwUhp"
      },
      "source": [
        "The naming convention recommends using `**kwargs` in this case."
      ]
    },
    {
      "cell_type": "markdown",
      "metadata": {
        "id": "j__QaYTRwd_1"
      },
      "source": [
        "We can create functions that use `*args`, `**kwargs`, and other arguments. For example:"
      ]
    },
    {
      "cell_type": "code",
      "execution_count": null,
      "metadata": {
        "id": "Ps18trP1wNwD"
      },
      "outputs": [],
      "source": [
        "def minimum(x=0, *args, **kwargs):\n",
        "  minimum = x\n",
        "  all_args = args + tuple(kwargs.values())\n",
        "  for value in all_args:\n",
        "    if value < minimum:\n",
        "      minimum = value\n",
        "  return minimum"
      ]
    },
    {
      "cell_type": "code",
      "execution_count": null,
      "metadata": {
        "id": "ZlocL19Nxbnq"
      },
      "outputs": [],
      "source": [
        "minimum(1, 22, 2, a=3, b=15)"
      ]
    },
    {
      "cell_type": "code",
      "execution_count": null,
      "metadata": {
        "id": "cme3ftaMxhuB"
      },
      "outputs": [],
      "source": [
        "# Thats not going to work\n",
        "minimum(a=3, 1, 22, 2, b=15)"
      ]
    },
    {
      "cell_type": "markdown",
      "metadata": {
        "id": "jX_zatKTzG7Q"
      },
      "source": [
        "## Fun Fact – Merging Dictionaries\n",
        "\n",
        "Let’s check the signature of the `dict` function, which creates a dictionary:"
      ]
    },
    {
      "cell_type": "code",
      "execution_count": null,
      "metadata": {
        "id": "U2DnswzfzFbA"
      },
      "outputs": [],
      "source": [
        "dict?"
      ]
    },
    {
      "cell_type": "markdown",
      "metadata": {
        "id": "BkPkY-Hgz4Og"
      },
      "source": [
        "Using the technique we just learned, we can merge two dictionaries:"
      ]
    },
    {
      "cell_type": "code",
      "execution_count": null,
      "metadata": {
        "id": "SDrPwDROz3zY"
      },
      "outputs": [],
      "source": [
        "d1 = {\"a\": 1, \"b\": 2}\n",
        "d2 = {\"abc\": -1}\n",
        "d3 = {\"b\": 13, \"abc\": -1}"
      ]
    },
    {
      "cell_type": "code",
      "execution_count": null,
      "metadata": {
        "id": "uLyj-vAnxv_r"
      },
      "outputs": [],
      "source": [
        "dict(**d1, **d2)"
      ]
    },
    {
      "cell_type": "code",
      "execution_count": null,
      "metadata": {
        "id": "GK_UzGaE0NOv"
      },
      "outputs": [],
      "source": [
        "# Won't work\n",
        "dict(**d1, **d3)"
      ]
    },
    {
      "cell_type": "code",
      "execution_count": null,
      "metadata": {
        "id": "lVvvrtnh0hcD"
      },
      "outputs": [],
      "source": [
        "# And this is working\n",
        "{**d1, **d3}"
      ]
    },
    {
      "cell_type": "code",
      "execution_count": null,
      "metadata": {
        "id": "ER8h-Q7R0pLn"
      },
      "outputs": [],
      "source": [
        "# But order matters\n",
        "{**d3, **d1}"
      ]
    },
    {
      "cell_type": "markdown",
      "metadata": {
        "id": "Ha_TMD4k3g5B"
      },
      "source": [
        "## Exercise\n",
        "\n",
        "Create a function `filter_records` that filters records in an employee table based on the provided conditions."
      ]
    },
    {
      "cell_type": "code",
      "execution_count": null,
      "metadata": {
        "id": "ImqX5iI70s_4"
      },
      "outputs": [],
      "source": [
        "employees = [\n",
        "    {\"first_name\": \"Jan\", \"last_name\": \"Kowalski\", \"position\": \"Data Engineer\"},\n",
        "    {\"first_name\": \"Jan\", \"last_name\": \"Nowak\", \"position\": \"Data Analyst\"},\n",
        "    {\"first_name\": \"Janina\", \"last_name\": \"Nowak\", \"position\": \"Data Engineer\"},\n",
        "    {\"first_name\": \"Anna\", \"last_name\": \"Wiśniewska\", \"position\": \"Data Scientist\"},\n",
        "    {\"first_name\": \"Piotr\", \"last_name\": \"Lewandowski\", \"position\": \"Data Scientist\"},\n",
        "    {\"first_name\": \"Katarzyna\", \"last_name\": \"Zielińska\", \"position\": \"Actuary\"},\n",
        "    {\"first_name\": \"Marek\", \"last_name\": \"Kaczmarek\", \"position\": \"Actuary\"},\n",
        "    {\"first_name\": \"Magdalena\", \"last_name\": \"Wójcik\", \"position\": \"Data Scientist\"},\n",
        "]\n"
      ]
    },
    {
      "cell_type": "markdown",
      "metadata": {
        "id": "6KEcTUJC6l8A"
      },
      "source": [
        "For example:\n",
        "\n",
        "`filter_records(employees, first_name=\"Jan\", last_name=\"Nowak\")`\n",
        "\n",
        "will return:\n",
        "\n",
        "`[{\"first_name\": \"Jan\", \"last_name\": \"Nowak\", \"position\": \"Data Analyst\"}]`\n",
        "\n",
        "\n"
      ]
    },
    {
      "cell_type": "code",
      "execution_count": null,
      "metadata": {
        "id": "dlEsQwsn7E0G"
      },
      "outputs": [],
      "source": [
        "# PLACEHOLDER FOR SOLUTION"
      ]
    },
    {
      "cell_type": "code",
      "execution_count": null,
      "metadata": {
        "cellView": "form",
        "id": "37DwVOPZ4R_l"
      },
      "outputs": [],
      "source": [
        "# SOLUTION\n",
        "\n",
        "def filter_records(employees, **kwargs):\n",
        "    return [\n",
        "        employee\n",
        "        for employee in employees\n",
        "        if all(employee[key] == value for key, value in kwargs.items())\n",
        "    ]\n"
      ]
    },
    {
      "cell_type": "code",
      "execution_count": null,
      "metadata": {
        "id": "KFGljSgA7KjJ"
      },
      "outputs": [],
      "source": [
        "filter_records(employees, first_name=\"Jan\", last_name=\"Nowak\")"
      ]
    },
    {
      "cell_type": "markdown",
      "metadata": {
        "id": "Cd37O_QG_RC4"
      },
      "source": [
        "# Functions that return multiple values"
      ]
    },
    {
      "cell_type": "markdown",
      "metadata": {
        "id": "aX_BDtgaBa5g"
      },
      "source": [
        "We will create a function that returns the minimum and maximum for the given input arguments:"
      ]
    },
    {
      "cell_type": "code",
      "execution_count": null,
      "metadata": {
        "id": "lYk2O4OB8ot5"
      },
      "outputs": [],
      "source": [
        "def min_max(*args):\n",
        "  return min(args), max(args)"
      ]
    },
    {
      "cell_type": "code",
      "execution_count": null,
      "metadata": {
        "id": "RW4zETP9_XKk"
      },
      "outputs": [],
      "source": [
        "min_, max_ = min_max(1, 2, 3, 4, 5)"
      ]
    },
    {
      "cell_type": "code",
      "execution_count": null,
      "metadata": {
        "id": "I3qclnmpB4Za"
      },
      "outputs": [],
      "source": [
        "min_, max_"
      ]
    },
    {
      "cell_type": "markdown",
      "metadata": {
        "id": "aXNwCr40DQHZ"
      },
      "source": [
        "Exercise\n",
        "\n",
        "Create a function that, for any named arguments, returns the name and value of the argument with the lowest value."
      ]
    },
    {
      "cell_type": "code",
      "execution_count": null,
      "metadata": {
        "id": "rFqI5MYJ_aDS"
      },
      "outputs": [],
      "source": [
        "# PLACEHOLDER FOR SOLUTION"
      ]
    },
    {
      "cell_type": "code",
      "execution_count": null,
      "metadata": {
        "cellView": "form",
        "id": "K3mcW0dgDmv6"
      },
      "outputs": [],
      "source": [
        "# SOLUTION\n",
        "def minimum(**kwargs):\n",
        "    if len(kwargs) == 0:\n",
        "        return None\n",
        "    min_value = float(\"inf\")\n",
        "    for name, value in kwargs.items():\n",
        "        if value < min_value:\n",
        "            min_value = value\n",
        "            min_name = name\n",
        "    return min_name, min_value"
      ]
    },
    {
      "cell_type": "code",
      "execution_count": null,
      "metadata": {
        "id": "1PokQbyGD_4E"
      },
      "outputs": [],
      "source": [
        "minimum(a=1, b=25, c=-1)"
      ]
    },
    {
      "cell_type": "markdown",
      "metadata": {
        "id": "e0ZpCvPvGwpA"
      },
      "source": [
        "# Enforcing the use of positional and named function arguments"
      ]
    },
    {
      "cell_type": "markdown",
      "metadata": {
        "id": "0p4G2FFxHAcf"
      },
      "source": [
        "Let’s analyze the following function definition:"
      ]
    },
    {
      "cell_type": "code",
      "execution_count": null,
      "metadata": {
        "id": "WdW8bIEKGwKa"
      },
      "outputs": [],
      "source": [
        "def function(first_name, last_name, /, position, *, company):\n",
        "    print(first_name, last_name, position, company)"
      ]
    },
    {
      "cell_type": "markdown",
      "metadata": {
        "id": "6y_DVM7VHdOS"
      },
      "source": [
        "How can we call this function? Let’s try a few ways:"
      ]
    },
    {
      "cell_type": "code",
      "execution_count": null,
      "metadata": {
        "id": "HVcevoHiED4Z"
      },
      "outputs": [],
      "source": [
        "# positional arguments\n",
        "function(\"Janina\", \"Nowak\", \"Data Engineer\", \"ASEC\")"
      ]
    },
    {
      "cell_type": "code",
      "execution_count": null,
      "metadata": {
        "id": "2Vu5xmDaH0I4"
      },
      "outputs": [],
      "source": [
        "# keyword arguments\n",
        "function(first_name=\"Janina\", last_name=\"Nowak\", position=\"Data Engineer\", company=\"ASEC\")\n"
      ]
    },
    {
      "cell_type": "code",
      "execution_count": null,
      "metadata": {
        "id": "KBZS4qcZIHPt"
      },
      "outputs": [],
      "source": [
        "# arguments before / must be positional\n",
        "# arguments after * must be keyword arguments\n",
        "# arguments in between can be passed either way\n",
        "function(\"Janina\", \"Nowak\", position=\"Data Engineer\", company=\"ASEC\")\n"
      ]
    },
    {
      "cell_type": "code",
      "execution_count": null,
      "metadata": {
        "id": "FJi79_pxId12"
      },
      "outputs": [],
      "source": [
        "# also works:\n",
        "function(\"Janina\", \"Nowak\", \"Data Engineer\", company=\"ASEC\")"
      ]
    },
    {
      "cell_type": "markdown",
      "metadata": {
        "id": "V5FbT4tQI2Wg"
      },
      "source": [
        "Note:\n",
        "\n",
        "`/` and `*` can be used together, but they don’t have to be. That is, the following definitions are also correct (but behave differently):"
      ]
    },
    {
      "cell_type": "code",
      "execution_count": null,
      "metadata": {
        "id": "iMhEVcfQIiun"
      },
      "outputs": [],
      "source": [
        "# first_name, last_name must be passed as positional arguments\n",
        "def function(first_name, last_name, /, position, company):\n",
        "    print(first_name, last_name, position, company)\n"
      ]
    },
    {
      "cell_type": "code",
      "execution_count": null,
      "metadata": {
        "id": "Q0TtUyAjJplf"
      },
      "outputs": [],
      "source": [
        "# position, company must be passed as keyword arguments\n",
        "def function(first_name, last_name, *, position, company):\n",
        "    print(first_name, last_name, position, company)\n"
      ]
    },
    {
      "cell_type": "markdown",
      "metadata": {
        "id": "chyw2elcKaAw"
      },
      "source": [
        "# `namespaces` and `nested functions`\n",
        "\n",
        "Docs:\n",
        "1. https://realpython.com/python-namespaces-scope/"
      ]
    },
    {
      "cell_type": "markdown",
      "metadata": {
        "id": "C94nGeHYMEky"
      },
      "source": [
        "## Local Namespace\n",
        "\n",
        "To explain this concept, let’s use an example:"
      ]
    },
    {
      "cell_type": "code",
      "execution_count": null,
      "metadata": {
        "id": "l5c_5z8HKZku"
      },
      "outputs": [],
      "source": [
        "input_variable = 1\n",
        "variable_outside_function = 2\n",
        "\n",
        "def function(parameter):\n",
        "    local_variable = parameter\n",
        "    print(\"variable_outside_function\", variable_outside_function)\n",
        "    print(\"local_variable\", local_variable)\n",
        "    # ! This will NOT work if uncommented\n",
        "    # variable_outside_function += 1\n",
        "\n",
        "variable_outside_function += 1\n",
        "function(input_variable)\n",
        "\n",
        "# ! Attempting to access the function's local scope – will NOT work if uncommented\n",
        "# local_variable\n"
      ]
    },
    {
      "cell_type": "code",
      "execution_count": null,
      "metadata": {
        "id": "pGEh8IZndK4K"
      },
      "outputs": [],
      "source": [
        "variable_outside_function"
      ]
    },
    {
      "cell_type": "markdown",
      "metadata": {
        "id": "wT9IAP4OMGn3"
      },
      "source": [
        "## Global Namespace\n",
        "\n",
        "We can declare a global variable, which is created in the global namespace. Let’s see how it works with an example:"
      ]
    },
    {
      "cell_type": "code",
      "execution_count": null,
      "metadata": {
        "id": "6VR8bAJ9JrtT"
      },
      "outputs": [],
      "source": [
        "def function():\n",
        "  global x\n",
        "  x = 10\n",
        "  print(x)\n"
      ]
    },
    {
      "cell_type": "code",
      "execution_count": null,
      "metadata": {
        "id": "fxsz8KmMd_t1"
      },
      "outputs": [],
      "source": [
        "function()"
      ]
    },
    {
      "cell_type": "code",
      "execution_count": null,
      "metadata": {
        "id": "8W5r7Re-d9SL"
      },
      "outputs": [],
      "source": [
        "x"
      ]
    },
    {
      "cell_type": "markdown",
      "metadata": {
        "id": "lTkHQZNGe8LE"
      },
      "source": [
        "Using global variables is not recommended!"
      ]
    },
    {
      "cell_type": "markdown",
      "metadata": {
        "id": "P67wYMURMLiX"
      },
      "source": [
        "## Nested Functions\n",
        "\n",
        "We can declare nested functions inside other functions.\n",
        "\n",
        "Let’s use an example – we will declare a function that calculates a bonus based on an employee’s annual review, current salary, and job grade:"
      ]
    },
    {
      "cell_type": "code",
      "execution_count": null,
      "metadata": {
        "id": "b_WiM33qfJI3"
      },
      "outputs": [],
      "source": [
        "def calculate_bonus(annual_review, annual_salary, grade):\n",
        "    bonus_factor = 1 / 20\n",
        "\n",
        "    def base_bonus():\n",
        "        return annual_salary * grade * bonus_factor\n",
        "\n",
        "    def review_multiplier():\n",
        "        return 2 if annual_review == 5 else 1\n",
        "\n",
        "    return base_bonus() * review_multiplier()\n"
      ]
    },
    {
      "cell_type": "code",
      "execution_count": null,
      "metadata": {
        "id": "ME6jtDCPMKoR"
      },
      "outputs": [],
      "source": [
        "calculate_bonus(4, 12 * 10000, 2)"
      ]
    },
    {
      "cell_type": "markdown",
      "metadata": {
        "id": "Ylt5W3bfie7r"
      },
      "source": [
        "The local scope of variables applies separately at each level of function nesting.\n",
        "\n",
        "We can use the `nonlocal` keyword to overwrite a variable from an outer namespace (we won’t cover this here)."
      ]
    },
    {
      "cell_type": "markdown",
      "metadata": {
        "id": "Cs7853yajt-X"
      },
      "source": [
        "# Mutable Objects as Function Arguments\n",
        "\n",
        "This time, we will also use an example:"
      ]
    },
    {
      "cell_type": "code",
      "execution_count": null,
      "metadata": {
        "id": "QRjNNp0ujtej"
      },
      "outputs": [],
      "source": [
        "last_name = \"Nowak\"\n",
        "\n",
        "def change_last_name(last_name):\n",
        "    last_name = \"Kowalski\"\n",
        "    return last_name\n"
      ]
    },
    {
      "cell_type": "code",
      "execution_count": null,
      "metadata": {
        "id": "KOogjOE4iFTc"
      },
      "outputs": [],
      "source": [
        "change_last_name(last_name)"
      ]
    },
    {
      "cell_type": "code",
      "execution_count": null,
      "metadata": {
        "id": "H4DOdG4fkRBN"
      },
      "outputs": [],
      "source": [
        "last_name"
      ]
    },
    {
      "cell_type": "markdown",
      "metadata": {
        "id": "mthoEt8SkvZ5"
      },
      "source": [
        "This time, we will replace the `string` with a `dictionary`:"
      ]
    },
    {
      "cell_type": "code",
      "execution_count": null,
      "metadata": {
        "id": "3pCw1wGfku-r"
      },
      "outputs": [],
      "source": [
        "employee_data = {\"first_name\": \"Jan\", \"last_name\": \"Nowak\"}\n",
        "\n",
        "def change_last_name_2(data):\n",
        "    # update the dictionary\n",
        "    data[\"last_name\"] = \"Kowalski\"\n",
        "    return data\n"
      ]
    },
    {
      "cell_type": "code",
      "execution_count": null,
      "metadata": {
        "id": "6g_vBoGZkaj5"
      },
      "outputs": [],
      "source": [
        "employee_data"
      ]
    },
    {
      "cell_type": "code",
      "execution_count": null,
      "metadata": {
        "id": "4io-cat0lTzB"
      },
      "outputs": [],
      "source": [
        "change_last_name_2(employee_data)"
      ]
    },
    {
      "cell_type": "code",
      "execution_count": null,
      "metadata": {
        "id": "43pR4XgTlYHq"
      },
      "outputs": [],
      "source": [
        "employee_data"
      ]
    },
    {
      "cell_type": "markdown",
      "metadata": {
        "id": "1GOJ8zcMnBP8"
      },
      "source": [
        "What happens if, instead of updating the dictionary, we create a new one?"
      ]
    },
    {
      "cell_type": "code",
      "execution_count": null,
      "metadata": {
        "id": "q9-bDezFnAOL"
      },
      "outputs": [],
      "source": [
        "employee_data = {\"first_name\": \"Jan\", \"last_name\": \"Nowak\"}\n",
        "\n",
        "def change_last_name_2(data):\n",
        "    # create a new dictionary\n",
        "    data = {\"first_name\": \"Jan\", \"last_name\": \"Kowalski\"}\n",
        "    return data\n"
      ]
    },
    {
      "cell_type": "code",
      "execution_count": null,
      "metadata": {
        "id": "USE2zGoenXRX"
      },
      "outputs": [],
      "source": [
        "change_last_name_2(employee_data)"
      ]
    },
    {
      "cell_type": "code",
      "execution_count": null,
      "metadata": {
        "id": "u-bBWL7bnSOV"
      },
      "outputs": [],
      "source": [
        "employee_data"
      ]
    },
    {
      "cell_type": "markdown",
      "metadata": {
        "id": "I-O69QId-F6o"
      },
      "source": [
        "In Python, the argument-passing mechanism is described as Pass By Object Reference. This means that a reference to the object is passed by value. For immutable types (e.g., int), modification actually creates a new object. For mutable objects, a new object is not created. However, we can explicitly create a new object (using the same name doesn’t matter). In that case, we operate on separate objects independently.\n",
        "\n",
        "Additional explanation:\n",
        "https://python.plainenglish.io/pass-by-object-reference-in-python-79a8d92dc493\n",
        "\n",
        "Additional resources:\n",
        "\n",
        "https://docs.python-guide.org/writing/gotchas/#mutable-default-arguments\n",
        "\n",
        "https://www.geeksforgeeks.org/use-mutable-default-value-as-an-argument-in-python/"
      ]
    },
    {
      "cell_type": "markdown",
      "metadata": {
        "id": "ovBxOvlT_7mG"
      },
      "source": [
        "## Exercise\n",
        "\n",
        "Write a function that has two input arguments:\n",
        "\n",
        "A list of employees\n",
        "\n",
        "A new employee\n",
        "\n",
        "Without using the `return` statement, create a function that adds the new employee to the list."
      ]
    },
    {
      "cell_type": "code",
      "execution_count": null,
      "metadata": {
        "id": "ehFDm4JMAWAo"
      },
      "outputs": [],
      "source": [
        "employees = [\n",
        "    (\"Jan\", \"Kowalski\", \"Data Engineer\"),\n",
        "    (\"Janina\", \"Nowak\", \"Data Analyst\"),\n",
        "]\n",
        "new_employee = (\"Katarzyna\", \"Nowak\", \"Data Engineer\")\n"
      ]
    },
    {
      "cell_type": "code",
      "execution_count": null,
      "metadata": {
        "id": "qvlLnwbV_2ue"
      },
      "outputs": [],
      "source": [
        "# PLACEHOLDER FOR SOLUTION"
      ]
    },
    {
      "cell_type": "code",
      "execution_count": null,
      "metadata": {
        "cellView": "form",
        "id": "EM2Y5lyP-FWo"
      },
      "outputs": [],
      "source": [
        "# @title Podpowiedź\n",
        "\n",
        "def add_employee(employees, new_employee):\n",
        "    employees.append(new_employee)\n",
        "\n",
        "add_employee(employees, new_employee)\n",
        "employees"
      ]
    },
    {
      "cell_type": "markdown",
      "metadata": {
        "id": "RKIn9p3TGRc9"
      },
      "source": [
        "## A digression on mutability\n",
        "\n",
        "Docs:\n",
        "1. https://docs.python.org/3/library/copy.html\n",
        "2. https://realpython.com/copying-python-objects/"
      ]
    },
    {
      "cell_type": "markdown",
      "metadata": {
        "id": "SAMocOolBLPg"
      },
      "source": [
        "## Puzzle\n",
        "\n",
        "What will be the contents of the list `basket_a`? What will be the contents of the list `basket_b`?"
      ]
    },
    {
      "cell_type": "code",
      "execution_count": null,
      "metadata": {
        "id": "vhM-3-R6Bupm"
      },
      "outputs": [],
      "source": [
        "basket_a = []\n",
        "\n",
        "basket_b = basket_a\n",
        "\n",
        "basket_a.extend([\"Bread\", \"Butter\", \"Cheese\"])\n",
        "basket_b.extend([\"Beer\", \"Instant noodles\"])\n"
      ]
    },
    {
      "cell_type": "code",
      "execution_count": null,
      "metadata": {
        "cellView": "form",
        "id": "tk5qx21KA9FG"
      },
      "outputs": [],
      "source": [
        "# @title Spoiler\n",
        "print(basket_a)\n",
        "print(basket_b)"
      ]
    },
    {
      "cell_type": "markdown",
      "metadata": {
        "id": "pne68kLa8w2P"
      },
      "source": [
        "Explanation\n",
        "\n",
        "`basket_a` and `basket_b` point to the same object in memory:"
      ]
    },
    {
      "cell_type": "code",
      "execution_count": null,
      "metadata": {
        "id": "cNGhog4G8wNG"
      },
      "outputs": [],
      "source": [
        "id(basket_a) == id(basket_b)"
      ]
    },
    {
      "cell_type": "markdown",
      "metadata": {
        "id": "jCpahah0C1mR"
      },
      "source": [
        "We want to fix this!\n",
        "\n",
        "Puzzle 2"
      ]
    },
    {
      "cell_type": "code",
      "execution_count": null,
      "metadata": {
        "id": "onAmn9a1DFKk"
      },
      "outputs": [],
      "source": [
        "from copy import copy\n",
        "\n",
        "basket_a = []\n",
        "\n",
        "basket_b = copy(basket_a)\n",
        "\n",
        "basket_a.extend([\"Bread\", \"Butter\", \"Cheese\"])\n",
        "basket_b.extend([\"Beer\", \"Instant noodles\"])\n"
      ]
    },
    {
      "cell_type": "code",
      "execution_count": null,
      "metadata": {
        "id": "f1ePmZ0DDTFT"
      },
      "outputs": [],
      "source": [
        "# @title Spoiler\n",
        "\n",
        "print(basket_a)\n",
        "print(basket_b)"
      ]
    },
    {
      "cell_type": "markdown",
      "metadata": {
        "id": "U-QDt5fW9gYM"
      },
      "source": [
        "Explanation:"
      ]
    },
    {
      "cell_type": "code",
      "execution_count": null,
      "metadata": {
        "id": "M-fJcw8c9fQA"
      },
      "outputs": [],
      "source": [
        "id(basket_a) == id(basket_b)"
      ]
    },
    {
      "cell_type": "markdown",
      "metadata": {
        "id": "HF72Mn7KEc_b"
      },
      "source": [
        "Puzzle 3\n",
        "\n",
        "We have a basket of products:"
      ]
    },
    {
      "cell_type": "code",
      "execution_count": null,
      "metadata": {
        "id": "8V4XoaVmEoBX"
      },
      "outputs": [],
      "source": [
        "basket_a = [\n",
        "    {\"name\": \"Bread\", \"price\": 1.69},\n",
        "    {\"name\": \"Instant noodles\", \"price\": 3.99},\n",
        "]\n",
        "\n",
        "basket_b = copy(basket_a)\n",
        "\n",
        "# Update the price of the bread:\n",
        "basket_a[0][\"price\"] = 2.99\n"
      ]
    },
    {
      "cell_type": "markdown",
      "metadata": {
        "id": "--M_pz9TFLFU"
      },
      "source": [
        "What is the value of `basket_b[0][\"price\"]`?"
      ]
    },
    {
      "cell_type": "code",
      "execution_count": null,
      "metadata": {
        "id": "H5ayNX0aFPiC"
      },
      "outputs": [],
      "source": [
        "# @title Spoiler\n",
        "\n",
        "basket_b[0][\"price\"]"
      ]
    },
    {
      "cell_type": "markdown",
      "metadata": {
        "id": "6pSVSm98-qXR"
      },
      "source": [
        "`copy` copies the references when creating a new object:"
      ]
    },
    {
      "cell_type": "code",
      "execution_count": null,
      "metadata": {
        "id": "WiMBwjmj-eNQ"
      },
      "outputs": [],
      "source": [
        "id(basket_a) == id(basket_b)"
      ]
    },
    {
      "cell_type": "markdown",
      "metadata": {
        "id": "MToNjB1e-pJD"
      },
      "source": [
        "Copied references:"
      ]
    },
    {
      "cell_type": "code",
      "execution_count": null,
      "metadata": {
        "id": "bzx6uhqO-h3e"
      },
      "outputs": [],
      "source": [
        "id(basket_a[0]) == id(basket_b[0])"
      ]
    },
    {
      "cell_type": "markdown",
      "metadata": {
        "id": "NDOXKUKAF65k"
      },
      "source": [
        "How can we deal with this?"
      ]
    },
    {
      "cell_type": "code",
      "execution_count": null,
      "metadata": {
        "id": "PiqpPMxdFkXJ"
      },
      "outputs": [],
      "source": [
        "from copy import deepcopy\n",
        "\n",
        "basket_a = [\n",
        "    {\"name\": \"Bread\", \"price\": 1.69},\n",
        "    {\"name\": \"Instant noodles\", \"price\": 3.99},\n",
        "]\n",
        "\n",
        "basket_b = deepcopy(basket_a)\n",
        "\n",
        "# Update the price of the bread:\n",
        "basket_a[0][\"price\"] = 0.99\n"
      ]
    },
    {
      "cell_type": "code",
      "execution_count": null,
      "metadata": {
        "id": "lagZczV4Ft8P"
      },
      "outputs": [],
      "source": [
        "basket_b[0][\"price\"]"
      ]
    },
    {
      "cell_type": "markdown",
      "metadata": {
        "id": "yv4TMldC-_7-"
      },
      "source": [
        "This time this is completly new object"
      ]
    },
    {
      "cell_type": "code",
      "execution_count": null,
      "metadata": {
        "id": "yvBDGMw1_Equ"
      },
      "outputs": [],
      "source": [
        "id(basket_a[0]) == id(basket_b[0])"
      ]
    },
    {
      "cell_type": "markdown",
      "metadata": {
        "id": "jnDE3icu_KEv"
      },
      "source": [
        "Explanation for this behavior:\n",
        "1. Saves RAM (memory efficiency)\n",
        "2. Copying references is faster than creating new objects"
      ]
    },
    {
      "cell_type": "markdown",
      "metadata": {
        "id": "HM3PR-aMGk5i"
      },
      "source": [
        "## Best Practices for Default Values ​​for Mutable Objects\n",
        "\n",
        "Let's start with bad practices and the problems they cause:"
      ]
    },
    {
      "cell_type": "code",
      "execution_count": null,
      "metadata": {
        "id": "4d3wDP3yGkqq"
      },
      "outputs": [],
      "source": [
        "# WARNING: anti-example!\n",
        "def add_employee(new_employee, employees=[]):\n",
        "  print(id(employees))\n",
        "  employees.append(new_employee)\n",
        "  return employees"
      ]
    },
    {
      "cell_type": "code",
      "execution_count": null,
      "metadata": {
        "id": "n2U7VMlyI3FB"
      },
      "outputs": [],
      "source": [
        "add_employee((\"Jan\", \"Kowalski\", \"Data Engineer\"))"
      ]
    },
    {
      "cell_type": "code",
      "execution_count": null,
      "metadata": {
        "id": "dzMw2PrlI4ub"
      },
      "outputs": [],
      "source": [
        "add_employee((\"Janina\", \"Kowalska\", \"Data Engineer\"))"
      ]
    },
    {
      "cell_type": "code",
      "execution_count": null,
      "metadata": {
        "id": "t7Uogx0QI85q"
      },
      "outputs": [],
      "source": [
        "add_employee((\"Jan\", \"Nowak\", \"Data Analyst\"), [\n",
        "(\"Paweł\", \"Nowak\", \"Data Engineer\"),\n",
        "(\"Paulina\", \"Nowak\", \"Data Engineer\"),\n",
        "])"
      ]
    },
    {
      "cell_type": "code",
      "execution_count": null,
      "metadata": {
        "id": "NetWKsOHlZ0i"
      },
      "outputs": [],
      "source": [
        "add_employee((\"Zofia\", \"Mickiewicz\", \"Manager\"))"
      ]
    },
    {
      "cell_type": "markdown",
      "metadata": {
        "id": "nn6NczcTEmTH"
      },
      "source": [
        "A good practice is to assign the value `None` as the default and then create a new object with the expected value, as in the following example:"
      ]
    },
    {
      "cell_type": "code",
      "execution_count": null,
      "metadata": {
        "id": "p76eGVcSElz1"
      },
      "outputs": [],
      "source": [
        "def add_employee(new_employee, employees=None):\n",
        "  print(\"#1: \", id(employees))\n",
        "  if employees is None:\n",
        "    employees = []\n",
        "  print(\"#2: \", id(employees))\n",
        "  employees.append(new_employee)\n",
        "  return employees"
      ]
    },
    {
      "cell_type": "code",
      "execution_count": null,
      "metadata": {
        "id": "2hhsJa5yEpbL"
      },
      "outputs": [],
      "source": [
        "add_employee((\"Jan\", \"Kowalski\", \"Data Engineer\"))"
      ]
    },
    {
      "cell_type": "code",
      "execution_count": null,
      "metadata": {
        "id": "Xo2wQ-k2Ez5m"
      },
      "outputs": [],
      "source": [
        "add_employee((\"Janina\", \"Kowalska\", \"Data Engineer\"))"
      ]
    },
    {
      "cell_type": "code",
      "execution_count": null,
      "metadata": {
        "id": "q7d43fRzE13G"
      },
      "outputs": [],
      "source": [
        "add_employee((\"Jan\", \"Nowak\", \"Data Analyst\"), [\n",
        "(\"Paweł\", \"Nowak\", \"Data Engineer\"),\n",
        "(\"Paulina\", \"Nowak\", \"Data Engineer\"),\n",
        "])"
      ]
    },
    {
      "cell_type": "code",
      "execution_count": null,
      "metadata": {
        "id": "_W3Mwa9QE30L"
      },
      "outputs": [],
      "source": [
        "add_employee((\"Jan\", \"Nowak\", \"Data Analyst\"), [\n",
        "(\"Paweł\", \"Nowak\", \"Data Engineer\"),\n",
        "(\"Paulina\", \"Nowak\", \"Data Engineer\"),\n",
        "])"
      ]
    },
    {
      "cell_type": "code",
      "execution_count": null,
      "metadata": {
        "id": "9yD6XMU4E5hQ"
      },
      "outputs": [],
      "source": [
        "add_employee((\"Zofia\", \"Mickiewicz\", \"Manager\"))"
      ]
    },
    {
      "cell_type": "markdown",
      "metadata": {
        "id": "QmZ70-9KRBao"
      },
      "source": [
        "# Higher order functions\n",
        "Docs:\n",
        "1. https://docs.python.org/3/library/functools.html\n",
        "2. https://www.geeksforgeeks.org/higher-order-functions-in-python/\n",
        "\n",
        "Functions in Python are objects. This means we can pass them around just like any other argument!"
      ]
    },
    {
      "cell_type": "markdown",
      "metadata": {
        "id": "hK-TV5BDS9ge"
      },
      "source": [
        "Let's use a simple example. We're given a list of bonuses:"
      ]
    },
    {
      "cell_type": "code",
      "execution_count": null,
      "metadata": {
        "id": "U80_-GKcRqAd"
      },
      "outputs": [],
      "source": [
        "bonuses = [10000, 20000, 5000, 3000]"
      ]
    },
    {
      "cell_type": "markdown",
      "metadata": {
        "id": "o5U047gwTGaI"
      },
      "source": [
        "We can sort the list as follows:"
      ]
    },
    {
      "cell_type": "code",
      "execution_count": null,
      "metadata": {
        "id": "ogtM9LH8Rwgm"
      },
      "outputs": [],
      "source": [
        "bonuses.sort()"
      ]
    },
    {
      "cell_type": "code",
      "execution_count": null,
      "metadata": {
        "id": "LV7ThcHDR32d"
      },
      "outputs": [],
      "source": [
        "bonuses"
      ]
    },
    {
      "cell_type": "markdown",
      "metadata": {
        "id": "HeATAeyGTLWE"
      },
      "source": [
        "What happens if our list becomes more complicated?"
      ]
    },
    {
      "cell_type": "code",
      "execution_count": null,
      "metadata": {
        "id": "nxqF7T03R6PQ"
      },
      "outputs": [],
      "source": [
        "bonuses = [\n",
        "{\"position\": \"Data Engineer\", \"bonus\": 10000},\n",
        "{\"position\": \"Data Analyst\", \"bonus\": 20000},\n",
        "{\"position\": \"Manager\", \"bonus\": 5000},\n",
        "{\"position\": \"Intern\", \"bonus\": 3000},\n",
        "]"
      ]
    },
    {
      "cell_type": "code",
      "execution_count": null,
      "metadata": {
        "id": "1q_LUZYmSSsm"
      },
      "outputs": [],
      "source": [
        "bonuses.sort()"
      ]
    },
    {
      "cell_type": "markdown",
      "metadata": {
        "id": "lvGfDROTTUBH"
      },
      "source": [
        "The `sort` method accepts an additional parameter, `key`. This allows you to pass a function to be used for sorting:"
      ]
    },
    {
      "cell_type": "code",
      "execution_count": null,
      "metadata": {
        "id": "Lu1MOrZTSZU1"
      },
      "outputs": [],
      "source": [
        "def bonus_sort_key(bonus):\n",
        "  return bonus[\"bonus\"]"
      ]
    },
    {
      "cell_type": "code",
      "execution_count": null,
      "metadata": {
        "id": "FroD4m2cSoLt"
      },
      "outputs": [],
      "source": [
        "bonuses.sort(key=bonus_sort_key)"
      ]
    },
    {
      "cell_type": "code",
      "execution_count": null,
      "metadata": {
        "id": "B31DSWxMSs5n"
      },
      "outputs": [],
      "source": [
        "bonuses"
      ]
    },
    {
      "cell_type": "markdown",
      "metadata": {
        "id": "zmVKe2yxS3KC"
      },
      "source": [
        "Exercise\n",
        "\n",
        "Sort the items in the bonus list by job title."
      ]
    },
    {
      "cell_type": "code",
      "execution_count": null,
      "metadata": {
        "id": "1cUGsk__TvmB"
      },
      "outputs": [],
      "source": [
        "# PLACEHOLDER FOR SOLUTION"
      ]
    },
    {
      "cell_type": "code",
      "execution_count": null,
      "metadata": {},
      "outputs": [],
      "source": [
        "# SOLUTION\n",
        "def position_sort_key(bonus):\n",
        "  return bonus[\"position\"]\n",
        "\n",
        "bonuses.sort(key=position_sort_key)\n",
        "\n",
        "bonuses"
      ]
    },
    {
      "cell_type": "markdown",
      "metadata": {
        "id": "_zlBXWP1Iq7g"
      },
      "source": [
        "# Decorators\n",
        "\n",
        "Docs:\n",
        "1. https://realpython.com/primer-on-python-decorators/\n",
        "2. https://docs.python.org/3/glossary.html#term-decorator\n",
        "\n",
        "\n",
        "Let's assume we want our functions to have common properties. However, we don't want to duplicate code. A common pattern in such cases is the decorator.\n",
        "\n",
        "Let's use an example. We want to measure the execution time of the `filter` and `average_age` functions:"
      ]
    },
    {
      "cell_type": "code",
      "execution_count": null,
      "metadata": {
        "id": "TisSUponLZoc"
      },
      "outputs": [],
      "source": [
        "data = [\n",
        "{\"name\": \"Jan\", \"surname\": \"Kowalski\", \"age\": 30},\n",
        "{\"name\": \"Janina\", \"surname\": \"Nowak\", \"age\": 25},\n",
        "{\"name\": \"Zofia\", \"surname\": \"Mickiewicz\", \"age\": 17},\n",
        "]\n",
        "\n",
        "def filter(data):\n",
        "  result = []\n",
        "  for record in data:\n",
        "    if record[\"age\"] >= 18:\n",
        "      result.append(record)\n",
        "  return result\n",
        "\n",
        "def average_age(data):\n",
        "  sum = 0\n",
        "  for record in data:\n",
        "    sum += record[\"age\"]\n",
        "  return sum / len(data)"
      ]
    },
    {
      "cell_type": "markdown",
      "metadata": {
        "id": "DYMPLEHZMxQa"
      },
      "source": [
        "Without using decorators, our code would look like this:"
      ]
    },
    {
      "cell_type": "code",
      "execution_count": null,
      "metadata": {
        "id": "NdH97qI0MMnN"
      },
      "outputs": [],
      "source": [
        "from time import time\n",
        "\n",
        "start_filter = time()\n",
        "data = filter(data)\n",
        "print(time() - start_filter)\n",
        "\n",
        "start_average_age = time()\n",
        "result = average_age(data)\n",
        "print(time() - start_average_age)\n",
        "print(result)"
      ]
    },
    {
      "cell_type": "markdown",
      "metadata": {
        "id": "7l1tQt_-M45U"
      },
      "source": [
        "Let's fix it!"
      ]
    },
    {
      "cell_type": "code",
      "execution_count": null,
      "metadata": {},
      "outputs": [],
      "source": [
        "def measure_time(function):\n",
        "    def wrapper(*args, **kwargs):\n",
        "        start = time()\n",
        "        result = function(*args, **kwargs)\n",
        "        print(time() - start)\n",
        "        return result\n",
        "    return wrapper"
      ]
    },
    {
      "cell_type": "markdown",
      "metadata": {
        "id": "t_wjI9M4kXWE"
      },
      "source": [
        "We could call our function as in the example below:"
      ]
    },
    {
      "cell_type": "code",
      "execution_count": null,
      "metadata": {
        "id": "wcK54yC7kBhr"
      },
      "outputs": [],
      "source": [
        "measure_time(filter)(data)"
      ]
    },
    {
      "cell_type": "markdown",
      "metadata": {
        "id": "JrN4-mLrkkMC"
      },
      "source": [
        "Or create a new function to avoid duplicate code:"
      ]
    },
    {
      "cell_type": "code",
      "execution_count": null,
      "metadata": {
        "id": "a-GxUfq_koYa"
      },
      "outputs": [],
      "source": [
        "def measure_filter(data):\n",
        "  return measure_time(filter)(data)"
      ]
    },
    {
      "cell_type": "code",
      "execution_count": null,
      "metadata": {
        "id": "ui2DOnylk44A"
      },
      "outputs": [],
      "source": [
        "measure_filter(data)"
      ]
    },
    {
      "cell_type": "markdown",
      "metadata": {
        "id": "iie8msDLNWaB"
      },
      "source": [
        "But a more common approach is to decorate the function with `@decorator_name` as in the example below:"
      ]
    },
    {
      "cell_type": "code",
      "execution_count": null,
      "metadata": {
        "id": "396HaXOMNWIz"
      },
      "outputs": [],
      "source": [
        "@measure_time\n",
        "def filter(data):\n",
        "  result = []\n",
        "  for record in data:\n",
        "    if record[\"age\"] >= 18:\n",
        "      result.append(record)\n",
        "  return result\n",
        "\n",
        "@measure_time\n",
        "def average_age(data):\n",
        "  sum = 0\n",
        "  for record in data:\n",
        "    sum += record[\"age\"]\n",
        "  return sum / len(data)"
      ]
    },
    {
      "cell_type": "markdown",
      "metadata": {
        "id": "ghv-9GSfNkNh"
      },
      "source": [
        "Sprawdźmy jak to działa:"
      ]
    },
    {
      "cell_type": "code",
      "execution_count": null,
      "metadata": {
        "id": "5Tcq6V--NmOP"
      },
      "outputs": [],
      "source": [
        "data = [\n",
        "{\"name\": \"Jan\", \"surname\": \"Kowalski\", \"age\": 30},\n",
        "{\"name\": \"Janina\", \"surname\": \"Nowak\", \"age\": 25},\n",
        "{\"name\": \"Zofia\", \"surname\": \"Mickiewicz\", \"age\": 17},\n",
        "]\n",
        "\n",
        "data = filter(data)\n",
        "result = average_age(data)\n",
        "print(result)"
      ]
    },
    {
      "cell_type": "markdown",
      "metadata": {
        "id": "3FmRQIh0LDsY"
      },
      "source": [
        "Example uses of decorators:\n",
        "1. Caching\n",
        "2. Login\n",
        "3. Authentication\n",
        "4. Function retries\n",
        "5. Input argument validation"
      ]
    },
    {
      "cell_type": "markdown",
      "metadata": {
        "id": "7ROfqZHUoURy"
      },
      "source": [
        "Exercise\n",
        "\n",
        "Prepare two decorators that will be used to decorate the following function:\n",
        "\n",
        "```\n",
        "# no-op (no operation)\n",
        "def noop(x):\n",
        "return x\n",
        "```\n",
        "\n",
        "1. Adds `!!!` to the function's return value (at the end)\n",
        "2. Adds `???` to the function's return value (at the end)\n",
        "\n",
        "Next, try declaring several variants of the `noop` ​​function (using a different name each time):\n",
        "1. With decorator #1\n",
        "2. With decorator #2\n",
        "3. With decorators #1 and #2 in different orders\n",
        "\n",
        "Does the order of decoration matter?"
      ]
    },
    {
      "cell_type": "code",
      "execution_count": null,
      "metadata": {
        "cellView": "form",
        "id": "CVSHlFgSmvNb"
      },
      "outputs": [],
      "source": [
        "# PLACEHOLDER FOR SOLUTION"
      ]
    },
    {
      "cell_type": "code",
      "execution_count": null,
      "metadata": {
        "cellView": "form",
        "id": "Tt4RvussqGEE"
      },
      "outputs": [],
      "source": [
        "# SOLUTION\n",
        "\n",
        "def exclamation(fun):\n",
        "    def wrapper(*args, **kwargs):\n",
        "        return fun(*args, **kwargs) + \"!!!\"\n",
        "    return wrapper\n",
        "\n",
        "def question_mark(fun):\n",
        "    def wrapper(*args, **kwargs):\n",
        "        return fun(*args, **kwargs) + \"???\"\n",
        "    return wrapper\n",
        "\n",
        "@exclamation\n",
        "def noop_1(x):\n",
        "    return x\n",
        "\n",
        "@question_mark\n",
        "def noop_2(x):\n",
        "    return x\n",
        "\n",
        "@question_mark\n",
        "@exclamation\n",
        "def noop_3(x):\n",
        "    return x\n",
        "\n",
        "@exclamation\n",
        "@question_mark\n",
        "def noop_4(x):\n",
        "    return x\n",
        "\n",
        "print(\"noop_1\", noop_1(\"Hello\"))\n",
        "print(\"noop_2\", noop_2(\"Hello\"))\n",
        "print(\"noop_3\", noop_3(\"Hello\"))\n",
        "print(\"noop_4\", noop_4(\"Hello\"))\n"
      ]
    }
  ],
  "metadata": {
    "colab": {
      "authorship_tag": "ABX9TyPJms41Vrs0bd3lSj+4EBcI",
      "include_colab_link": true,
      "provenance": [],
      "toc_visible": true
    },
    "kernelspec": {
      "display_name": "aiwdwp",
      "language": "python",
      "name": "python3"
    },
    "language_info": {
      "codemirror_mode": {
        "name": "ipython",
        "version": 3
      },
      "file_extension": ".py",
      "mimetype": "text/x-python",
      "name": "python",
      "nbconvert_exporter": "python",
      "pygments_lexer": "ipython3",
      "version": "3.11.10"
    }
  },
  "nbformat": 4,
  "nbformat_minor": 0
}
