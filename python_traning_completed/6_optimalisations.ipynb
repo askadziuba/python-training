{
  "cells": [
    {
      "cell_type": "markdown",
      "metadata": {},
      "source": [
        "# Code Optimization\n",
        "\n",
        "Code optimization in Python is the practice of writing programs that are not only correct and readable, but also efficient in terms of speed and memory usage. While readability should always come first, it is often possible to improve the performance of your code with small adjustments or by choosing better tools.\n",
        "\n",
        "Optimization techniques are used for:\n",
        "\n",
        "- **Improving execution speed** (e.g., avoiding unnecessary computations),\n",
        "- **Reducing memory usage** (e.g., using generators instead of large lists),\n",
        "- **Making algorithms scale better** for larger datasets,\n",
        "- **Taking advantage of built-in functions and data structures** that are optimized in C under the hood.\n",
        "\n",
        "Well-optimized code is especially important in data processing, machine learning, and applications where performance can have a real impact on user experience or resource costs.\n",
        "\n",
        "---\n",
        "\n",
        "## Common Anti-patterns in Optimization\n",
        "\n",
        "When learning about optimization, it’s important to also recognize patterns that look like improvements, but often do more harm than good:\n",
        "\n",
        "- **Over-compressing code**  \n",
        "  Writing everything in a single line or using overly clever constructs may look shorter, but usually hurts readability without giving real performance benefits.\n",
        "\n",
        "- **Premature optimization**  \n",
        "  Trying to optimize code before measuring bottlenecks wastes time and can make code harder to maintain. Always profile first.\n",
        "\n",
        "- **Reinventing the wheel**  \n",
        "  Replacing Python’s built-in functions or data structures (e.g., `sum()`, `set`, `dict`) with custom implementations is almost always slower and less reliable.\n",
        "\n",
        "- **Chasing micro-optimizations**  \n",
        "  Focusing on shaving off nanoseconds in places that don’t matter (like replacing `x*2` with `x<<1`) distracts from the big picture and rarely improves overall performance.\n",
        "\n",
        "The key is to optimize when it truly matters, and in a way that makes your code both efficient and maintainable.\n"
      ]
    },
    {
      "cell_type": "markdown",
      "metadata": {},
      "source": [
        "## Exercise: Checking for Duplicates\n",
        "\n",
        "A common beginner approach to checking whether a list contains duplicates is to compare every element with every other element. While this works, it is very inefficient, because it requires two nested loops and grows quickly in complexity as the list gets longer.\n",
        "\n",
        "Here is an example implementation:\n",
        "\n",
        "```python\n",
        "def has_duplicates(lst):\n",
        "    for i in range(len(lst)):\n",
        "        for j in range(len(lst)):\n",
        "            if i != j and lst[i] == lst[j]:\n",
        "                return True\n",
        "    return False\n"
      ]
    },
    {
      "cell_type": "code",
      "execution_count": null,
      "metadata": {},
      "outputs": [],
      "source": [
        "## PLACEHOLDER FOR YOUR SOLUTION"
      ]
    },
    {
      "cell_type": "code",
      "execution_count": null,
      "metadata": {},
      "outputs": [],
      "source": [
        "#SOLUTION \n",
        "\n",
        "def has_duplicates(lst):\n",
        "    return len(lst) != len(set(lst))"
      ]
    },
    {
      "cell_type": "markdown",
      "metadata": {},
      "source": [
        "## Exercise: Summing Elements of a List\n",
        "\n",
        "A common beginner approach to summing the elements of a list is to iterate over the indices and add each element to a total variable. While this works, Python provides more concise and readable ways to achieve the same result.\n",
        "\n",
        "Here is an example implementation using a loop over indices:"
      ]
    },
    {
      "cell_type": "code",
      "execution_count": null,
      "metadata": {},
      "outputs": [],
      "source": [
        "def sum_elements(numbers):\n",
        "    total = 0\n",
        "    for i in range(len(numbers)):\n",
        "        total += numbers[i]\n",
        "    return total"
      ]
    },
    {
      "cell_type": "code",
      "execution_count": null,
      "metadata": {},
      "outputs": [],
      "source": [
        "## PLACEHOLDER FOR YOUR SOLUTION"
      ]
    },
    {
      "cell_type": "code",
      "execution_count": null,
      "metadata": {},
      "outputs": [],
      "source": [
        "## SOLUTION\n",
        "def sum_elements(numbers):\n",
        "    return sum(numbers)"
      ]
    },
    {
      "cell_type": "markdown",
      "metadata": {},
      "source": [
        "## Exercise: Counting Even and Odd Numbers\n",
        "\n",
        "A common task when working with lists of numbers is to count how many elements are even and how many are odd. "
      ]
    },
    {
      "cell_type": "code",
      "execution_count": null,
      "metadata": {},
      "outputs": [],
      "source": [
        "def count_even_odd(lst):\n",
        "    even = 0\n",
        "    odd = 0\n",
        "    for x in lst:\n",
        "        if x % 2 == 0:\n",
        "            even += 1\n",
        "    for x in lst:\n",
        "        if x % 2 != 0:\n",
        "            odd += 1\n",
        "    return even, odd"
      ]
    },
    {
      "cell_type": "code",
      "execution_count": null,
      "metadata": {},
      "outputs": [],
      "source": [
        "## PLACEHOLDER FOR YOUR SOLUTION"
      ]
    },
    {
      "cell_type": "code",
      "execution_count": null,
      "metadata": {},
      "outputs": [],
      "source": [
        "## SOLUTION\n",
        "def count_even_odd(lst):\n",
        "    even = 0\n",
        "    odd = 0\n",
        "    for x in lst:\n",
        "        if x % 2 == 0:\n",
        "            even += 1\n",
        "        else:\n",
        "            odd += 1\n",
        "    return even, odd"
      ]
    },
    {
      "cell_type": "markdown",
      "metadata": {},
      "source": [
        "## Exercise: Creating a List of Zeros\n",
        "\n",
        "A common task is to create a list containing a specific number of zeros. "
      ]
    },
    {
      "cell_type": "code",
      "execution_count": null,
      "metadata": {},
      "outputs": [],
      "source": [
        "def zeros(n):\n",
        "    result = []\n",
        "    for _ in range(n):\n",
        "        result.append(0)\n",
        "    return result"
      ]
    },
    {
      "cell_type": "code",
      "execution_count": null,
      "metadata": {},
      "outputs": [],
      "source": [
        "## PLACEHOLDER FOR YOUR SOLUTION"
      ]
    },
    {
      "cell_type": "code",
      "execution_count": null,
      "metadata": {},
      "outputs": [],
      "source": [
        "## SOLUTION\n",
        "def zeros(n):\n",
        "    return [0] * n"
      ]
    },
    {
      "cell_type": "markdown",
      "metadata": {},
      "source": [
        "## Exercise: Finding All Indexes of Multiple Values\n",
        "\n",
        "Sometimes you need to find all positions of certain values in a list. "
      ]
    },
    {
      "cell_type": "code",
      "execution_count": null,
      "metadata": {},
      "outputs": [],
      "source": [
        "def find_all_indexes(lst, values):\n",
        "    indexes = []\n",
        "    for v in values:\n",
        "        for i in range(len(lst)):\n",
        "            if lst[i] == v:\n",
        "                indexes.append(i)\n",
        "    return indexes"
      ]
    },
    {
      "cell_type": "code",
      "execution_count": null,
      "metadata": {},
      "outputs": [],
      "source": [
        "## PLACEHOLDER FOR YOUR SOLUTION"
      ]
    },
    {
      "cell_type": "code",
      "execution_count": null,
      "metadata": {},
      "outputs": [],
      "source": [
        "## SOLUTION\n",
        "def find_all_indexes(lst, values):\n",
        "    return [i for i, elem in enumerate(lst) if elem in values]"
      ]
    },
    {
      "cell_type": "markdown",
      "metadata": {},
      "source": [
        "## Exercise: Checking Membership of Elements\n",
        "\n",
        "A common task is to check whether each element of one list exists in another list. "
      ]
    },
    {
      "cell_type": "code",
      "execution_count": null,
      "metadata": {},
      "outputs": [],
      "source": [
        "def check_membership(big_list, small_list):\n",
        "    result = []\n",
        "    for x in small_list:\n",
        "        if x in big_list:\n",
        "            result.append(True)\n",
        "        else:\n",
        "            result.append(False)\n",
        "    return result"
      ]
    },
    {
      "cell_type": "code",
      "execution_count": null,
      "metadata": {},
      "outputs": [],
      "source": [
        "## PLACEHOLDER FOR YOUR SOLUTION"
      ]
    },
    {
      "cell_type": "code",
      "execution_count": null,
      "metadata": {},
      "outputs": [],
      "source": [
        "## SOLUTION\n",
        "def check_membership(big_list, small_list):\n",
        "    big_set = set(big_list)\n",
        "    return [x in big_set for x in small_list]"
      ]
    },
    {
      "cell_type": "markdown",
      "metadata": {},
      "source": [
        "## Exercise: Counting Word Frequencies\n",
        "\n",
        "A common task is to count how many times each word appears in a list of words. This is a perfect use case for Python dictionaries.\n",
        "\n",
        "Here is a naive approach using a loop:"
      ]
    },
    {
      "cell_type": "code",
      "execution_count": null,
      "metadata": {},
      "outputs": [],
      "source": [
        "words = [\"apple\", \"banana\", \"apple\", \"orange\", \"banana\", \"apple\"]\n",
        "word_counts = {}\n",
        "for word in words:\n",
        "    if word in word_counts:\n",
        "        word_counts[word] += 1\n",
        "    else:\n",
        "        word_counts[word] = 1"
      ]
    },
    {
      "cell_type": "code",
      "execution_count": null,
      "metadata": {},
      "outputs": [],
      "source": [
        "## PLACEHOLDER FOR YOUR SOLUTION"
      ]
    },
    {
      "cell_type": "code",
      "execution_count": null,
      "metadata": {},
      "outputs": [],
      "source": [
        "## SOLUTION\n",
        "from collections import Counter\n",
        "\n",
        "words = [\"apple\", \"banana\", \"apple\", \"orange\", \"banana\", \"apple\"]\n",
        "word_counts = Counter(words)\n",
        "word_counts"
      ]
    },
    {
      "cell_type": "markdown",
      "metadata": {},
      "source": [
        "## Exercise: Counting Common Elements in Two Lists\n",
        "\n",
        "A common task is to find out how many elements two lists have in common. A straightforward but inefficient approach might use **nested loops** to compare each element of the first list with every element of the second list.\n",
        "\n",
        "Here is a simple, but non-optimal implementation:"
      ]
    },
    {
      "cell_type": "code",
      "execution_count": null,
      "metadata": {},
      "outputs": [],
      "source": [
        "def common_elements_count(list1, list2):\n",
        "    count = 0\n",
        "    for x in list1:\n",
        "        for y in list2:\n",
        "            if x == y:\n",
        "                count += 1\n",
        "    return count"
      ]
    },
    {
      "cell_type": "code",
      "execution_count": null,
      "metadata": {},
      "outputs": [],
      "source": [
        "## PLACEHOLDER FOR YOUR SOLUTION"
      ]
    },
    {
      "cell_type": "code",
      "execution_count": null,
      "metadata": {},
      "outputs": [],
      "source": [
        "## SOLUTION\n",
        "def common_elements_count(list1, list2):\n",
        "    set1 = set(list1)\n",
        "    set2 = set(list2)\n",
        "    return len(set1 & set2) \n"
      ]
    },
    {
      "cell_type": "markdown",
      "metadata": {},
      "source": [
        "## Exercise: Filtering Elements Above Average\n"
      ]
    },
    {
      "cell_type": "code",
      "execution_count": null,
      "metadata": {},
      "outputs": [],
      "source": [
        "def filter_above_average(nums):\n",
        "    return [x for x in nums if x > sum(nums)/len(nums)]"
      ]
    },
    {
      "cell_type": "code",
      "execution_count": null,
      "metadata": {},
      "outputs": [],
      "source": [
        "## PLACEHOLDER FOR YOUR SOLUTION"
      ]
    },
    {
      "cell_type": "code",
      "execution_count": null,
      "metadata": {},
      "outputs": [],
      "source": [
        "## SOLUTION\n",
        "def filter_above_average(nums):\n",
        "    avg = sum(nums) / len(nums)\n",
        "    return [x for x in nums if x > avg]"
      ]
    },
    {
      "cell_type": "markdown",
      "metadata": {},
      "source": [
        "## Exercise: Refactor a Loop\n"
      ]
    },
    {
      "cell_type": "code",
      "execution_count": null,
      "metadata": {},
      "outputs": [],
      "source": [
        "# DO NOT CHANGE ANYTHING HERE\n",
        "import time\n",
        "def time_consuming_function(a):\n",
        "    time.sleep(2)\n",
        "    return randint(1, 5) * a"
      ]
    },
    {
      "cell_type": "code",
      "execution_count": null,
      "metadata": {},
      "outputs": [],
      "source": [
        "# DO NOT CHANGE ANYTHING HERE\n",
        "numbers_list = [1, 2, 3, 4, 5, 6, 7, 8]\n",
        "final_dict = {}"
      ]
    },
    {
      "cell_type": "code",
      "execution_count": null,
      "metadata": {},
      "outputs": [
        {
          "data": {
            "text/plain": [
              "{1: 3, 2: 6, 3: 9, 4: 12, 5: 15, 6: 18, 7: 21, 8: 24}"
            ]
          },
          "execution_count": 4,
          "metadata": {},
          "output_type": "execute_result"
        }
      ],
      "source": [
        "# REFACTOR THIS LOOP\n",
        "\n",
        "for number in numbers_list:\n",
        "    if  (time_consuming_function(number) < 10) or (number < 6):\n",
        "        final_dict[number] = number * 3\n",
        "\n",
        "final_dict"
      ]
    },
    {
      "cell_type": "code",
      "execution_count": null,
      "metadata": {},
      "outputs": [],
      "source": [
        "# SOLUTION\n",
        "\n",
        "for number in numbers_list:\n",
        "    if  (number < 6) or (time_consuming_function(number) < 10):\n",
        "        final_dict[number] = number * 3\n",
        "\n",
        "final_dict"
      ]
    },
    {
      "cell_type": "markdown",
      "metadata": {},
      "source": [
        "# Summary: Code Optimization and Pythonic Patterns\n",
        "\n",
        "Throughout these exercises, we explored several common coding patterns and techniques for writing Python code that is cleaner, more efficient, and more readable. Here is a recap of the key points:\n",
        "\n",
        "---\n",
        "\n",
        "## 1. Avoid Nested Loops When Possible\n",
        "Nested loops often lead to high time complexity. Whenever possible, replace them with sets, dictionaries, or built-in functions to improve efficiency.\n",
        "\n",
        "---\n",
        "\n",
        "## 2. Use Built-in Functions\n",
        "Python provides many efficient built-in functions such as `sum`, `max`, `min`, `len`, `set`, and `enumerate`. Leveraging these functions makes code shorter, clearer, and often faster.\n",
        "\n",
        "---\n",
        "\n",
        "## 3. Comprehensions for Conciseness\n",
        "List and dictionary comprehensions allow creating and filtering data in a single, readable line, reducing boilerplate and improving clarity.\n",
        "\n",
        "---\n",
        "\n",
        "## 4. Minimize Repeated Computations\n",
        "Avoid recalculating the same values inside loops. Compute results once and reuse them to improve performance, especially for expensive operations.\n",
        "\n",
        "---\n",
        "\n",
        "## 5. Use Sets for Membership and Uniqueness\n",
        "Sets provide fast membership tests and can be used to remove duplicates or compute intersections efficiently.\n",
        "\n",
        "---\n",
        "\n",
        "## 6. Optimize Data Structures\n",
        "Choosing the right data structure is crucial:\n",
        "- Lists for ordered data\n",
        "- Sets for uniqueness and fast lookup\n",
        "- Dictionaries for key-value mapping\n",
        "\n",
        "---\n",
        "\n",
        "## 7. Key Takeaways\n",
        "- Prioritize **readable code** first, then optimize where necessary.\n",
        "- Simple, small optimizations often have the greatest impact.\n",
        "- Use Pythonic idioms to write concise, clear, and efficient code.\n",
        "- Avoid premature optimization or overly clever tricks that reduce readability.\n",
        "- Think about algorithmic complexity and profile code for large datasets.\n",
        "\n",
        "---\n",
        "\n",
        "By applying these principles consistently, you can write Python code that is not only correct but also elegant and performant.\n"
      ]
    }
  ],
  "metadata": {
    "colab": {
      "authorship_tag": "ABX9TyOijItmKMWDez/0w+ekxHMV",
      "include_colab_link": true,
      "provenance": []
    },
    "kernelspec": {
      "display_name": "aiwdwp",
      "language": "python",
      "name": "python3"
    },
    "language_info": {
      "codemirror_mode": {
        "name": "ipython",
        "version": 3
      },
      "file_extension": ".py",
      "mimetype": "text/x-python",
      "name": "python",
      "nbconvert_exporter": "python",
      "pygments_lexer": "ipython3",
      "version": "3.11.10"
    }
  },
  "nbformat": 4,
  "nbformat_minor": 0
}
