{
  "metadata": {
    "kernelspec": {
      "name": "xpython",
      "display_name": "Python 3.13 (XPython)",
      "language": "python"
    },
    "language_info": {
      "file_extension": ".py",
      "mimetype": "text/x-python",
      "name": "python",
      "version": "3.13.1"
    }
  },
  "nbformat_minor": 5,
  "nbformat": 4,
  "cells": [
    {
      "id": "intro",
      "cell_type": "markdown",
      "source": "# Section 4: Lambda Functions and Built-in Functions in Python",
      "metadata": {}
    },
    {
      "id": "lambda-intro",
      "cell_type": "markdown",
      "source": "# Anonymous Functions (Lambda Functions)\n\nAnonymous functions can contain only one expression, but they execute faster. Anonymous functions are created using the `lambda` instruction.",
      "metadata": {}
    },
    {
      "id": "c1f03e70-3c4e-4b99-ba24-a2a9ad5bb2d7",
      "cell_type": "markdown",
      "source": "Syntax\n\nlambda arguments : expression",
      "metadata": {}
    },
    {
      "id": "082b1cc3-b914-4bf1-a8de-c95995152402",
      "cell_type": "markdown",
      "source": "When to Use Lambda vs Regular Functions\nUse Lambda When:\n\n1) The function is simple and used once\n2) Working with higher-order functions\n3) The logic fits in a single expression\n\nUse Regular Functions When:\n\n1) The function is complex\n2) You need multiple statements\n3) The function will be reused\n4) Readability is important",
      "metadata": {}
    },
    {
      "id": "lambda-basic",
      "cell_type": "code",
      "source": "# Regular function\ndef simple(x, y):\n    return x + y\n\n# Same thing as lambda\nlambda_simple = lambda x, y: x + y\n\nprint(\"Regular function result:\", simple(1, 2))\nprint(\"Lambda function result:\", lambda_simple(1, 2))",
      "metadata": {
        "trusted": true
      },
      "outputs": [
        {
          "name": "stdout",
          "output_type": "stream",
          "text": "Regular function result: 3\nLambda function result: 3\n"
        }
      ],
      "execution_count": 2
    },
    {
      "id": "lambda-usage",
      "cell_type": "code",
      "source": "func = lambda x, y: x + y\nprint(func(1, 2))  # 3\nprint(func('a', 'b'))  # 'ab'\n\n# Direct lambda calls\nprint((lambda x, y: x + y)(1, 2))  # 3\nprint((lambda x, y: x + y)('a', 'b'))  # 'ab'\n\nprint((lambda x, y: x + y).__call__('a', 'b')) #'ab'",
      "metadata": {
        "trusted": true
      },
      "outputs": [
        {
          "name": "stdout",
          "output_type": "stream",
          "text": "3\nab\n3\nab\nab\n"
        }
      ],
      "execution_count": 28
    },
    {
      "id": "lambda-args",
      "cell_type": "code",
      "source": "# Lambda with *args\nfunc = lambda *args: args * 2\nprint(func(1, 2, 3, 4))  # (1, 2, 3, 4, 1, 2, 3, 4)\n\n# Lambda with **kwargs\nfunc = lambda **kwargs: list(kwargs.items())\nprint(func(s=3, r=5, p=7))  # [('s', 3), ('r', 5), ('p', 7)]",
      "metadata": {
        "trusted": true
      },
      "outputs": [
        {
          "name": "stdout",
          "output_type": "stream",
          "text": "(1, 2, 3, 4, 1, 2, 3, 4)\n[('s', 3), ('r', 5), ('p', 7)]\n"
        }
      ],
      "execution_count": 4
    },
    {
      "id": "lambda-practice",
      "cell_type": "markdown",
      "source": "## Practice Problems - Basic Lambda Functions",
      "metadata": {}
    },
    {
      "id": "problem-1",
      "cell_type": "code",
      "source": "# Problem 1: Word Counter\nword_count = lambda s: len(s.split())\nprint('Problem 1 - Word count for \"The Hobbit\":', word_count(\"The Hobbit\"))  # 2",
      "metadata": {
        "trusted": true
      },
      "outputs": [
        {
          "name": "stdout",
          "output_type": "stream",
          "text": "Problem 1 - Word count for \"The Hobbit\": 2\n"
        }
      ],
      "execution_count": 5
    },
    {
      "id": "problem-2",
      "cell_type": "code",
      "source": "# Problem 2: String Length\nstring_length = lambda s: len(s)\nprint('Problem 2 - Length of \"The Hobbit\":', string_length(\"The Hobbit\"))  # 10",
      "metadata": {
        "trusted": true
      },
      "outputs": [
        {
          "name": "stdout",
          "output_type": "stream",
          "text": "Problem 2 - Length of \"The Hobbit\": 10\n"
        }
      ],
      "execution_count": 6
    },
    {
      "id": "problem-3",
      "cell_type": "code",
      "source": "# Problem 3: First Word\nfirst_word = lambda s: s.split()[0]\nprint('Problem 3 - First word of \"The Hobbit\":', first_word(\"The Hobbit\"))  # \"The\"",
      "metadata": {
        "trusted": true
      },
      "outputs": [
        {
          "name": "stdout",
          "output_type": "stream",
          "text": "Problem 3 - First word of \"The Hobbit\": The\n"
        }
      ],
      "execution_count": 7
    },
    {
      "id": "problem-4",
      "cell_type": "code",
      "source": "# Problem 4: Palindrome Checker\nis_palindrome = lambda s: s.lower() == s.lower()[::-1]\nprint('Problem 4 - Is \"abba\" a palindrome?', is_palindrome(\"abba\"))  # True\nprint('Problem 4 - Is \"hello\" a palindrome?', is_palindrome(\"hello\"))  # False",
      "metadata": {
        "trusted": true
      },
      "outputs": [
        {
          "name": "stdout",
          "output_type": "stream",
          "text": "Problem 4 - Is \"abba\" a palindrome? True\nProblem 4 - Is \"hello\" a palindrome? False\n"
        }
      ],
      "execution_count": 8
    },
    {
      "id": "problem-5",
      "cell_type": "code",
      "source": "# Problem 5: Vowel Counter\ncount_vowels = lambda s: sum(1 for c in s.lower() if c in 'aeiou')\nprint('Problem 5 - Vowels in \"abbac\":', count_vowels(\"abba\"))  # 2",
      "metadata": {
        "trusted": true
      },
      "outputs": [
        {
          "name": "stdout",
          "output_type": "stream",
          "text": "Problem 5 - Vowels in \"abbac\": 2\n"
        }
      ],
      "execution_count": 14
    },
    {
      "id": "problem-6",
      "cell_type": "code",
      "source": "# Problem 6: Black Box Pattern (odd->cube, even->square)\nblack_box = lambda x: x**3 if x % 2 == 1 else x**2\ntest_values = [2, 3, 5, 6, 10]\nfor val in test_values:\n    print(f\"Problem 6 - {val} → {black_box(val)}\")",
      "metadata": {
        "trusted": true
      },
      "outputs": [
        {
          "name": "stdout",
          "output_type": "stream",
          "text": "Problem 6 - 2 → 4\nProblem 6 - 3 → 27\nProblem 6 - 5 → 125\nProblem 6 - 6 → 36\nProblem 6 - 10 → 100\n"
        }
      ],
      "execution_count": 10
    },
    {
      "id": "builtin-functions",
      "cell_type": "markdown",
      "source": "# Built-in Functions\n\n## map()\nFunction in Python is used to apply a specific function to each element of an iterable (like a list, tuple, or set) and returns a map object (which is an iterator).",
      "metadata": {}
    },
    {
      "id": "00215ee4-54ad-4752-bc75-9bb747876ac2",
      "cell_type": "markdown",
      "source": "Syntax\n\nmap(function, iterable,..)",
      "metadata": {}
    },
    {
      "id": "8e703646-87bf-4449-8482-e946afa633a6",
      "cell_type": "markdown",
      "source": "Parameters:\n\nfunction: The function to apply to every element of the iterable.\niterable: One or more iterable objects (list, tuple, etc.) whose elements will be processed.",
      "metadata": {}
    },
    {
      "id": "map-basic",
      "cell_type": "code",
      "source": "mapped_list = map(lambda x: x * 2, [1, 2, 3, 4])\nprint(\"Map object:\", mapped_list)\nprint(\"Map result:\", list(mapped_list))",
      "metadata": {
        "trusted": true
      },
      "outputs": [
        {
          "name": "stdout",
          "output_type": "stream",
          "text": "Map object: <map object at 0x3c15998>\nMap result: [2, 4, 6, 8]\n"
        }
      ],
      "execution_count": 11
    },
    {
      "id": "map-examples",
      "cell_type": "code",
      "source": "# Map with different iterables\nnumbers = [1, 2, 3, 4, 5]\nsquares = list(map(lambda x: x**2, numbers))\nprint(\"Squares:\", squares)\n\n# Map with strings\nwords = [\"hello\", \"world\", \"python\"]\nuppercased = list(map(lambda x: x.upper(), words))\nprint(\"Uppercased:\", uppercased)",
      "metadata": {
        "trusted": true
      },
      "outputs": [
        {
          "name": "stdout",
          "output_type": "stream",
          "text": "Squares: [1, 4, 9, 16, 25]\nUppercased: ['HELLO', 'WORLD', 'PYTHON']\n"
        }
      ],
      "execution_count": 12
    },
    {
      "id": "260ad501-d7bf-4d5a-a094-8f3c9b17b8d6",
      "cell_type": "markdown",
      "source": "When to Use map():\n\n1) When you need to transform all elements in an iterable.\n2) When you prefer functional programming style over loops.\n3) When you want cleaner and shorter code.",
      "metadata": {}
    },
    {
      "id": "filter-section",
      "cell_type": "markdown",
      "source": "## filter()\nFilters elements based on a condition",
      "metadata": {}
    },
    {
      "id": "3701f451-a49e-499d-9957-631716f9fdfb",
      "cell_type": "markdown",
      "source": "Syntax\n\nfilter(function, iterable)",
      "metadata": {}
    },
    {
      "id": "1d756562-96d9-42d8-9516-320758d95780",
      "cell_type": "code",
      "source": "Parameter Values:\n\nfunction - A Function to be run for each item in the iterable\niterable - The iterable to be filtered",
      "metadata": {
        "trusted": true
      },
      "outputs": [],
      "execution_count": null
    },
    {
      "id": "filter-basic",
      "cell_type": "code",
      "source": "numbers = [1, 2, 3, 4, 5, 6, 7, 8, 9, 10]\nfiltered = list(filter(lambda x: x > 5, numbers))\nprint(\"Numbers > 5:\", filtered)\n\neven_numbers = list(filter(lambda x: x % 2 == 0, numbers))\nprint(\"Even numbers:\", even_numbers)",
      "metadata": {
        "trusted": true
      },
      "outputs": [
        {
          "name": "stdout",
          "output_type": "stream",
          "text": "Numbers > 5: [6, 7, 8, 9, 10]\nEven numbers: [2, 4, 6, 8, 10]\n"
        }
      ],
      "execution_count": 13
    },
    {
      "id": "reduce-section",
      "cell_type": "markdown",
      "source": "## reduce()\nApplies a function cumulatively to reduce sequence to single value",
      "metadata": {}
    },
    {
      "id": "reduce-examples",
      "cell_type": "code",
      "source": "from functools import reduce\n\n# Sum all elements\nnumbers = [1, 2, 3, 4, 5]\ntotal = reduce(lambda x, y: x + y, numbers)\nprint(\"Sum:\", total)\n\n# Find maximum\nmaximum = reduce(lambda x, y: x if x > y else y, numbers)\nprint(\"Maximum:\", maximum)",
      "metadata": {
        "trusted": true
      },
      "outputs": [
        {
          "name": "stdout",
          "output_type": "stream",
          "text": "Sum: 15\nMaximum: 5\n"
        }
      ],
      "execution_count": 15
    },
    {
      "id": "7c8313c3-1f92-4791-b294-520afbd64d7b",
      "cell_type": "markdown",
      "source": "## sorted()\nThe sorted() function returns a sorted list of the specified iterable object.\n\nYou can specify ascending or descending order. Strings are sorted alphabetically, and numbers are sorted numerically.",
      "metadata": {}
    },
    {
      "id": "e3b39d3f-96d2-42b4-9497-9f2144b8b68d",
      "cell_type": "markdown",
      "source": "Syntax\n\nsorted(iterable, key=key, reverse=reverse)",
      "metadata": {}
    },
    {
      "id": "6667e569-969c-40be-84e3-e085d4df738f",
      "cell_type": "markdown",
      "source": "Parameter Values\n\niterable:\tRequired. The sequence to sort, list, dictionary, tuple etc.\nkey\t(Optional): A Function to execute to decide the order. Default is None\nreverse\t(Optional): A Boolean. False will sort ascending, True will sort descending. Default is False",
      "metadata": {}
    },
    {
      "id": "sorted-examples",
      "cell_type": "code",
      "source": "# sorted()\ndata = [5, 2, 8, 1, 9]\nprint(\"Original:\", data)\nprint(\"Sorted:\", sorted(data))\nprint(\"Reverse sorted:\", sorted(data, reverse=True))\n\n# Sort with key function\nwords = [\"apple\", \"pie\", \"banana\", \"kiwi\"]\nprint(\"Words by length:\", sorted(words, key=lambda x: len(x)))",
      "metadata": {
        "trusted": true
      },
      "outputs": [
        {
          "name": "stdout",
          "output_type": "stream",
          "text": "Original: [5, 2, 8, 1, 9]\nSorted: [1, 2, 5, 8, 9]\nReverse sorted: [9, 8, 5, 2, 1]\nWords by length: ['pie', 'kiwi', 'apple', 'banana']\n"
        }
      ],
      "execution_count": 16
    },
    {
      "id": "advanced-problems",
      "cell_type": "markdown",
      "source": "## Additional Practice Problems",
      "metadata": {}
    },
    {
      "id": "advanced-problem-1",
      "cell_type": "code",
      "source": "# Problem 1: Adjacent Duplicate Letters\nhas_adjacent_duplicates = lambda s: any(s.lower()[i] == s.lower()[i+1] for i in range(len(s)-1))\nprint('Has adjacent duplicates \"Hello\":', has_adjacent_duplicates(\"Hello\"))  # True\nprint('Has adjacent duplicates \"World\":', has_adjacent_duplicates(\"World\"))  # False",
      "metadata": {
        "trusted": true
      },
      "outputs": [
        {
          "name": "stdout",
          "output_type": "stream",
          "text": "Has adjacent duplicates \"Hello\": True\nHas adjacent duplicates \"World\": False\n"
        }
      ],
      "execution_count": 17
    },
    {
      "id": "advanced-problem-2",
      "cell_type": "code",
      "source": "# Problem 2: List Sum\nlist_sum = lambda lst: sum(lst)\ntest_list = [1, 2, 3, 4, 5]\nprint(f\"Sum of {test_list}:\", list_sum(test_list))  # 15",
      "metadata": {
        "trusted": true
      },
      "outputs": [
        {
          "name": "stdout",
          "output_type": "stream",
          "text": "Sum of [1, 2, 3, 4, 5]: 15\n"
        }
      ],
      "execution_count": 18
    },
    {
      "id": "advanced-problem-3",
      "cell_type": "code",
      "source": "# Problem 3: List Maximum\nlist_max = lambda lst: max(lst)\ntest_list = [1, 5, 2, 8, 3]\nprint(f\"Maximum of {test_list}:\", list_max(test_list))  # 8",
      "metadata": {
        "trusted": true
      },
      "outputs": [
        {
          "name": "stdout",
          "output_type": "stream",
          "text": "Maximum of [1, 5, 2, 8, 3]: 8\n"
        }
      ],
      "execution_count": 19
    },
    {
      "id": "advanced-problem-4",
      "cell_type": "code",
      "source": "# Problem 4: DNA Complement\ndna_complement = lambda dna: ''.join({'A': 'T', 'T': 'A', 'G': 'C', 'C': 'G'}[nucleotide] for nucleotide in dna)\nprint('DNA complement of \"AGT\":', dna_complement(\"AGT\"))  # \"TCA\"\nprint('DNA complement of \"ATCG\":', dna_complement(\"ATCG\"))  # \"TAGC\"",
      "metadata": {
        "trusted": true
      },
      "outputs": [
        {
          "name": "stdout",
          "output_type": "stream",
          "text": "DNA complement of \"AGT\": TCA\nDNA complement of \"ATCG\": TAGC\n"
        }
      ],
      "execution_count": 20
    },
    {
      "id": "comprehensive-examples",
      "cell_type": "markdown",
      "source": "## Comprehensive Examples Combining Multiple Concepts",
      "metadata": {}
    },
    {
      "id": "comprehensive-1",
      "cell_type": "code",
      "source": "# Example 1: Processing a list of student data\nstudents = [\n    {'name': 'Alice', 'grade': 85, 'age': 20},\n    {'name': 'Bob', 'grade': 92, 'age': 19},\n    {'name': 'Charlie', 'grade': 78, 'age': 21},\n    {'name': 'Diana', 'grade': 96, 'age': 20}\n]\n\n# Get names of students with grade > 80\nhigh_performers = list(map(\n    lambda student: student['name'],\n    filter(lambda student: student['grade'] > 80, students)\n))\nprint(\"High performers:\", high_performers)\n\n# Sort students by grade\nsorted_by_grade = sorted(students, key=lambda student: student['grade'], reverse=True)\nfor student in sorted_by_grade:\n    print(f\"{student['name']}: {student['grade']}\")",
      "metadata": {
        "trusted": true
      },
      "outputs": [
        {
          "name": "stdout",
          "output_type": "stream",
          "text": "High performers: ['Alice', 'Bob', 'Diana']\nDiana: 96\nBob: 92\nAlice: 85\nCharlie: 78\n"
        }
      ],
      "execution_count": 21
    },
    {
      "id": "comprehensive-2",
      "cell_type": "code",
      "source": "# Example 2: Text processing pipeline\ntext = \"Hello World Python Programming\"\nwords = text.split()\n\n# Process words: filter long words, convert to uppercase, sort by length\nprocessed_words = sorted(\n    map(lambda word: word.upper(),\n        filter(lambda word: len(word) > 5, words)\n    ),\n    key=lambda word: len(word)\n)\nprint(\"Processed words:\", processed_words)",
      "metadata": {
        "trusted": true
      },
      "outputs": [
        {
          "name": "stdout",
          "output_type": "stream",
          "text": "Processed words: ['PYTHON', 'PROGRAMMING']\n"
        }
      ],
      "execution_count": 22
    },
    {
      "id": "comprehensive-3",
      "cell_type": "code",
      "source": "# Example 3: Mathematical operations\nnumbers = [1, 2, 3, 4, 5, 6, 7, 8, 9, 10]\n\n# Get squares of even numbers\neven_squares = list(map(lambda x: x**2, filter(lambda x: x % 2 == 0, numbers)))\nprint(\"Squares of even numbers:\", even_squares)\n\n# Calculate sum of squares\nsum_of_squares = reduce(lambda x, y: x + y, map(lambda x: x**2, numbers))\nprint(\"Sum of squares:\", sum_of_squares)\n\n# Check if all numbers are positive\nall_positive = all(map(lambda x: x > 0, numbers))\nprint(\"All numbers positive:\", all_positive)",
      "metadata": {
        "trusted": true
      },
      "outputs": [
        {
          "name": "stdout",
          "output_type": "stream",
          "text": "Squares of even numbers: [4, 16, 36, 64, 100]\nSum of squares: 385\nAll numbers positive: True\n"
        }
      ],
      "execution_count": 23
    },
    {
      "id": "final-exercises",
      "cell_type": "markdown",
      "source": "## Final Challenge Exercises",
      "metadata": {}
    },
    {
      "id": "final-exercise-1",
      "cell_type": "code",
      "source": "# Challenge 1: Create a lambda that finds the longest word in a sentence\nlongest_word = lambda sentence: max(sentence.split(), key=lambda word: len(word))\ntest_sentence = \"Python is a powerful programming language\"\nprint(f\"Longest word in '{test_sentence}':\", longest_word(test_sentence))",
      "metadata": {
        "trusted": true
      },
      "outputs": [
        {
          "name": "stdout",
          "output_type": "stream",
          "text": "Longest word in 'Python is a powerful programming language': programming\n"
        }
      ],
      "execution_count": 24
    },
    {
      "id": "final-exercise-2",
      "cell_type": "code",
      "source": "# Challenge 2: Process a list of temperatures (Celsius to Fahrenheit)\ncelsius_temps = [0, 20, 30, 40, 100]\nto_fahrenheit = lambda c: c * 9/5 + 32\nfahrenheit_temps = list(map(to_fahrenheit, celsius_temps))\n\nprint(\"Temperature conversion:\")\nfor c, f in zip(celsius_temps, fahrenheit_temps):\n    print(f\"{c}°C = {f}°F\")",
      "metadata": {
        "trusted": true
      },
      "outputs": [
        {
          "name": "stdout",
          "output_type": "stream",
          "text": "Temperature conversion:\n0°C = 32.0°F\n20°C = 68.0°F\n30°C = 86.0°F\n40°C = 104.0°F\n100°C = 212.0°F\n"
        }
      ],
      "execution_count": 25
    },
    {
      "id": "final-exercise-3",
      "cell_type": "code",
      "source": "# Challenge 3: Advanced data processing\ndata = [\"apple\", \"banana\", \"cherry\", \"date\", \"elderberry\"]\n\n# Count vowels in each word, filter words with > 2 vowels, sort by vowel count\nvowel_counter = lambda word: sum(1 for char in word.lower() if char in 'aeiou')\n\n# Create tuples of (word, vowel_count)\nword_vowel_pairs = list(map(lambda word: (word, vowel_counter(word)), data))\nprint(\"Words with vowel counts:\", word_vowel_pairs)\n\n# Filter words with more than 2 vowels\nmany_vowels = list(filter(lambda pair: pair[1] > 2, word_vowel_pairs))\nprint(\"Words with >2 vowels:\", many_vowels)\n\n# Sort by vowel count\nsorted_by_vowels = sorted(word_vowel_pairs, key=lambda pair: pair[1])\nprint(\"Sorted by vowel count:\", sorted_by_vowels)",
      "metadata": {
        "trusted": true
      },
      "outputs": [
        {
          "name": "stdout",
          "output_type": "stream",
          "text": "Words with vowel counts: [('apple', 2), ('banana', 3), ('cherry', 1), ('date', 2), ('elderberry', 3)]\nWords with >2 vowels: [('banana', 3), ('elderberry', 3)]\nSorted by vowel count: [('cherry', 1), ('apple', 2), ('date', 2), ('banana', 3), ('elderberry', 3)]\n"
        }
      ],
      "execution_count": 26
    },
    {
      "id": "summary",
      "cell_type": "markdown",
      "source": "## Summary\n\nIn this section, we covered:\n\n1. **Lambda functions**: Anonymous functions with single expressions\n2. **Built-in functions**: `map()`, `filter()`, `reduce()`, `sorted()`\n3. **Practical applications**: Combining multiple functions for data processing\n\n### Key Takeaways:\n- Lambda functions are perfect for short, one-line operations\n- Built-in functions like `map()`, `filter()`, and `reduce()` work great with lambda functions\n- You can chain operations together for powerful data processing\n- Always consider readability when choosing between lambda and regular functions",
      "metadata": {}
    }
  ]
}