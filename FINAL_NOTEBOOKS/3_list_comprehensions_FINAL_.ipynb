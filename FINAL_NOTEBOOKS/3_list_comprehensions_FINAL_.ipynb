{
 "cells": [
  {
   "cell_type": "markdown",
   "metadata": {
    "id": "XRFpZxrJmhXh"
   },
   "source": [
    "# List comprehensions (Składanie listy)\n",
    "\n",
    "\n",
    "**List comprehensions are a concise and readable Python syntax for creating lists in a single line of code, often replacing for loops and conditional statements within the list creation process.** **They make code shorter, cleaner, and often faster.**\n",
    "**They are used for:**\n",
    "\n",
    "**-transforming data (e.g., modifying list elements),**\n",
    "\n",
    "**-filtering elements based on a condition,**\n",
    "\n",
    "**-generating lists from other iterable objects.**\n",
    "\n",
    "---------------------------------------------------------------------------------------------------\n",
    "List comprehensions to zwięzła i czytelna składnia w Pythonie, która pozwala tworzyć listy w jednej linijce kodu, często zastępując pętle for oraz instrukcje warunkowe wbudowane w proces generowania listy. Dzięki nim kod jest krótszy, bardziej przejrzysty i często szybszy.\n",
    "Stosuje się je do:\n",
    "\n",
    "-przekształcania danych (np. modyfikacji elementów listy),\n",
    "\n",
    "-filtrowania elementów według warunku,\n",
    "\n",
    "-tworzenia list na podstawie innych iterowalnych obiektów.\n",
    "\n",
    "Docs:\n",
    "1. https://docs.python.org/2/tutorial/datastructures.html#list-comprehensions\n",
    "2. https://realpython.com/list-comprehension-python/\n",
    "\n",
    "<br><br>\n",
    "\n"
   ]
  },
  {
   "cell_type": "markdown",
   "metadata": {},
   "source": [
    "## Core syntax  / Podstawowa składnia\n",
    "\n",
    "**The core syntax consists of an expression ( This is what gets evaluated and added to the list) , a variable ( The loop variable that takes values from the iterable) , and an iterable (The sequence of values that variable will loop through):**\n",
    "\n",
    "**List comprehension is specified by square brackets (just like the list itself) inside which you have a for loop over some iterable object.**\n",
    "\n",
    "-------------------------------------------------\n",
    "\n",
    "Podstawowa składnia składa się z : wyrażenia ( wykonanie zadanej operacji i dodanie obiektu do listy) , zmiennej (zmienna która przechodzi przez wartości iteratora /sekwencji) i iteratora ( wartości przez które nasza zmienna będzie 'przechodzić') :\n",
    "\n",
    "List comprehension jest tworzona przy uzyciu nawaisów kwadratowych (jak sama lista) wewnątrz których zdefiniowana jest pętla for która iteruje po iteratorze/sekwencji)\n",
    "\n",
    "`new_list = [x for x in some_iterable]`\n",
    "\n",
    "`new_list = [expression for item in sequence / iterable]`\n",
    "\n",
    "<br> <br>"
   ]
  },
  {
   "cell_type": "markdown",
   "metadata": {},
   "source": [
    "## Benefits / Zalety:\n",
    "\n",
    "**Conciseness: replace 4–5 lines with 1.**\n",
    "\n",
    "**Readability: once someome get used to the pattern, it’s clearer than a verbose loop.**\n",
    "\n",
    "**Performance: slightly faster than regular for loops.**\n",
    "\n",
    "----------------------\n",
    "\n",
    "Zwięzłość: zastępuje 4–5 linijek kodu jedną.\n",
    "\n",
    "Czytelność: kiedy ktoś przyzwyczai się do wzorca, jest to bardziej przejrzyste niż rozwlekła pętla.\n",
    "\n",
    "Wydajność: nieco szybsze niż zwykłe pętle for.\n",
    "\n",
    "<br> <br>"
   ]
  },
  {
   "cell_type": "markdown",
   "metadata": {},
   "source": [
    "###  Examples / Przykłady\n",
    "\n",
    "**Let’s go through the operation of list construction with an example. We will multiply each element of the list. Let’s do it using the familiar for loop approach:**\n",
    "\n",
    "-------------------\n",
    "Prześledźmy operację składania list na przykładzie. Pomnożymy kolejne elementy listy. Zróbmy to za pomocą znanego sposobu z pętlą for:"
   ]
  },
  {
   "cell_type": "code",
   "execution_count": null,
   "metadata": {
    "id": "BYAMlDGIkEJC"
   },
   "outputs": [],
   "source": [
    "simple_list = [0, 5, 2, 10, -1, 3]"
   ]
  },
  {
   "cell_type": "code",
   "execution_count": null,
   "metadata": {
    "id": "4-93bHd7nPCi"
   },
   "outputs": [],
   "source": [
    "new_list = []\n",
    "for elem in simple_list:\n",
    "  new_list.append(2 * elem)"
   ]
  },
  {
   "cell_type": "code",
   "execution_count": null,
   "metadata": {
    "id": "p2aOhsXundvq"
   },
   "outputs": [],
   "source": [
    "new_list"
   ]
  },
  {
   "cell_type": "markdown",
   "metadata": {
    "id": "qCjVKE_xnk0a"
   },
   "source": [
    "<br> <br>\n",
    "\n",
    "\n",
    "**Python allows performing the same transformation in a more concise way**\n",
    "\n",
    "-------------------------------------------------------------\n",
    "\n",
    "\n",
    "Python umożliwia wykonanie takiej samej transformacji w bardziej zwięzły sposób:\n"
   ]
  },
  {
   "cell_type": "code",
   "execution_count": null,
   "metadata": {
    "id": "9mwoxvnoneda"
   },
   "outputs": [],
   "source": [
    "[2 * elem for elem in simple_list]"
   ]
  },
  {
   "cell_type": "markdown",
   "metadata": {},
   "source": [
    "<br> <br>\n",
    "\n",
    "**Another example with sequence/iterable of different type:**\n",
    "\n",
    "----------------------------\n",
    "Kolejny przykład z sekwencją/obektem iterowalnym innego typu:\n"
   ]
  },
  {
   "cell_type": "code",
   "execution_count": null,
   "metadata": {},
   "outputs": [],
   "source": [
    "pairs = [(x, y) for x in range(3) for y in range(2)]\n",
    "pairs\n",
    "\n",
    "\n",
    "\n",
    "'''\n",
    "pairs = []\n",
    "for x in range(3):\n",
    "    for y in range(2):\n",
    "        pairs.append((x, y))\n",
    "\n",
    "'''"
   ]
  },
  {
   "cell_type": "raw",
   "metadata": {},
   "source": [
    "range(5)           # → 0, 1, 2, 3, 4\n",
    "range(1, 5)        # → 1, 2, 3, 4\n",
    "range(1, 10, 2)    # → 1, 3, 5, 7, 9\n",
    "range(10, 1, -2)   # → 10, 8, 6, 4, 2"
   ]
  },
  {
   "cell_type": "markdown",
   "metadata": {},
   "source": [
    "<br> <br>\n",
    "\n",
    "## List comprehensions with 'if' / Lista składana z 'if'\n",
    "\n",
    "**List comprehension with an if condition allows you to create a new list by adding only those elements from an existing sequence that meet a specified condition.**\n",
    "\n",
    "------------------\n",
    "\n",
    "List comprehension z warunkiem if pozwala na tworzenie nowej listy, dodając do niej tylko te elementy z istniejącej sekwencji, które spełniają określony warunek.\n",
    "\n",
    "\n",
    "`new_list = [x for x in some_iterable if condition == True]`\n",
    "\n",
    "`[expression for item in sequence / iterable if condition == True]`\n",
    "\n",
    "<br> <br>\n"
   ]
  },
  {
   "cell_type": "markdown",
   "metadata": {
    "id": "STedIrzvol4_"
   },
   "source": [
    "**If we also wanted to filter out elements greater than 0:**\n",
    "\n",
    "------------------\n",
    "\n",
    "Gdybyśmy chcieli przy okazji odfiltrować elementy większe od 0:\n",
    "\n"
   ]
  },
  {
   "cell_type": "code",
   "execution_count": null,
   "metadata": {
    "id": "LddZ0hlRn0Wv"
   },
   "outputs": [],
   "source": [
    "new_list = []\n",
    "for elem in simple_list:\n",
    "  if elem > 0:\n",
    "    new_list.append(2 * elem)\n",
    "\n",
    "new_list"
   ]
  },
  {
   "cell_type": "markdown",
   "metadata": {
    "id": "POwD1BrHo1Yx"
   },
   "source": [
    "<br> <br>\n",
    "\n",
    "**More concisely, we can do the same thing using a list comprehension:**\n",
    "\n",
    "------------------\n",
    "Bardziej zwięźle możemy zrobić to samo za pomocą list comprehension:"
   ]
  },
  {
   "cell_type": "code",
   "execution_count": null,
   "metadata": {
    "id": "NUWh3dN5ozsv"
   },
   "outputs": [],
   "source": [
    "[2 * elem for elem in simple_list if elem > 0]"
   ]
  },
  {
   "cell_type": "markdown",
   "metadata": {},
   "source": [
    "<br> <br>\n",
    "\n",
    "## 'if' and its position / 'if' i jego pozycja\n",
    "\n",
    "**Let's assume we don't want to filter items of the iterable/ sequence but we would like iterate through all of the elements and make an updates only if specific condition is met:**\n",
    "\n",
    "-------------------\n",
    "\n",
    "Nie chcemy filtrować elementów sekwencji ale przejśc przez wszystkie elementy i zmodyfikować tylko te elementy które spełniają określony warunek:\n"
   ]
  },
  {
   "cell_type": "code",
   "execution_count": null,
   "metadata": {},
   "outputs": [],
   "source": [
    "[2 * elem if elem > 0 else elem for elem in simple_list]\n"
   ]
  },
  {
   "cell_type": "code",
   "execution_count": null,
   "metadata": {},
   "outputs": [],
   "source": [
    "dna = 'ACCGTA'\n",
    "alkali = ['puryna' if a == 'A' or a == 'G' else 'pirymidyna' for a in dna]\n",
    "alkali"
   ]
  },
  {
   "cell_type": "markdown",
   "metadata": {},
   "source": [
    "<br> <br>\n",
    "\n",
    "**Why, when we used the `if` exepression without `else`, we placed it on the right side of the  `for ... in ...` expression**\n",
    "\n",
    "**Whereas when using the `if ... else ...` we placed it on the left side of the `for ... in ....` expression:**\n",
    "\n",
    "--------------------------------------------------------------------------------------------------------------------\n",
    "Dlaczego kiedy używaliśmy wyrażenia `if`, bez `else`, umieszczaliśmy je po prawej stronie wyrażenia `for ... in ...`:\n",
    "\n",
    "natomiast używając konstrukcji `if ... else ...`, umieszczaliśmy ją po lewej stronie wyrażenia `for ... in ....`:\n",
    "\n",
    "\n",
    "`[2 * elem for elem in simple_list if elem > 0]`\n",
    "\n",
    "`[2 * elem if elem > 0 else elem for elem in simple_list]`\n",
    "\n",
    "<br> <br>\n",
    "\n",
    "**In fact, in these two cases, we are doing two different things:**\n",
    "\n",
    "**-A standalone `if` only filters elements, so the expression is placed on the right side**\n",
    "\n",
    "**-In the case of `if ... else ...`, depending on whether certain conditions are met or not, we choose one value or another to return.**\n",
    "\n",
    "--------------------------------------------------------------------\n",
    "\n",
    "Tak naprawdę w tych dwu przypadkach robimy dwie różne rzeczy:\n",
    "\n",
    "Samo `if` powoduje, że tylko filtrujemy elementy, zatem wyrażenie umieszczamy po prawej stronie.\n",
    "\n",
    "W przypadku `if ... else ...` w zależności od spełniania, lub nie określonych warunków, wybieramy taką lub inną zwracaną wartość.\n",
    "\n",
    "<br> <br>\n"
   ]
  },
  {
   "cell_type": "markdown",
   "metadata": {
    "jp-MarkdownHeadingCollapsed": true
   },
   "source": [
    "## Exercise\n",
    "\n",
    "**Given a list of numbers, create a new list with their squares:**\n",
    "\n",
    "----------------\n",
    "Dla danej listy liczb, utwórz nową listę zawierającą ich kwadraty.\n",
    "\n"
   ]
  },
  {
   "cell_type": "code",
   "execution_count": null,
   "metadata": {},
   "outputs": [],
   "source": [
    "numbers = [2, 5, 3, 9, 1]\n",
    "# Your turn 👇\n",
    "# squares= [.....]\n"
   ]
  },
  {
   "cell_type": "markdown",
   "metadata": {
    "jp-MarkdownHeadingCollapsed": true
   },
   "source": [
    "<details>\n",
    "<summary>Click to reveal the solution</summary>\n",
    "\n",
    "```python\n",
    "# Your solution code here\n",
    "squares= [n * n for n in numbers]\n",
    "squares\n",
    "\n",
    "\n"
   ]
  },
  {
   "cell_type": "markdown",
   "metadata": {},
   "source": [
    "<br> <br>\n",
    "\n",
    "## Exercise\n",
    "\n",
    "**Given a list of words, filter words shorter than 3 letters:**\n",
    "\n",
    "----------------\n",
    "Dla danej listy słów, utwórz nową listę zawierającą tylko słowa krótsze niż 3 litery.\n"
   ]
  },
  {
   "cell_type": "code",
   "execution_count": null,
   "metadata": {},
   "outputs": [],
   "source": [
    "tech = [\"airflow\", \"dag\", \"spark\", \"sql\"]\n",
    "# Your turn 👇\n",
    "# short = [...]\n"
   ]
  },
  {
   "cell_type": "markdown",
   "metadata": {},
   "source": [
    "<details>\n",
    "<summary>Click to reveal the solution</summary>\n",
    "\n",
    "```python\n",
    "# Your solution code here\n",
    "short = [w for w in tech if len(w) <= 3]\n",
    "short"
   ]
  },
  {
   "cell_type": "markdown",
   "metadata": {},
   "source": [
    "<br> <br>\n",
    "\n",
    "\n",
    "## Examples ( list of dictionaries) / Przykład (lista słowników)\n",
    "\n",
    "\n"
   ]
  },
  {
   "cell_type": "markdown",
   "metadata": {},
   "source": [
    "**From a list of dictionaries , get the list of names**\n",
    "\n",
    "------------------\n",
    "\n",
    "Z listy słowników stwórz liste z imionami\n",
    "\n"
   ]
  },
  {
   "cell_type": "code",
   "execution_count": null,
   "metadata": {},
   "outputs": [],
   "source": [
    "kids = [\n",
    "    {\"name\": \"Alan\", \"age\": 3},\n",
    "    {\"name\": \"Jessica\", \"age\": 6},\n",
    "    {\"name\": \"Bryan\", \"age\": 11}\n",
    "]\n",
    "\n",
    "\n",
    "names = [kid[\"name\"] for kid in kids]\n",
    "names\n"
   ]
  },
  {
   "cell_type": "markdown",
   "metadata": {},
   "source": [
    "<br> <br>\n",
    "\n",
    "**Get ages above 3**\n",
    "\n",
    "------------------\n",
    "\n",
    "Wybierz tylko wiek większy niż 3\n"
   ]
  },
  {
   "cell_type": "code",
   "execution_count": null,
   "metadata": {},
   "outputs": [],
   "source": [
    "\n",
    "ages_above_3 = [kid[\"age\"] for kid in kids if kid[\"age\"] > 3]\n",
    "ages_above_3"
   ]
  },
  {
   "cell_type": "markdown",
   "metadata": {},
   "source": [
    "<br> <br>\n",
    "\n",
    "**Create a new list of dictionaries with discounted product names and their discounted prices (10% off)**\n",
    "\n",
    "---------------------------\n",
    "\n",
    "Stwórz nową listę słowników z nazwą  produktów podlegających przecenie i  ceną obniżoną o 10 %"
   ]
  },
  {
   "cell_type": "code",
   "execution_count": null,
   "metadata": {},
   "outputs": [],
   "source": [
    "\n",
    "products = [\n",
    "    {\"id\": 1, \"name\": \"Laptop\", \"price\": 3200, \"discount\": True},\n",
    "    {\"id\": 2, \"name\": \"Mouse\", \"price\": 150, \"discount\": False},\n",
    "    {\"id\": 3, \"name\": \"Monitor\", \"price\": 1200, \"discount\": True},\n",
    "    {\"id\": 4, \"name\": \"Keyboard\", \"price\": 400, \"discount\": False}\n",
    "]\n",
    "\n",
    "\n",
    "discounted = [\n",
    "    {\"name\": product[\"name\"], \"discounted_price\": round(product[\"price\"] * 0.9, 2)}\n",
    "    for product in products\n",
    "    if product[\"discount\"]\n",
    "]\n",
    "discounted"
   ]
  },
  {
   "cell_type": "markdown",
   "metadata": {},
   "source": [
    "<br> <br>\n",
    "\n",
    "## Exercise \n",
    "\n",
    "**From the list of user dicts, get emails of active users from PL only:**\n",
    "\n",
    "----------------\n",
    "Z listy słowników użytkowników pobierz adresy e-mail aktywnych użytkowników tylko z Polski (PL).\n"
   ]
  },
  {
   "cell_type": "code",
   "execution_count": null,
   "metadata": {},
   "outputs": [],
   "source": [
    "users = [\n",
    "    {\"name\":\"Ala\", \"email\":\"a@example.com\", \"active\":True, \"country\":\"PL\"},\n",
    "    {\"name\":\"Bob\", \"email\":\"b@example.com\", \"active\":False, \"country\":\"PL\"},\n",
    "    {\"name\":\"Carl\", \"email\":\"c@example.com\", \"active\":True, \"country\":\"DE\"},\n",
    "    {\"name\":\"Dana\", \"email\":\"d@example.com\", \"active\":True, \"country\":\"PL\"},\n",
    "]\n",
    "\n",
    "# Your turn 👇\n",
    "# Place for solution\n",
    "# emails = [....]"
   ]
  },
  {
   "cell_type": "markdown",
   "metadata": {},
   "source": [
    "<details>\n",
    "<summary>Click to reveal the solution</summary>\n",
    "\n",
    "```python\n",
    "# Your solution code here\n",
    "emails = [u.get(\"email\") for u in users if u.get(\"active\") and u.get(\"country\") == \"PL\"] ## safer version\n",
    "emails_ = [u[\"email\"] for u in users if u[\"active\"] and u[\"country\"] == \"PL\"]\n",
    "\n",
    "# Avoids KeyError: .get() returns None (or a default value) if the key doesn’t exist, preventing runtime errors.\n",
    "# Supports Defaults: You can specify a fallback value, e.g., my_dict.get(\"key\", \"default\").\n",
    "# Cleaner Code: It simplifies conditional logic compared to checking key existence with if key in dict.\n",
    "\n",
    "print(emails)\n",
    "print(emails_)"
   ]
  },
  {
   "cell_type": "markdown",
   "metadata": {
    "id": "TrjuE3m6qhYX"
   },
   "source": [
    "<br> <br>\n",
    "\n",
    "##  Example( dictionary unpacking ) / Rozpakowywanie słowników\n",
    "\n",
    "\n",
    "\n",
    "**Converting prices from one currency to another. For example:**\n",
    "\n",
    "--------------------------------------------------\n",
    "\n",
    "Przeliczanie cen z jednej waluty na inną. Przykładowo:\n",
    "\n",
    "\n",
    "```python\n",
    "\n",
    "[{**dict} for dict in list]  ### JUST A COPY OF A DICTIONARY\n",
    "\n",
    "[{**dict, \"new_key\": \"value\"} for dict in list] \n",
    "\n",
    "[{**dict, **{\"existing_key\":\"new_value \", \"new_key\": \"new_value\"}} for dict in list]  ### UPDATES VALUES/ ADD NEW VALUES INTO IN EXISTING DICTIONARY\n",
    "\n",
    "\n",
    "```\n",
    "\n",
    "<br> <br>"
   ]
  },
  {
   "cell_type": "code",
   "execution_count": null,
   "metadata": {
    "id": "xdneqzTQq48y"
   },
   "outputs": [],
   "source": [
    "stock_levels = [\n",
    "    {\"item\": \"Samsung\", \"price\": 700.0, \"quantity\": 5, \"currency\": \"EUR\"},\n",
    "    {\"item\": \"IPhone\", \"price\": 1000.0, \"quantity\": 3, \"currency\": \"EUR\"},\n",
    "]"
   ]
  },
  {
   "cell_type": "markdown",
   "metadata": {
    "id": "SCdZc8zvreen"
   },
   "source": [
    "<br> <br>\n",
    "\n",
    "**We have a given EUR/PLN exchange rate:**\n",
    "\n",
    "------------\n",
    "\n",
    "\n",
    "Mamy dany kurs EUR/PLN:"
   ]
  },
  {
   "cell_type": "code",
   "execution_count": null,
   "metadata": {
    "id": "not1zIHOrd6f"
   },
   "outputs": [],
   "source": [
    "exchange_rate = 4.26"
   ]
  },
  {
   "cell_type": "markdown",
   "metadata": {
    "id": "mfB3nifauyQb"
   },
   "source": [
    "<br> <br>\n",
    "\n",
    "**Using the list comprehension, we can concisely convert prices at the EUR/PLN exchange rate:**\n",
    "\n",
    "----------------------------------\n",
    "\n",
    "Korzystając z list comprehension możemy w zwięzły sposób przeliczyć ceny po kursie EUR/PLN::"
   ]
  },
  {
   "cell_type": "code",
   "execution_count": null,
   "metadata": {
    "id": "Ur-JPeo8sDay",
    "scrolled": true
   },
   "outputs": [],
   "source": [
    "stock_levels_pln = [{**stock, \"price\": stock[\"price\"] * exchange_rate, \"currency\": \"PLN\"} for stock in stock_levels]\n",
    "\n",
    "\n",
    "\n",
    "stock_levels_pln_ = [\n",
    "    {**stock, **{\"price\": stock[\"price\"] * exchange_rate, \"currency\": \"PLN\"}} for stock in stock_levels\n",
    "]\n",
    "\n",
    "\n",
    "print(stock_levels_pln)\n",
    "print(stock_levels_pln_)"
   ]
  },
  {
   "cell_type": "markdown",
   "metadata": {
    "id": "OGQkSCMKqJOh"
   },
   "source": [
    "<br> <br>\n",
    "\n",
    "## Exercise\n",
    "\n",
    "**How would total revenue for the `TV` product change if the price increased by 10%. Here is the list of transactions:**\n",
    "\n",
    "----------------------------------------\n",
    "\n",
    "Jak zmieniłby się łączny przychód dla produktu `TV`, jeśli cena zwiększyłaby się o 10%. Oto lista transakcji:"
   ]
  },
  {
   "cell_type": "code",
   "execution_count": null,
   "metadata": {
    "id": "e-jdBy_gb9oW"
   },
   "outputs": [],
   "source": [
    "transactions = [\n",
    "    {\"id\": 1, \"item\": \"TV\", \"quantity\": 2, \"price\": 2000.0},\n",
    "    {\"id\": 2, \"item\": \"TV\", \"quantity\": 1, \"price\": 4000.0},\n",
    "    {\"id\": 3, \"item\": \"PC\", \"quantity\": 3, \"price\": 2500.0},\n",
    "]"
   ]
  },
  {
   "cell_type": "code",
   "execution_count": null,
   "metadata": {
    "cellView": "form",
    "id": "3ysgGx7YpXWO"
   },
   "outputs": [],
   "source": [
    "# Your turn 👇\n",
    "# Place for solution\n",
    "  "
   ]
  },
  {
   "cell_type": "markdown",
   "metadata": {},
   "source": [
    "<details>\n",
    "<summary>Click to reveal the solution</summary>\n",
    "\n",
    "```python\n",
    "# Your solution code here\n",
    "updated_price_transactions = [{**t, \"price\": t[\"price\"] * 1.10} if t[\"item\"] == \"TV\" else t for t in transactions]\n",
    "print(updated_price_transactions)\n",
    "\n",
    "list_of_incomes = [t[\"quantity\"] * t[\"price\"] for t in updated_price_transactions if t[\"item\"] == \"TV\"]\n",
    "print(list_of_incomes)\n",
    "\n",
    "revenue_before = sum([t[\"quantity\"] * t[\"price\"] for t in transactions if t[\"item\"] == \"TV\"])\n",
    "print(revenue_before)\n",
    "revenue_updated  = sum([t[\"quantity\"] * t[\"price\"] for t in updated_price_transactions if t[\"item\"] == \"TV\"])\n",
    "print(revenue_updated)\n",
    "\n",
    "f'difference between revenues after price changes is {revenue_updated - revenue_before}'"
   ]
  },
  {
   "cell_type": "markdown",
   "metadata": {
    "id": "hy-k0QoD4ibh"
   },
   "source": [
    "<br> <br>\n",
    "\n",
    "## Exercise\n",
    "\n",
    "**Use list comprehension to clean `data`:**\n",
    "\n",
    "**1. Remove `None`**\n",
    "\n",
    "**2. Cast the string to numeric values**\n",
    "\n",
    "**3. Extract numeric values from the tuple**\n",
    "\n",
    "**4. Leave only values greater than or equal to `0`**\n",
    "\n",
    "**5. Sort the result ascending**\n",
    "\n",
    "------------------------------------\n",
    "\n",
    "\n",
    "Za pomocą list comprehension oczyść `dane`:\n",
    "1. Usuń `None`\n",
    "2. Zrzutuj string na wartości liczbowe\n",
    "3. Wyciagnij wartości liczbowe z tuple\n",
    "4. Zostaw tylko wartości większe bądź równe `0`\n",
    "5. Posortuj wynik rosnąco\n"
   ]
  },
  {
   "cell_type": "code",
   "execution_count": null,
   "metadata": {
    "id": "G6xrfd_f4iBy"
   },
   "outputs": [],
   "source": [
    "data = [None, \"12\", -5, (\"result\", 8), \"7\", None, 5, \"-8\", (\"ranking\", 15), 0, None, \"3\", -2, (\"value\", 21)]\n",
    "# result = [0, 3, 5, 7, 8, 12, 15, 21]"
   ]
  },
  {
   "cell_type": "code",
   "execution_count": null,
   "metadata": {
    "id": "mJ9fXlvNBUCr"
   },
   "outputs": [],
   "source": [
    "# Your turn 👇\n",
    "# HINT\n",
    "# isinstance() is a built-in Python function used to check the type of an object.\n",
    "# isinstance(object, type)\n",
    "# x = 5\n",
    "# isinstance(intx, )  # → True\n",
    "\n",
    "# Place for solution\n"
   ]
  },
  {
   "cell_type": "markdown",
   "metadata": {},
   "source": [
    "<details>\n",
    "<summary>Click to reveal the solution</summary>\n",
    "\n",
    "```python\n",
    "# Your solution code here\n",
    "step1 = [d for d in data if d is not None]\n",
    "print(step1)\n",
    "step2 = [int(d) if isinstance(d, str) else d for d in step1]\n",
    "print(step2)\n",
    "step3 = [d[1] if isinstance(d, tuple) else d for d in step2]\n",
    "print(step3)\n",
    "step4 = [d for d in step3 if d >= 0]\n",
    "print(step4)\n",
    "result = sorted(step4)\n",
    "print(result)\n",
    "result_combined = [int(d) if isinstance(d, str)\n",
    "          else\n",
    "          d[1] if isinstance(d, tuple)\n",
    "          else\n",
    "          d\n",
    "          for d in data if d is not None]\n",
    "result_final =sorted( [d for d in result_combined if d >= 0])\n",
    "result_final"
   ]
  },
  {
   "cell_type": "markdown",
   "metadata": {
    "id": "7jM6QFadgL7l"
   },
   "source": [
    "<br> <br>\n",
    "\n",
    "# Dict comprehensions ( Wyrażenie słownikowe )\n",
    "\n",
    "Docs:\n",
    "1. https://realpython.com/python-dictionary-comprehension/\n"
   ]
  },
  {
   "cell_type": "markdown",
   "metadata": {},
   "source": [
    "<br> <br>\n",
    "\n",
    "## Example\n",
    "\n",
    "**We will use an example of a dictionary that contains information about temperatures in various cities in Poland:**\n",
    "\n",
    "--------------------------------------------------\n",
    "\n",
    "Posłużymy się przykładem słownika, który zawiera informacje o temperaturach w różnych miastach w Polsce:"
   ]
  },
  {
   "cell_type": "code",
   "execution_count": null,
   "metadata": {
    "id": "m2DQmKtZh5oj"
   },
   "outputs": [],
   "source": [
    "temperatures = {\n",
    "    \"Poznań\": 10,\n",
    "    \"Warszawa\": 5,\n",
    "    \"Kraków\": 8,\n",
    "    \"Wrocław\": 12,\n",
    "    \"Gdańsk\": 7,\n",
    "}\n",
    "temperatures"
   ]
  },
  {
   "cell_type": "markdown",
   "metadata": {
    "id": "L4eHb0H5oGU7"
   },
   "source": [
    "<br> <br>\n",
    "\n",
    "**Little reminder on how the following functions work:**\n",
    "\n",
    "**When you use .items(), .values(), or .keys() on a dictionary in Python, you’re creating special view objects that behave like dynamic, iterable collections.**\n",
    "\n",
    "**dynamic - automatically reflect any changes made to the dictionary they come from**\n",
    "\n",
    "-----------------------------------\n",
    "\n",
    "\n",
    "Przypomnijmy sobie działanie poniższych funkcji:\n",
    "\n",
    "Kiedy używasz .items(), .values() lub .keys() na słowniku w Pythonie, tworzysz specjalne obiekty widoku, które zachowują się jak dynamiczne, kolekcje po których można iterować.\n",
    "\n",
    "dynamiczne - automatycznie odzwierciedlają wszelkie zmiany w słowniku, z którego pochodzą"
   ]
  },
  {
   "cell_type": "code",
   "execution_count": null,
   "metadata": {
    "id": "zTxNMFdQkyYr"
   },
   "outputs": [],
   "source": [
    "print(temperatures.items())\n",
    "\n",
    "print(type(temperatures.items()))\n",
    "\n",
    "print(temperatures.values())\n",
    "\n",
    "print(type(temperatures.values()))\n",
    "\n",
    "print(temperatures.keys())\n",
    "\n",
    "print(type(temperatures.keys()))"
   ]
  },
  {
   "cell_type": "code",
   "execution_count": null,
   "metadata": {},
   "outputs": [],
   "source": [
    "for city, temp in temperatures.items():\n",
    "    print(city, temp)"
   ]
  },
  {
   "cell_type": "markdown",
   "metadata": {
    "id": "62YLAa9YoWvr"
   },
   "source": [
    "<br> <br>\n",
    "\n",
    "**We want to transform `temperatures` to include information about cities where the temperature is greater than 7 degrees Celsius. Using a `for` loop, we would do this as follows:**\n",
    "\n",
    "--------------------------------\n",
    "\n",
    "\n",
    "Chcemy przekształcić `temperatures`, tak aby zawierał informacje o miastach, w których temperatura jest większa niż 7 stopni. Za pomocą pętli `for` zrobilibyśmy to w następujący sposób:"
   ]
  },
  {
   "cell_type": "code",
   "execution_count": null,
   "metadata": {
    "id": "sbcKsdQaoUP2"
   },
   "outputs": [],
   "source": [
    "temperatures_dict = {}\n",
    "for city, temp_ in temperatures.items():\n",
    "  if temp_ > 7:\n",
    "    temperatures_dict[city] = temp_\n",
    "\n",
    "temperatures_dict"
   ]
  },
  {
   "cell_type": "markdown",
   "metadata": {
    "id": "RznExMDPpqzs"
   },
   "source": [
    "<br> <br>\n",
    "\n",
    "**The similar code for the dict comprehension operation is below:**\n",
    "\n",
    "----------------------------------------\n",
    "\n",
    "Analogiczny kod dla operacji comprehension znajduje się poniżej:"
   ]
  },
  {
   "cell_type": "code",
   "execution_count": null,
   "metadata": {
    "id": "UlP_Z-p6jNUj"
   },
   "outputs": [],
   "source": [
    "{  city: temp_ \n",
    "   for city, temp_ in temperatures.items()\n",
    "   if temp_ > 7}"
   ]
  },
  {
   "cell_type": "markdown",
   "metadata": {
    "id": "_5U3iIHUqCJj"
   },
   "source": [
    "<br> <br>\n",
    "\n",
    "**In case we still want to convert the temperature from Celsius to Fahrenheit using the function below:**\n",
    "\n",
    "----------------------------------------\n",
    "\n",
    "\n",
    "W przypadku, gdybyśmy jeszcze chcieli przekształcić temperaturę ze stopni Celsjusza na Fahrenheita za pomocą poniższej funkcji:"
   ]
  },
  {
   "cell_type": "code",
   "execution_count": null,
   "metadata": {
    "id": "a4BJTNF0ju8I"
   },
   "outputs": [],
   "source": [
    "def celsius2fahrenheit(c):\n",
    "  return (c * 9/5) + 32"
   ]
  },
  {
   "cell_type": "markdown",
   "metadata": {
    "id": "zc3RtI2WqLDQ"
   },
   "source": [
    "<br> <br>\n",
    "\n",
    "**The only change will be to call the `celsius2fahrenheit` function, for the temperature values:**\n",
    "\n",
    "--------------------------------\n",
    "\n",
    "Jedyną zmiana będzie wywołanie funkcji `celsius2fahrenheit`, na wartościach temperatury:"
   ]
  },
  {
   "cell_type": "code",
   "execution_count": null,
   "metadata": {
    "id": "ZHuh5CD1j6QZ"
   },
   "outputs": [],
   "source": [
    "{\n",
    "    city: celsius2fahrenheit(temp_)\n",
    "    for city, temp_ in temperatures.items()\n",
    "    if temp_ > 7\n",
    "}"
   ]
  },
  {
   "cell_type": "markdown",
   "metadata": {
    "id": "dSkMsIzSqcNo"
   },
   "source": [
    "<br> <br>\n",
    "\n",
    "**There is nothing stopping you from creating lists based on key-value pairs from a dictionary:**\n",
    "\n",
    "---------------------------------------------\n",
    "\n",
    "\n",
    "Nic nie stoi na przeszkodzie, aby na bazie par klucz-wartość ze słownika tworzyć listy:"
   ]
  },
  {
   "cell_type": "code",
   "execution_count": null,
   "metadata": {
    "id": "HmxG783AkHnO"
   },
   "outputs": [],
   "source": [
    "temperatures_list = [(city, celsius2fahrenheit(temp_)) for city, temp_ in temperatures.items() if temp_ > 7]\n",
    "temperatures_list"
   ]
  },
  {
   "cell_type": "markdown",
   "metadata": {
    "id": "kYDy235tqt3Z"
   },
   "source": [
    "<br> <br>\n",
    "\n",
    "**And vice versa:**\n",
    "\n",
    "------------------------------------------\n",
    "\n",
    "I na odwrót:"
   ]
  },
  {
   "cell_type": "code",
   "execution_count": null,
   "metadata": {
    "id": "N7dS6qAOkmTW"
   },
   "outputs": [],
   "source": [
    "{\n",
    "    city: temp_\n",
    "    for city, temp_ in temperatures_list\n",
    "}"
   ]
  },
  {
   "cell_type": "markdown",
   "metadata": {
    "id": "6r5zygp1q7--"
   },
   "source": [
    "<br> <br>\n",
    "\n",
    "**Although it will be simpler to use built-in Python function:**\n",
    "\n",
    "---------------------------------------\n",
    "\n",
    "Chociaż prościej będzie użyć wbudowanej funkcji Pythona:"
   ]
  },
  {
   "cell_type": "code",
   "execution_count": null,
   "metadata": {
    "id": "pR6shpQyqz0n"
   },
   "outputs": [],
   "source": [
    "dict(temperatures_list)\n"
   ]
  },
  {
   "cell_type": "code",
   "execution_count": null,
   "metadata": {},
   "outputs": [],
   "source": [
    "'''\n",
    "temperatures = {\n",
    "    \"Poznań\": 10,\n",
    "    \"Warszawa\": 5,\n",
    "    \"Kraków\": 8,\n",
    "    \"Wrocław\": 12,\n",
    "    \"Gdańsk\": 7,\n",
    "}\n",
    "'''\n",
    "\n",
    "list(temperatures)"
   ]
  },
  {
   "cell_type": "code",
   "execution_count": null,
   "metadata": {},
   "outputs": [],
   "source": [
    "list(temperatures.items())"
   ]
  },
  {
   "cell_type": "markdown",
   "metadata": {
    "id": "wo-uz97YuHK4"
   },
   "source": [
    "<br> <br>\n",
    "\n",
    "## Exercise\n",
    "\n",
    "**Based on the data below, create a dictionary with the key \"name\" and the value \"salary.\" We're interested in people with salaries below 10,000.**\n",
    "\n",
    "Na podstawie poniższych danych utwórz słownik, którego kluczem będzie imię a wartością pensja. Interesują nas osoby z pensją poniżej 10000."
   ]
  },
  {
   "cell_type": "code",
   "execution_count": null,
   "metadata": {
    "id": "yGvFKQ9iu4zx"
   },
   "outputs": [],
   "source": [
    "data = [\n",
    "    {\"id\": 1, \"name\": \"Alicja\", \"salary\": 7000},\n",
    "    {\"id\": 2, \"name\": \"Robert\", \"salary\": 5000},\n",
    "    {\"id\": 3, \"name\": \"Jerzy\", \"salary\": 12000}\n",
    "]"
   ]
  },
  {
   "cell_type": "code",
   "execution_count": null,
   "metadata": {
    "cellView": "form",
    "id": "sfkz8wINuGrv"
   },
   "outputs": [],
   "source": [
    "# Your turn 👇\n",
    "# Place for solution\n"
   ]
  },
  {
   "cell_type": "markdown",
   "metadata": {},
   "source": [
    "<details>\n",
    "<summary>Click to reveal the solution</summary>\n",
    "\n",
    "```python\n",
    "\n",
    "# Your solution code here\n",
    "name_to_salary = {d[\"name\"]: d[\"salary\"] for d in data if d[\"salary\"] < 10000}\n",
    "name_to_salary\n",
    "name_to_salary = {d.get(\"name\"): d.get(\"salary\") for d in data if d.get(\"salary\", 0) < 10000}  -> Treat missing salary as 0"
   ]
  },
  {
   "cell_type": "markdown",
   "metadata": {},
   "source": [
    "<br> <br>\n",
    "\n",
    "**From a dictionary of words, classify each word as True if it starts with a vowel, else False.**\n",
    "\n",
    "---------------------------------------------\n",
    "\n",
    "Z podanego słownika słów sklasyfikuj każde słowo jako True, jeśli zaczyna się samogłoską, w przeciwnym razie jako False.\n",
    "\n"
   ]
  },
  {
   "cell_type": "code",
   "execution_count": null,
   "metadata": {},
   "outputs": [],
   "source": [
    "words = [\"jabłko\", \"awokado\", \"pomarańcza\", \"gruszka\", \"agrest\", \"ostrężyna\"]"
   ]
  },
  {
   "cell_type": "code",
   "execution_count": null,
   "metadata": {},
   "outputs": [],
   "source": [
    "# Your turn 👇\n",
    "# Place for solution\n",
    "\n",
    "# word_classification = {....}\n"
   ]
  },
  {
   "cell_type": "markdown",
   "metadata": {},
   "source": [
    "<details>\n",
    "<summary>Click to reveal the solution</summary>\n",
    "\n",
    "```python\n",
    "# Your solution code here\n",
    "word_classification = {\n",
    "    word: word[0].lower() in \"aeiou\" \n",
    "    for word in words\n",
    "}\n",
    "word_classification\n",
    "\n",
    "###########################\n",
    "\n",
    "word_classification = {\n",
    "    word: word.lower().startswith((\"a\", \"e\", \"i\", \"o\", \"u\")) \n",
    "    for word in words}\n",
    "word_classification\n",
    "\n",
    "##################3\n",
    "word_classification = {\n",
    "    word: True if word[0].lower() in \"aeiou\" else False\n",
    "    for word in words\n",
    "}\n",
    "word_classification"
   ]
  },
  {
   "cell_type": "markdown",
   "metadata": {
    "id": "LU7wXgACgRPI"
   },
   "source": [
    "<br> <br>\n",
    "\n",
    "## Set comprehension\n",
    "\n",
    "**Set comprehension is very similar to dict comprehension. Instead of returning a key-value pair, we simply return the value. Let's use an example similar to the last one. We'll add an additional record for another person named Alicja:**\n",
    "\n",
    "------------------------------\n",
    "\n",
    "Set comprehension wygląda bardzo podobnie do dict comprehension. Zamiast pary klucz-wartość zwracamy tylko wartość. Posłużmy się przykładem podobnym do ostatniego. Dodamy rekord z kolejną osobą o imieniu Alicja:"
   ]
  },
  {
   "cell_type": "code",
   "execution_count": null,
   "metadata": {
    "id": "aTz1HmjLwk8p"
   },
   "outputs": [],
   "source": [
    "data = [\n",
    "    {\"id\": 1, \"name\": \"Alicja\", \"salary\": 7000},\n",
    "    {\"id\": 2, \"name\": \"Robert\", \"salary\": 5000},\n",
    "    {\"id\": 3, \"name\": \"Jerzy\", \"salary\": 12000},\n",
    "    {\"id\": 4, \"name\": \"Alicja\", \"salary\": 9999},\n",
    "]"
   ]
  },
  {
   "cell_type": "markdown",
   "metadata": {
    "id": "I7A0seDNxmQ0"
   },
   "source": [
    "<br> <br>\n",
    "\n",
    "**Our task will be to find people whose salary is below 10,000:**\n",
    "\n",
    "------------------------------------\n",
    "\n",
    "Naszym zadaniem będzie znalezienie osób, których pensja jest poniżej 10000:"
   ]
  },
  {
   "cell_type": "code",
   "execution_count": null,
   "metadata": {
    "id": "01V8NQipxl3d"
   },
   "outputs": [],
   "source": [
    "data_as_set = {\n",
    "    d[\"name\"]\n",
    "    for d in data\n",
    "    if d[\"salary\"] < 10000           \n",
    "}\n",
    "\n",
    "print(data_as_set)\n",
    "type(data_as_set)"
   ]
  },
  {
   "cell_type": "markdown",
   "metadata": {
    "id": "lGVJZfykxbc-"
   },
   "source": [
    "<br> <br>\n",
    "NOTE:\n",
    "\n",
    "**Referring to the previous exercise, note that the salary value is determined by the last record in the list under the same key:**\n",
    "\n",
    "-------------------------------------------\n",
    "\n",
    "\n",
    "Nawiązując do poprzedniego ćwiczenia zwróćmy uwagę, że o wartości pensji decyduje ostatni rekord z listy pod tym samym kluczem:"
   ]
  },
  {
   "cell_type": "code",
   "execution_count": null,
   "metadata": {
    "id": "xe6RC8zoxWCn"
   },
   "outputs": [],
   "source": [
    "{\n",
    "    d[\"name\"]: d[\"salary\"]\n",
    "    for d in data\n",
    "    if d[\"salary\"] < 10000\n",
    "}\n"
   ]
  },
  {
   "cell_type": "markdown",
   "metadata": {
    "id": "7QLGtqZggVCu"
   },
   "source": [
    "<br> <br>\n",
    "\n",
    "# Nested comprehensions / Zagnieźdzone comprehensions\n",
    "\n",
    "Docs:\n",
    "1. https://www.geeksforgeeks.org/nested-list-comprehensions-in-python/\n",
    "2. https://realpython.com/list-comprehension-python/#watch-out-for-nested-comprehensions\n",
    "\n",
    "<br> <br>\n"
   ]
  },
  {
   "cell_type": "markdown",
   "metadata": {},
   "source": [
    "**Let's use an example to analyze temperature measurements. Each row represents a separate measurement device. The values of the elements in the rows represent subsequent measurements.**\n",
    "\n",
    "-------------------------------------------------\n",
    "\n",
    "Posłużmy się przykładem, w który będziemy analizować pomiary temperatur. Każdy wiersz reprezentuje osobne urządzenie pomiarowe. Wartości elementów w wierszach są kolejnymi pomiarami.\n"
   ]
  },
  {
   "cell_type": "code",
   "execution_count": null,
   "metadata": {
    "id": "9M8nUC7B1fSR"
   },
   "outputs": [],
   "source": [
    "temperatures = [\n",
    "    [-10, 30, 8],\n",
    "    [-50, 0, -20, 10],\n",
    "    [-30, 25],\n",
    "    [5, 40, 22],\n",
    "]"
   ]
  },
  {
   "cell_type": "markdown",
   "metadata": {
    "id": "DMOxJXHZBLcD"
   },
   "source": [
    "<br> <br>\n",
    "\n",
    "**In example 1, we want to convert degrees Celsius to Fahrenheit, leaving only the results with Celcius temperature higher than 0.**\n",
    "\n",
    "**Using a `for` loop, we will do this as follows:**\n",
    "\n",
    "--------------------\n",
    "\n",
    "\n",
    "W 1. przykładzie chcemy zamienić stopnie Celsjusza na Fahrenheita pozostawiając wyniki tylko dla temperatur wiekszych od 0. \n",
    "\n",
    "Za pomocą pętli `for` zrobimy to następująco:\n",
    "\n",
    "<br> <br>"
   ]
  },
  {
   "cell_type": "code",
   "execution_count": null,
   "metadata": {
    "id": "du8UU_aV9BeJ"
   },
   "outputs": [],
   "source": [
    "def celsius2fahrenheit(c):\n",
    "  return (c * 9/5) + 32"
   ]
  },
  {
   "cell_type": "code",
   "execution_count": null,
   "metadata": {
    "id": "SUrAl52G9Cvl"
   },
   "outputs": [],
   "source": [
    "result = []\n",
    "for internal_temp in temperatures:\n",
    "  result.append([celsius2fahrenheit(element) for element in internal_temp if element > 0])\n",
    "\n",
    "result"
   ]
  },
  {
   "cell_type": "markdown",
   "metadata": {
    "id": "H7AqWmpABvSy"
   },
   "source": [
    "<br> <br>\n",
    "\n",
    "**If we want to use only the comprehensions, we need to nest subsequent operations:**\n",
    "\n",
    "--------------------\n",
    "\n",
    "W przypadku gdybyśmy chceli skorzystać wyłącznie z comprehensions musimy zagnieżdżać kolejne operacje:"
   ]
  },
  {
   "cell_type": "code",
   "execution_count": null,
   "metadata": {
    "id": "TyHwn3bqB3Co"
   },
   "outputs": [],
   "source": [
    "[\n",
    "    [celsius2fahrenheit(element) for element in wewn_temp if element > 0]\n",
    "    for wewn_temp in temperatures\n",
    "]"
   ]
  },
  {
   "cell_type": "markdown",
   "metadata": {
    "id": "B8m6-KDBCBpK"
   },
   "source": [
    "<br> <br>\n",
    "\n",
    "**What if we wanted a flat list of temperatures? Let's start with the loop solution:**\n",
    "\n",
    "-------------------------\n",
    "\n",
    "A co jeśli chcielibyśmy otrzymać płaską listę temperatur? Zacznijmy od rozwiązania z pętlą:"
   ]
  },
  {
   "cell_type": "code",
   "execution_count": null,
   "metadata": {
    "id": "C_6X2mgFCOdz"
   },
   "outputs": [],
   "source": [
    "temp_list = []\n",
    "for internal_temp in temperatures:\n",
    "  temp_list += [celsius2fahrenheit(element) for element in internal_temp if element > 0]\n",
    "\n",
    "temp_list"
   ]
  },
  {
   "cell_type": "markdown",
   "metadata": {
    "id": "-SMbvG1ECV-y"
   },
   "source": [
    "<br> <br>\n",
    "\n",
    "**Solution based solely on comprehensions:**\n",
    "\n",
    "Rozwiązanie oparte wyłącznie o comprehensions:"
   ]
  },
  {
   "cell_type": "code",
   "execution_count": null,
   "metadata": {
    "id": "nPEeZe6aC0I4"
   },
   "outputs": [],
   "source": [
    "'''LIST INSIDE LIST\n",
    "[\n",
    "    [celsius2fahrenheit(element) for element in wewn_temp if element > 0]\n",
    "    for wewn_temp in temperatures\n",
    "]\n",
    "'''\n",
    "\n",
    "'''temperatures = [\n",
    "    [-10, 30, 8],\n",
    "    [-50, 0, -20, 10],\n",
    "    [-30, 25],\n",
    "    [5, 40, 22],\n",
    "]'''\n",
    "    \n",
    "[\n",
    "    celsius2fahrenheit(element)\n",
    "    for internal_temp in temperatures\n",
    "    for element in internal_temp if element > 0\n",
    "]"
   ]
  },
  {
   "cell_type": "markdown",
   "metadata": {},
   "source": [
    "## Examples"
   ]
  },
  {
   "cell_type": "markdown",
   "metadata": {},
   "source": [
    "**Squares of numbers in groups**\n",
    "\n",
    "-----------------------\n",
    "\n",
    "Kwadraty liczby w grupach\n",
    "\n",
    "```python\n",
    "\n",
    "numbers = [[1, 2, 3], [4, 5], [6, 7, 8]]\n",
    "\n",
    "```"
   ]
  },
  {
   "cell_type": "code",
   "execution_count": null,
   "metadata": {},
   "outputs": [],
   "source": [
    "numbers = [[1, 2, 3], [4, 5], [6, 7, 8]]\n",
    "\n",
    "#### LIST IN LIST ###\n",
    "\n",
    "squares_nested = [[n**2 for n in group] for group in numbers]\n",
    "print(squares_nested)\n",
    "\n",
    "## FLATTENED\n",
    "\n",
    "squares_flat = [n**2 for group in numbers for n in group]\n",
    "print(squares_flat)\n"
   ]
  },
  {
   "cell_type": "markdown",
   "metadata": {},
   "source": [
    "**Go through a shopping list**\n",
    "- **Skip any item with fewer than 5 letters.**\n",
    "- **If an item starts with \"c\", capitalize it.**\n",
    "- **Otherwise, leave as is.**\n",
    "\n",
    "---------------------------------------\n",
    "\n",
    "Przejdź przez listę zakupów\n",
    "- Pomiń każdy element krótszy niż 5 liter.\n",
    "- Jeśli element zaczyna się na „c”, zapisz go wielką literą.\n",
    "- W przeciwnym razie pozostaw bez zmian.\n"
   ]
  },
  {
   "cell_type": "code",
   "execution_count": null,
   "metadata": {},
   "outputs": [],
   "source": [
    "shopping_lists = [\n",
    "    [\"milk\", \"bread\", \"chips\"],\n",
    "    [\"apple\", \"banana\", \"candy\"],\n",
    "    [\"water\", \"cola\", \"beer\"]\n",
    "]\n",
    "\n",
    "#### LIST IN LIST ###\n",
    "nested_result = [\n",
    "    [item.capitalize() if item.startswith(\"c\") else item\n",
    "     for item in group if len(item) >= 5]\n",
    "    for group in shopping_lists\n",
    "]\n",
    "\n",
    "print(nested_result)\n",
    "\n",
    "## FLATTENED\n",
    "flat_result = [\n",
    "    item.capitalize() if item.startswith(\"c\") else item\n",
    "    for group in shopping_lists\n",
    "    for item in group if len(item) >= 5\n",
    "]\n",
    "\n",
    "print(flat_result)"
   ]
  },
  {
   "cell_type": "markdown",
   "metadata": {},
   "source": [
    "<br> <br>\n",
    "\n",
    "## Exercise\n",
    "\n",
    "**Create a flattened list of products starting with 'A'**\n",
    "\n",
    "-----------\n",
    "\n",
    "Stwórz listę produktów zaczynających się na literę 'A'\n",
    "\n"
   ]
  },
  {
   "cell_type": "code",
   "execution_count": null,
   "metadata": {},
   "outputs": [],
   "source": [
    "products = [\n",
    "    [\"Apple\", \"Banana\", \"Avocado\"],\n",
    "    [\"Apricot\", \"Blueberry\"],\n",
    "    [\"Almond\", \"Cherry\", \"Anise\"]\n",
    "]\n",
    "\n",
    "# Your turn 👇\n",
    "# Place for solution\n"
   ]
  },
  {
   "cell_type": "markdown",
   "metadata": {},
   "source": [
    "<details>\n",
    "<summary>Click to reveal the solution</summary>\n",
    "\n",
    "```python\n",
    "# Your solution code here\n",
    "\n",
    "a_products = [\n",
    "    fruit \n",
    "    for sublist in products \n",
    "    for fruit in sublist if fruit.startswith(\"A\") ]\n",
    "a_products"
   ]
  },
  {
   "cell_type": "markdown",
   "metadata": {},
   "source": [
    "<br> <br>\n",
    "\n",
    "## Nested comprehensions - nested dictionaries / Zagnieżdżone słowniki\n",
    "\n"
   ]
  },
  {
   "cell_type": "markdown",
   "metadata": {},
   "source": [
    "## Example\n",
    "\n",
    "\n",
    "**Filter: only students with Math grade >= 60**\n",
    "\n",
    "----------------------\n",
    "\n",
    "Przefiltruj: Tylko studenci z Math grade >= 60\n"
   ]
  },
  {
   "cell_type": "code",
   "execution_count": null,
   "metadata": {},
   "outputs": [],
   "source": [
    "\n",
    "grades = {\n",
    "    \"Alice\": {\"Math\": 85, \"Science\": 90},\n",
    "    \"Bob\": {\"Math\": 55, \"Science\": 75},\n",
    "    \"Charlie\": {\"Math\": 92, \"Science\": 88}\n",
    "}\n",
    "\n",
    "passed_math = {student: subjects for student, subjects in grades.items() if subjects[\"Math\"] >= 60}\n",
    "passed_math"
   ]
  },
  {
   "cell_type": "markdown",
   "metadata": {},
   "source": [
    "**You have a dictionary of employees with their department and salary:**\n",
    "**Build a new dictionary using comprehension where Keys are employee names, Values are nested dicts containing**\n",
    "- **\"salary_eur\" → salary converted from PLN to EUR (assume 1 EUR = 4.5 PLN).**\n",
    "- **\"is_high_salary\" → True if salary > 10,000, otherwise False.**\n",
    "\n",
    "-------------------------------\n",
    "\n",
    "Masz słownik pracowników z ich działem i pensją:\n",
    "Zbuduj nowy słownik przy użyciu składni comprehension, w którym kluczami będą imiona pracowników, a wartościami będą zagnieżdżone słowniki zawierające:\n",
    "„salary_eur” → pensja przeliczona z PLN na EUR (przyjmij kurs 1 EUR = 4,5 PLN).\n",
    "„is_high_salary” → True, jeśli pensja > 10 000, w przeciwnym razie False.\n",
    "\n",
    "<br> <br>\n"
   ]
  },
  {
   "cell_type": "code",
   "execution_count": null,
   "metadata": {},
   "outputs": [],
   "source": [
    "employees = {\n",
    "    \"Alice\": {\"department\": \"IT\", \"salary\": 9000},\n",
    "    \"Bob\": {\"department\": \"HR\", \"salary\": 12000},\n",
    "    \"Charlie\": {\"department\": \"Finance\", \"salary\": 7000},\n",
    "    \"Diana\": {\"department\": \"IT\", \"salary\": 15000},\n",
    "}\n",
    "# 1 #\n",
    "\n",
    "salaries_in_euro = {\n",
    "    employee: {\n",
    "        \"salary_eur\": details[\"salary\"] / 4.50,\n",
    "        \"is_high_slary\": True if details[\"salary\"] > 10000 else False\n",
    "    }\n",
    "    for employee, details in employees.items()\n",
    "}\n",
    "print(salaries_in_euro)\n",
    "\n",
    "# 2 #\n",
    "salaries_in_euro_ = {\n",
    "    employee: {\n",
    "        \"salary_eur\": details[\"salary\"] / 4.50,\n",
    "        \"is_high_salary\": details[\"salary\"] > 10000\n",
    "    }\n",
    "    for employee, details in employees.items()\n",
    "}\n",
    "salaries_in_euro_\n",
    "\n"
   ]
  },
  {
   "cell_type": "markdown",
   "metadata": {
    "id": "TY8O9wOLtGru"
   },
   "source": [
    "<br> <br>\n",
    "\n",
    "## Exercise\n",
    "\n",
    "**Transform the server logs as follows:**\n",
    "\n",
    "**1. Filter out log entries where the CPU metric exceeds 75 (i.e., 75% utilization).**\n",
    "\n",
    "**2. Two possible results:**\n",
    "\n",
    "----------------\n",
    "\n",
    "Przekształć w następujący sposób logi z serwera:\n",
    "1. Odfiltruj ( odrzuć) wpisy w logach, gdzie metryka cpu przekracza 75 (tj. 75% utylizacji)\n",
    "2. Dwa warianty wyniku:\n",
    "\n",
    "<br> <br>\n",
    "* variant I:\n",
    "```\n",
    "{\n",
    "  'server_1': {\n",
    "    'service_a': {'cpu': 55, 'memory': 1200, 'requests': 3200},\n",
    "    'service_b': {'cpu': 70, 'memory': 1800, 'requests': 4500}\n",
    "  },\n",
    "  'server_2': {\n",
    "    'service_a': {'cpu': 65, 'memory': 1400, 'requests': 3800}\n",
    "  }\n",
    "}\n",
    "```\n",
    "* variant II:\n",
    "```\n",
    "{\n",
    "  'server_1-service_a': {'cpu': 55, 'memory': 1200, 'requests': 3200},\n",
    "  'server_1-service_b': {'cpu': 70, 'memory': 1800, 'requests': 4500},\n",
    "  'server_2-service_a': {'cpu': 65, 'memory': 1400, 'requests': 3800}\n",
    "}\n",
    "```\n",
    "<br> <br>\n",
    "\n"
   ]
  },
  {
   "cell_type": "code",
   "execution_count": null,
   "metadata": {
    "id": "3Cw6Q0dCtK7f"
   },
   "outputs": [],
   "source": [
    "logs = {\n",
    "    \"server_1\": {\n",
    "        \"service_a\": {\"cpu\": 55, \"memory\": 1200, \"requests\": 3200},\n",
    "        \"service_b\": {\"cpu\": 70, \"memory\": 1800, \"requests\": 4500}\n",
    "    },\n",
    "    \"server_2\": {\n",
    "        \"service_a\": {\"cpu\": 65, \"memory\": 1400, \"requests\": 3800},\n",
    "        \"service_c\": {\"cpu\": 80, \"memory\": 2200, \"requests\": 5100}\n",
    "    }\n",
    "}"
   ]
  },
  {
   "cell_type": "code",
   "execution_count": null,
   "metadata": {
    "cellView": "form",
    "id": "9uNUb9NNhqDZ"
   },
   "outputs": [],
   "source": [
    "# Your turn 👇\n",
    "# Placeholder for solution - variant I\n",
    "\n",
    "filtered_logs_copy = {server : services for server, services in logs.items()}\n",
    "# that will just copy the items -> what we want to do is to make additional changes in nested'services' dictionary,"
   ]
  },
  {
   "cell_type": "markdown",
   "metadata": {},
   "source": [
    "<details>\n",
    "<summary>Click to reveal the solution</summary>\n",
    "\n",
    "```python\n",
    "# Your solution code here\n",
    "\n",
    "filtered_logs_copy = {server : {\n",
    "    service : metrics for service, metrics in services.items()\n",
    "    if metrics[\"cpu\"] <= 75\n",
    "\n",
    "} for server, services in logs.items()}\n",
    "filtered_logs_copy"
   ]
  },
  {
   "cell_type": "code",
   "execution_count": null,
   "metadata": {
    "cellView": "form",
    "id": "__rHPr__hwa2"
   },
   "outputs": [],
   "source": [
    "# Your turn 👇\n",
    "# Placeholder for solution - variant II"
   ]
  },
  {
   "cell_type": "markdown",
   "metadata": {},
   "source": [
    "<details>\n",
    "<summary>Click to reveal the solution</summary>\n",
    "\n",
    "```python\n",
    "# Your solution code here\n",
    "\n",
    "flat_filtered_logs = {\n",
    "    f\"{server}-{service}\": metrics\n",
    "    for server, services in logs.items()\n",
    "    for service, metrics in services.items()\n",
    "    if metrics['cpu'] <= 75\n",
    "}"
   ]
  },
  {
   "cell_type": "markdown",
   "metadata": {},
   "source": [
    "<br> <br>\n",
    "\n",
    "# Generator expressions  / Generators - Wyrażenia generatorowe / Generatory\n",
    "\n",
    "**A generator is a function that returns an iterator — it produces values lazily, one at a time, using the `yield` keyword instead of return.**\n",
    "\n",
    "**Why care?**\n",
    "\n",
    "**- Saves memory: values are produced on demand (no big lists in RAM).**\n",
    "\n",
    "**- Can model streams (files, sockets, infinite sequences).**\n",
    "\n",
    "**- Composable: chain multiple simple steps into a data pipeline.**\n",
    "\n",
    "\n",
    "<br> <br>\n",
    "\n",
    "**Generator expressions are a concise Python syntax for creating generators in a single line of code, similar to list comprehensions but without building the entire list in memory.** \n",
    "\n",
    "**Instead, they return a generator object that produces elements lazily – only when they are needed.**\n",
    "\n",
    "**This makes them more memory-efficient and ideal for working with large datasets or data streams.**\n",
    "\n",
    "--------------------------------------------------------\n",
    "\n",
    "Generator to funkcja która zwraca iterator - czyli produkuje wartości leniwie ( na żądanie) używając słowa kluczowego `yield`  zamiast return\n",
    "\n",
    "Dlaczego warto używać generatorów?\n",
    "- Oszczędność pamięci: wartości są generowane na żądanie ( w locie)  (brak dużych list w RAM-ie).\n",
    "- Obsługa strumieni: można modelować dane z plików, sieci, czy nieskończonych sekwencji.\n",
    "- Możliwość łączenia: łatwo łączyć wiele prostych kroków w jeden 'pipeline'.\n",
    "\n",
    "<br> <br>\n",
    "\n",
    "Wyrażenia generowane (generator expressions) to zwięzła składnia w Pythonie pozwalająca tworzyć generatory w jednej linijce kodu, podobnie jak list comprehensions, ale bez tworzenia całej listy w pamięci. \n",
    "\n",
    "Zamiast tego zwracają obiekt generatora, który wytwarza elementy leniwie – dopiero wtedy, gdy są potrzebne.\n",
    "\n",
    "Dzięki temu są bardziej pamięciooszczędne i nadają się do pracy z dużymi zbiorami danych lub strumieniami.\n",
    "\n",
    "Docs:\n",
    "1. https://docs.python.org/3/reference/expressions.html#grammar-token-python-grammar-generator_expression\n",
    "2. https://realpython.com/introduction-to-python-generators/#creating-data-pipelines-with-generators\n"
   ]
  },
  {
   "cell_type": "markdown",
   "metadata": {
    "id": "RAhrUWpJgfVl"
   },
   "source": [
    "<br> <br>\n",
    "\n",
    "**Generator function:**\n",
    "\n",
    "**`yield` pauses the function and sends a value to the caller. On the next iteration, execution resumes right after the yield.**\n",
    "\n",
    "-------------\n",
    "\n",
    "Funkcja generatora:\n",
    "\n",
    "`yield` zatrzymuje funkcję i wysyła wrtość. Podczas następnej iteracji, procesowanie rozpoczyna się zaraz po `yield`\n"
   ]
  },
  {
   "cell_type": "code",
   "execution_count": null,
   "metadata": {},
   "outputs": [],
   "source": [
    "### GENERATOR ###\n",
    "def countdown_generator(n: int):\n",
    "    print(\"Start!\")\n",
    "    while n > 0:\n",
    "        print(\"About to yield\", n)\n",
    "        yield n\n",
    "        n -= 1\n",
    "    print(\"Done.\")\n",
    "\n",
    "gen = countdown_generator(10)  # doesn't compute anything yet\n",
    "\n",
    "print(gen)\n"
   ]
  },
  {
   "cell_type": "markdown",
   "metadata": {},
   "source": [
    "<br> <br>\n",
    "\n",
    "**next() - retrieve next  item from a generator**\n",
    "\n",
    "-------------\n",
    "\n",
    "next() - pobiera następną wartość z generatora"
   ]
  },
  {
   "cell_type": "code",
   "execution_count": null,
   "metadata": {},
   "outputs": [],
   "source": [
    "next(gen) # consumes one value at a time / pobiera jedna wartość i zatrzymuje się"
   ]
  },
  {
   "cell_type": "code",
   "execution_count": null,
   "metadata": {},
   "outputs": [],
   "source": [
    "list(gen) # continue consuming remaining values / pobiera resztę wartości"
   ]
  },
  {
   "cell_type": "markdown",
   "metadata": {},
   "source": [
    "<br> <br>\n",
    "\n",
    "**A simple example of a generator created with generator expression:**\n",
    "\n",
    "--------------------\n",
    "\n",
    "Prosty przykład generatora stworzonego przy uzyciu wyrażenia generatorowego:"
   ]
  },
  {
   "cell_type": "code",
   "execution_count": null,
   "metadata": {
    "id": "eu-5WGDTLAAm"
   },
   "outputs": [],
   "source": [
    "generator_ = (x**2 for x in range(10))"
   ]
  },
  {
   "cell_type": "code",
   "execution_count": null,
   "metadata": {},
   "outputs": [],
   "source": [
    "print(type(generator_))\n",
    "generator_"
   ]
  },
  {
   "cell_type": "code",
   "execution_count": null,
   "metadata": {},
   "outputs": [],
   "source": [
    "squares_list = [x**2 for x in range(10)]\n",
    "type(squares_list)"
   ]
  },
  {
   "cell_type": "markdown",
   "metadata": {
    "id": "Ktl99d7MLR5c"
   },
   "source": [
    "**Let's check if the result is as expected:**\n",
    "\n",
    "Sprawdźmy, czy wynik jest zgodny z oczekiwanym:"
   ]
  },
  {
   "cell_type": "code",
   "execution_count": null,
   "metadata": {
    "id": "whqV0NvFLRgo"
   },
   "outputs": [],
   "source": [
    "list(generator_)"
   ]
  },
  {
   "cell_type": "markdown",
   "metadata": {},
   "source": [
    "<br> <br>\n",
    "\n",
    "### list comprehension vs generator expression\n",
    "\n",
    "`squares_list` takes up memory for 1 million items.\n",
    "\n",
    "`squares_gen` uses almost no memory until you iterate over it.\n",
    "____________\n",
    "\n",
    "List comprehension\n",
    "\n",
    "`squares_list = [x**2 for x in range(1000000)]`\n",
    "\n",
    "Generator expression\n",
    "\n",
    "`squares_gen = (x**2 for x in range(1000000))`\n",
    "\n",
    "\n",
    "<br><br>"
   ]
  },
  {
   "cell_type": "markdown",
   "metadata": {
    "id": "8QZrw_boLb2l"
   },
   "source": [
    "**Generators can be used to create call chains that resemble data flows. This way, instead of triggering calculations for subsequent variables, we create a \"recipe\" for obtaining them. For example: (lazy, memory-efficient pipelines)**\n",
    "\n",
    "Korzystanie z generatorów można łączyć w ciągi wywołań, które przypominają przepływy danych. W ten sposób nie wywołujemy obliczeń kolejnych zmiennych, a tworzymy \"przepis\" na ich otrzymanie. Przykładowo:"
   ]
  },
  {
   "cell_type": "code",
   "execution_count": null,
   "metadata": {
    "id": "8YsXyy6NLK-E"
   },
   "outputs": [],
   "source": [
    "squares = (x**2 for x in range(10))"
   ]
  },
  {
   "cell_type": "code",
   "execution_count": null,
   "metadata": {
    "id": "jT6vg8pILsyv"
   },
   "outputs": [],
   "source": [
    "divided_by_3 = (x for x in squares if x % 3 == 0)"
   ]
  },
  {
   "cell_type": "markdown",
   "metadata": {
    "id": "Q_F6skOwNTM-"
   },
   "source": [
    "**At this point, the calculations are performed:**\n",
    "\n",
    "W tym momencie wykonywane są obliczenia:"
   ]
  },
  {
   "cell_type": "code",
   "execution_count": null,
   "metadata": {},
   "outputs": [],
   "source": [
    "next(divided_by_3)"
   ]
  },
  {
   "cell_type": "code",
   "execution_count": null,
   "metadata": {
    "id": "S776s0VRMH1Q"
   },
   "outputs": [],
   "source": [
    "list(divided_by_3)"
   ]
  },
  {
   "cell_type": "markdown",
   "metadata": {},
   "source": [
    "<br> <br>\n",
    "\n",
    "**Real-life use case**\n",
    "\n",
    "**Imagine you're working in a factory that collects temperature, humidity, and vibration data from hundreds of sensors. Instead of processing all the data at once, you can build a lazy pipeline using generator expressions and functions that resemble a recipe for how data should be processed.**\n",
    "\n",
    "------------------------\n",
    "\n",
    "Przykładowe zastosowanie \n",
    "\n",
    "Wyobraź sobie że pracujesz w fabryce która zbieram odczyty temperatury, wilgotności i wibracji z setek czujników. Zamiast procesować wszystkie dane na raz, możesz zbudować 'leniwy' pipeline używając wyrażeń generatorowych, który jest przepisem na to jak dane mają być procesowane.\n",
    "\n",
    "```python\n",
    "\n",
    "# lazily generates raw sensor readings.\n",
    "def read_sensor_data(n):\n",
    "    return ((choice(SENSORS), randint(-30, 30)) for _ in range(n))\n",
    "\n",
    "# filters out values outside the desired range.\n",
    "def filter_extreme_values(data):\n",
    "    return ((sensor, value) for sensor, value in data if -20 <= value <= 20)\n",
    "\n",
    "# scales the values\n",
    "def normalize(data):\n",
    "    return ((sensor, value / 20) for sensor, value in data)\n",
    "\n",
    "# adds a status label based on the normalized value\n",
    "def tag(data):\n",
    "    return ((sensor, value, \"OK\" if abs(value) < 0.5 else \"CHECK\") for sensor, value in data)\n",
    "\n",
    "## all together\n",
    "\n",
    "tagged = tag(normalize(filter_extreme_values(read_sensor_data(1000))))  # data is only processed when you iterate over tagged.\n",
    "\n",
    "for record in tagged:\n",
    "    print(record)\n",
    "\n",
    "    \n",
    "tagged_list = list(tag(normalize(filter_extreme_values(read_sensor_data(1000))))) # materialize the results - wrapped in list\n",
    "\n"
   ]
  },
  {
   "cell_type": "markdown",
   "metadata": {},
   "source": [
    "## You can test it"
   ]
  },
  {
   "cell_type": "code",
   "execution_count": null,
   "metadata": {},
   "outputs": [],
   "source": [
    "from random import choice, randint\n",
    "\n",
    "SENSORS = [\"temp\", \"pressure\", \"humidity\"]\n",
    "# lazily generates raw sensor readings.\n",
    "def read_sensor_data(n):\n",
    "    return ((choice(SENSORS), randint(-30, 30)) for _ in range(n))\n",
    "\n",
    "# filters out values outside the desired range.\n",
    "def filter_extreme_values(data):\n",
    "    return ((sensor, value) for sensor, value in data if -20 <= value <= 20)\n",
    "\n",
    "# scales the values\n",
    "def normalize(data):\n",
    "    return ((sensor, value / 20) for sensor, value in data)\n",
    "\n",
    "# adds a status label based on the normalized value\n",
    "def tag(data):\n",
    "    return ((sensor, value, \"OK\" if abs(value) < 0.5 else \"CHECK\") for sensor, value in data)\n",
    "\n",
    "## all together\n",
    "\n",
    "tagged = tag(normalize(filter_extreme_values(read_sensor_data(1000))))  # data is only processed when you iterate over tagged.\n",
    "\n",
    "for record in tagged:\n",
    "    print(record)\n",
    "\n",
    "    \n",
    "tagged_list = list(tag(normalize(filter_extreme_values(read_sensor_data(100))))) # materialize the results - wrapped in list"
   ]
  },
  {
   "cell_type": "markdown",
   "metadata": {},
   "source": [
    "<br> <br>\n",
    "\n",
    "**Exemplary use cases:**\n",
    "\n",
    "- Processing Large Files: Reading a massive log file line by line without loading the entire file into memory.\n",
    "- Streaming Data Analysis : Calculating statistics (like average, min, max) from a live data stream (e.g., sensor data, financial tickers).\n",
    "- Filtering Data : Filtering out invalid entries from a large list without creating a new list in memory.\n",
    "- Mathematical Computations: Generating squares of numbers for mathematical modeling or simulations without storing all results.\n",
    "- Log Monitoring : Monitoring logs for specific keywords ( ERROR) in real-time.\n",
    "- Memory-Efficient Machine Learning Preprocessing : Preprocessing large datasets for ML models without creating temporary arrays.\n",
    "\n",
    "------------\n",
    "\n",
    "Przykładowe użycie:\n",
    "\n",
    "- Przetwarzanie dużych plików: Odczytywanie ogromnego pliku logów linia po linii bez ładowania całego pliku do pamięci.\n",
    "- Analiza strumieni danych: Obliczanie statystyk (np. średnia, minimum, maksimum) ze strumienia danych na żywo (np. dane z czujników, notowania finansowe).\n",
    "- Filtrowanie danych: Usuwanie nieprawidłowych wpisów z dużej listy bez tworzenia nowej listy w pamięci.\n",
    "- Obliczenia matematyczne: Generowanie kwadratów liczb na potrzeby modelowania matematycznego lub symulacji bez zapisywania wszystkich wyników.\n",
    "- Monitorowanie logów: Śledzenie logów w czasie rzeczywistym pod kątem określonych słów kluczowych (np. ERROR).\n",
    "- Efektywne pamięciowo przetwarzanie danych dla uczenia maszynowego: Przetwarzanie dużych zbiorów danych dla modeli ML bez tworzenia tymczasowych tablic.\n",
    "\n",
    "<br><br>\n"
   ]
  },
  {
   "cell_type": "markdown",
   "metadata": {},
   "source": [
    "## Exercise\n",
    "\n",
    "**Use a generator expression to lazily read lines from a list (simulate a log file) and filter only those containing \"ERROR\".**\n",
    "\n",
    "-------------------\n",
    "\n",
    "Użyj wyrażenia generatorowego do leniwego czytania linii z listy (symulacja pliku logów) i przefiltruj tylko te, które zawierają \"ERROR\".:\n"
   ]
  },
  {
   "cell_type": "code",
   "execution_count": null,
   "metadata": {},
   "outputs": [],
   "source": [
    "logs = [\n",
    "    \"2025-08-26 INFO User logged in\",\n",
    "    \"2025-08-26 ERROR Connection lost\",\n",
    "    \"2025-08-26 INFO Data saved\",\n",
    "    \"2025-08-26 ERROR Timeout\",\n",
    "]\n",
    "\n",
    "# Your turn 👇\n",
    "# Place for solution\n",
    "\n",
    "# errors = (.....)\n",
    "\n"
   ]
  },
  {
   "cell_type": "markdown",
   "metadata": {},
   "source": [
    "<details>\n",
    "<summary>Click to reveal the solution</summary>\n",
    "\n",
    "```python\n",
    "# Your solution code here\n",
    "\n",
    "errors = (line for line in logs if \"ERROR\" in line)\n",
    "list(errors)\n"
   ]
  },
  {
   "cell_type": "markdown",
   "metadata": {
    "id": "lbIUskybNZ0D"
   },
   "source": [
    "<br> <br>\n",
    "\n",
    "## Exercise\n",
    "\n",
    "**We have a list which simulates CSV file:**\n",
    "\n",
    "**Convert the function so it returns a generator expression that yields float(price) for each non-header row.**\n",
    "\n",
    "------------------------------\n",
    "\n",
    "Mamy listę która symuluje plik CSV\n",
    "\n",
    "Przerób funkcję tak, aby zwracała wyrażenie generatorowe float(price) dla każdej linii poza nagłówkiem.\n",
    "\n"
   ]
  },
  {
   "cell_type": "code",
   "execution_count": null,
   "metadata": {},
   "outputs": [],
   "source": [
    "# Dataset (CSV-like rows)\n",
    "csv_rows = [\n",
    "    \"1,TV,2000\",\n",
    "    \"2,Laptop,3500\",\n",
    "    \"3,Phone,1500\",\n",
    "]\n",
    "\n",
    "# def iter_prices(lines):\n",
    "#     for row in lines:\n",
    "#         _, _, price = row.strip().split(\",\")\n",
    "#         yield float(price)\n",
    "\n",
    "# Your turn 👇\n",
    "# Place for solution - modify function and test whether it works\n",
    "\n"
   ]
  },
  {
   "cell_type": "markdown",
   "metadata": {},
   "source": [
    "<details>\n",
    "<summary>Click to reveal the solution</summary>\n",
    "\n",
    "```python\n",
    "# Your solution code here\n",
    "\n",
    "def iter_prices(lines):\n",
    "    return (float(row.strip().split(\",\")[2]) for row in lines)\n",
    "\n",
    "prices = iter_prices(csv_rows)\n",
    "list(prices)"
   ]
  }
 ],
 "metadata": {
  "colab": {
   "authorship_tag": "ABX9TyOijItmKMWDez/0w+ekxHMV",
   "include_colab_link": true,
   "provenance": []
  },
  "kernelspec": {
   "display_name": ".venv (3.13.1)",
   "language": "python",
   "name": "python3"
  },
  "language_info": {
   "codemirror_mode": {
    "name": "ipython",
    "version": 3
   },
   "file_extension": ".py",
   "mimetype": "text/x-python",
   "name": "python",
   "nbconvert_exporter": "python",
   "pygments_lexer": "ipython3",
   "version": "3.13.1"
  }
 },
 "nbformat": 4,
 "nbformat_minor": 4
}
