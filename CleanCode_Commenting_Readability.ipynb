{
 "cells": [
  {
   "cell_type": "markdown",
   "id": "d36b587b",
   "metadata": {},
   "source": [
    "\n",
    "# Clean Code & Best Practices: Commenting and Readability  \n",
    "**Czysty kod i dobre praktyki: Komentowanie i czytelność**\n",
    "\n",
    "**Audience / Grupa docelowa:** Python intermediate  \n",
    "**Time / Czas:** ~30–40 min  \n",
    "**Format:** Bilingual (EN/PL) — dwujęzycznie\n"
   ]
  },
  {
   "cell_type": "markdown",
   "id": "20b9a9dc",
   "metadata": {},
   "source": [
    "\n",
    "## Learning objectives / Cele nauki\n",
    "\n",
    "**EN**  \n",
    "By the end of this notebook you will:  \n",
    "- Understand when to use comments and when to avoid them.  \n",
    "- Write code that is **self-explanatory**.  \n",
    "- Follow best practices for readability: naming, spacing, logical grouping.  \n",
    "- Practice improving code readability with exercises.\n",
    "\n",
    "**PL**  \n",
    "Po zakończeniu tego notatnika będziesz umieć:  \n",
    "- Rozumieć kiedy stosować komentarze, a kiedy ich unikać.  \n",
    "- Pisać kod, który jest **samoopisujący się**.  \n",
    "- Stosować dobre praktyki dla czytelności: nazewnictwo, odstępy, logiczne grupowanie.  \n",
    "- Ćwiczyć poprawę czytelności kodu na przykładach.\n"
   ]
  },
  {
   "cell_type": "markdown",
   "id": "fb834cd1",
   "metadata": {},
   "source": [
    "\n",
    "## Commenting / Komentowanie\n",
    "\n",
    "**EN**  \n",
    "- **Good comments explain *why*** something is done, not *what* is done (the code should show the \"what\").  \n",
    "- Avoid comments that just repeat code.  \n",
    "- Use docstrings for modules, classes, and functions.  \n",
    "- Update or remove outdated comments — stale comments are worse than none.  \n",
    "\n",
    "**PL**  \n",
    "- **Dobre komentarze wyjaśniają *dlaczego*** coś jest zrobione, a nie *co* jest zrobione (kod powinien pokazywać „co”).  \n",
    "- Unikaj komentarzy, które tylko powtarzają kod.  \n",
    "- Używaj docstringów dla modułów, klas i funkcji.  \n",
    "- Aktualizuj lub usuwaj nieaktualne komentarze — przestarzałe komentarze są gorsze niż brak komentarzy.\n"
   ]
  },
  {
   "cell_type": "markdown",
   "id": "50099eda",
   "metadata": {},
   "source": [
    "\n",
    "### Example: Bad vs Good Comments / Przykład: Złe vs Dobre komentarze\n"
   ]
  },
  {
   "cell_type": "code",
   "execution_count": null,
   "id": "ffb405d4",
   "metadata": {},
   "outputs": [],
   "source": [
    "\n",
    "# BAD: Comment repeats what code says\n",
    "x = x + 1  # add 1 to x\n",
    "\n",
    "# GOOD: Comment explains the reason\n",
    "x = x + 1  # shift index because Python uses 0-based indexing\n"
   ]
  },
  {
   "cell_type": "markdown",
   "id": "a2414f05",
   "metadata": {},
   "source": [
    "\n",
    "## Readability / Czytelność\n",
    "\n",
    "**EN**  \n",
    "- Choose **meaningful names** for variables and functions.  \n",
    "- Use **consistent indentation and spacing** (follow PEP8).  \n",
    "- Keep functions short and focused.  \n",
    "- Break complex logic into smaller, named steps.  \n",
    "- Use blank lines to separate logical sections.  \n",
    "\n",
    "**PL**  \n",
    "- Wybieraj **znaczące nazwy** dla zmiennych i funkcji.  \n",
    "- Stosuj **spójne wcięcia i odstępy** (zgodnie z PEP8).  \n",
    "- Funkcje powinny być krótkie i skupione na jednym celu.  \n",
    "- Dziel złożoną logikę na mniejsze, nazwane kroki.  \n",
    "- Używaj pustych linii do oddzielenia logicznych sekcji.\n"
   ]
  },
  {
   "cell_type": "markdown",
   "id": "50eb1f9a",
   "metadata": {},
   "source": [
    "\n",
    "### Example: Readability / Przykład: Czytelność\n"
   ]
  },
  {
   "cell_type": "code",
   "execution_count": null,
   "id": "48ff49e2",
   "metadata": {},
   "outputs": [],
   "source": [
    "\n",
    "# BAD: Hard to read\n",
    "def c(a,b):\n",
    " t=a+b;print(t)\n",
    "\n",
    "# GOOD: Clearer\n",
    "def calculate_sum(a: int, b: int) -> int:\n",
    "    \"\"\"Return the sum of two integers.\"\"\"\n",
    "    return a + b\n",
    "\n",
    "result = calculate_sum(3, 4)\n",
    "print(result)\n"
   ]
  },
  {
   "cell_type": "markdown",
   "id": "c03fec7f",
   "metadata": {},
   "source": [
    "\n",
    "# Exercises / Ćwiczenia\n"
   ]
  },
  {
   "cell_type": "markdown",
   "id": "cd4df6db",
   "metadata": {},
   "source": [
    "\n",
    "## Exercise 1 — Remove unnecessary comments / Usuń zbędne komentarze\n",
    "\n",
    "**EN**  \n",
    "The following code has redundant comments. Clean it up by removing unnecessary ones, and keep only meaningful explanations.  \n",
    "\n",
    "**PL**  \n",
    "Poniższy kod ma zbędne komentarze. Oczyść go usuwając niepotrzebne, zostaw tylko te, które mają sens.\n"
   ]
  },
  {
   "cell_type": "code",
   "execution_count": null,
   "id": "597290ed",
   "metadata": {},
   "outputs": [],
   "source": [
    "\n",
    "def multiply(a, b):\n",
    "    # this function multiplies two numbers\n",
    "    return a * b  # return the result of multiplication\n",
    "\n",
    "print(multiply(3, 4))  # print result\n"
   ]
  },
  {
   "cell_type": "markdown",
   "id": "819b7128",
   "metadata": {},
   "source": [
    "\n",
    "## Exercise 2 — Improve readability / Popraw czytelność\n",
    "\n",
    "**EN**  \n",
    "The code below is valid, but difficult to read. Refactor it to follow clean code practices.  \n",
    "\n",
    "**PL**  \n",
    "Kod poniżej działa, ale jest trudny do czytania. Zrefaktoryzuj go stosując zasady czystego kodu.\n"
   ]
  },
  {
   "cell_type": "code",
   "execution_count": null,
   "id": "2703db8e",
   "metadata": {},
   "outputs": [],
   "source": [
    "\n",
    "def f(l):\n",
    " for i in range(len(l)):\n",
    "  l[i]=l[i]*2;print(l[i])\n",
    "f([1,2,3,4])\n"
   ]
  },
  {
   "cell_type": "markdown",
   "id": "496f7cd5",
   "metadata": {},
   "source": [
    "\n",
    "## Exercise 3 — Add meaningful comments / Dodaj sensowne komentarze\n",
    "\n",
    "**EN**  \n",
    "Add comments that explain *why* the following code is needed, not just what it does.  \n",
    "\n",
    "**PL**  \n",
    "Dodaj komentarze wyjaśniające *dlaczego* poniższy kod jest potrzebny, a nie tylko co robi.\n"
   ]
  },
  {
   "cell_type": "code",
   "execution_count": null,
   "id": "25d06e1f",
   "metadata": {},
   "outputs": [],
   "source": [
    "\n",
    "import time\n",
    "\n",
    "def retry_connect(attempts: int):\n",
    "    for i in range(attempts):\n",
    "        print(\"Connecting...\")\n",
    "        time.sleep(1)\n",
    "    print(\"Failed.\")\n",
    "\n",
    "retry_connect(3)\n"
   ]
  },
  {
   "cell_type": "markdown",
   "id": "83728446",
   "metadata": {},
   "source": [
    "\n",
    "## References / Źródła\n",
    "\n",
    "- **PEP8 — Style Guide for Python Code:** https://peps.python.org/pep-0008/  \n",
    "- **PEP257 — Docstring Conventions:** https://peps.python.org/pep-0257/  \n",
    "- **Clean Code (Robert C. Martin):** https://www.oreilly.com/library/view/clean-code/9780136083238/  \n",
    "- **Python Docs — Comments:** https://docs.python.org/3/tutorial/introduction.html#comments\n"
   ]
  }
 ],
 "metadata": {},
 "nbformat": 4,
 "nbformat_minor": 5
}