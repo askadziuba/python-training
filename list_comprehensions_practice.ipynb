{
 "cells": [
  {
   "cell_type": "markdown",
   "id": "4eec9898",
   "metadata": {},
   "source": [
    "\n",
    "# Python List Comprehensions — Practice Notebook\n",
    "\n",
    "Welcome! This notebook contains **easy → medium → harder** exercises on list comprehensions.\n",
    "For each task you'll find a **Your turn** cell and a **Solution** cell right after.\n",
    "\n",
    "Tips:\n",
    "- Try to solve in the *Your turn* cell first 🧠\n",
    "- Then compare with the solution ✅\n",
    "- You can collapse/expand sections using the notebook outline or headings.\n"
   ]
  },
  {
   "cell_type": "markdown",
   "id": "a75616ab",
   "metadata": {},
   "source": [
    "## 1. Squares of numbers\n",
    "\n",
    "Given `nums = [1, 2, 3, 4, 5]`, create a new list of their squares. Expected: `[1, 4, 9, 16, 25]`."
   ]
  },
  {
   "cell_type": "code",
   "execution_count": null,
   "id": "73fab8c7",
   "metadata": {},
   "outputs": [],
   "source": [
    "# Your turn 👇\n",
    "nums = [1, 2, 3, 4, 5]\n",
    "# squares = [...]\n",
    "# print(squares)\n"
   ]
  },
  {
   "cell_type": "markdown",
   "id": "c7de080d",
   "metadata": {},
   "source": [
    "<details>\n",
    "<summary><strong>Show solution</strong></summary>\n",
    "\n"
   ]
  },
  {
   "cell_type": "code",
   "execution_count": null,
   "id": "6bc114e5",
   "metadata": {},
   "outputs": [],
   "source": [
    "nums = [1, 2, 3, 4, 5]\n",
    "squares = [n*n for n in nums]\n",
    "print(squares)"
   ]
  },
  {
   "cell_type": "markdown",
   "id": "1c2bedb3",
   "metadata": {},
   "source": [
    "\n",
    "</details>"
   ]
  },
  {
   "cell_type": "markdown",
   "id": "113b3c15",
   "metadata": {},
   "source": [
    "## 2. Filter even numbers\n",
    "\n",
    "From `nums = [1, 2, 3, 4, 5]`, keep only even numbers. Expected: `[2, 4]`."
   ]
  },
  {
   "cell_type": "code",
   "execution_count": null,
   "id": "c9abcbb7",
   "metadata": {},
   "outputs": [],
   "source": [
    "# Your turn 👇\n",
    "nums = [1, 2, 3, 4, 5]\n",
    "# evens = [...]\n",
    "# print(evens)\n"
   ]
  },
  {
   "cell_type": "markdown",
   "id": "76991c23",
   "metadata": {},
   "source": [
    "<details>\n",
    "<summary><strong>Show solution</strong></summary>\n",
    "\n"
   ]
  },
  {
   "cell_type": "code",
   "execution_count": null,
   "id": "6595cf28",
   "metadata": {},
   "outputs": [],
   "source": [
    "nums = [1, 2, 3, 4, 5]\n",
    "evens = [n for n in nums if n % 2 == 0]\n",
    "print(evens)"
   ]
  },
  {
   "cell_type": "markdown",
   "id": "9a17168c",
   "metadata": {},
   "source": [
    "\n",
    "</details>"
   ]
  },
  {
   "cell_type": "markdown",
   "id": "80ace837",
   "metadata": {},
   "source": [
    "## 3. Lengths of words\n",
    "\n",
    "Given `words = [\"apple\", \"banana\", \"kiwi\"]`, build `[5, 6, 4]`."
   ]
  },
  {
   "cell_type": "code",
   "execution_count": null,
   "id": "67cccdee",
   "metadata": {},
   "outputs": [],
   "source": [
    "# Your turn 👇\n",
    "words = [\"apple\", \"banana\", \"kiwi\"]\n",
    "# lengths = [...]\n",
    "# print(lengths)\n"
   ]
  },
  {
   "cell_type": "markdown",
   "id": "82ba5d37",
   "metadata": {},
   "source": [
    "<details>\n",
    "<summary><strong>Show solution</strong></summary>\n",
    "\n"
   ]
  },
  {
   "cell_type": "code",
   "execution_count": null,
   "id": "1901ae2f",
   "metadata": {},
   "outputs": [],
   "source": [
    "words = [\"apple\", \"banana\", \"kiwi\"]\n",
    "lengths = [len(w) for w in words]\n",
    "print(lengths)"
   ]
  },
  {
   "cell_type": "markdown",
   "id": "e412e727",
   "metadata": {},
   "source": [
    "\n",
    "</details>"
   ]
  },
  {
   "cell_type": "markdown",
   "id": "697e10b4",
   "metadata": {},
   "source": [
    "## 4. Uppercase words\n",
    "\n",
    "Transform all words in `animals = [\"cat\", \"dog\", \"cow\"]` to uppercase."
   ]
  },
  {
   "cell_type": "code",
   "execution_count": null,
   "id": "4a46b2fe",
   "metadata": {},
   "outputs": [],
   "source": [
    "# Your turn 👇\n",
    "animals = [\"cat\", \"dog\", \"cow\"]\n",
    "# uppercased = [...]\n",
    "# print(uppercased)\n"
   ]
  },
  {
   "cell_type": "markdown",
   "id": "26b92edb",
   "metadata": {},
   "source": [
    "<details>\n",
    "<summary><strong>Show solution</strong></summary>\n",
    "\n"
   ]
  },
  {
   "cell_type": "code",
   "execution_count": null,
   "id": "c1980be6",
   "metadata": {},
   "outputs": [],
   "source": [
    "animals = [\"cat\", \"dog\", \"cow\"]\n",
    "uppercased = [w.upper() for w in animals]\n",
    "print(uppercased)"
   ]
  },
  {
   "cell_type": "markdown",
   "id": "1bf00c04",
   "metadata": {},
   "source": [
    "\n",
    "</details>"
   ]
  },
  {
   "cell_type": "markdown",
   "id": "f40ecc79",
   "metadata": {},
   "source": [
    "## 5. Numbers divisible by 3\n",
    "\n",
    "From `range(1, 21)`, keep only numbers divisible by 3. Expected: `[3, 6, 9, 12, 15, 18]`."
   ]
  },
  {
   "cell_type": "code",
   "execution_count": null,
   "id": "7bc8dbe1",
   "metadata": {},
   "outputs": [],
   "source": [
    "# Your turn 👇\n",
    "# div_by_3 = [...]\n",
    "# print(div_by_3)\n"
   ]
  },
  {
   "cell_type": "markdown",
   "id": "a5c74d4a",
   "metadata": {},
   "source": [
    "<details>\n",
    "<summary><strong>Show solution</strong></summary>\n",
    "\n"
   ]
  },
  {
   "cell_type": "code",
   "execution_count": null,
   "id": "e442c7b8",
   "metadata": {},
   "outputs": [],
   "source": [
    "div_by_3 = [n for n in range(1, 21) if n % 3 == 0]\n",
    "print(div_by_3)"
   ]
  },
  {
   "cell_type": "markdown",
   "id": "882426b6",
   "metadata": {},
   "source": [
    "\n",
    "</details>"
   ]
  },
  {
   "cell_type": "markdown",
   "id": "3716d70d",
   "metadata": {},
   "source": [
    "## 6. First letters of words\n",
    "\n",
    "From `names = [\"Alice\", \"Bob\", \"Charlie\", \"Diana\"]`, extract first letters."
   ]
  },
  {
   "cell_type": "code",
   "execution_count": null,
   "id": "4e981c62",
   "metadata": {},
   "outputs": [],
   "source": [
    "# Your turn 👇\n",
    "names = [\"Alice\", \"Bob\", \"Charlie\", \"Diana\"]\n",
    "# first_letters = [...]\n",
    "# print(first_letters)\n"
   ]
  },
  {
   "cell_type": "markdown",
   "id": "f0e64501",
   "metadata": {},
   "source": [
    "<details>\n",
    "<summary><strong>Show solution</strong></summary>\n",
    "\n"
   ]
  },
  {
   "cell_type": "code",
   "execution_count": null,
   "id": "5345c8cf",
   "metadata": {},
   "outputs": [],
   "source": [
    "names = [\"Alice\", \"Bob\", \"Charlie\", \"Diana\"]\n",
    "first_letters = [n[0] for n in names]\n",
    "print(first_letters)"
   ]
  },
  {
   "cell_type": "markdown",
   "id": "eca615bc",
   "metadata": {},
   "source": [
    "\n",
    "</details>"
   ]
  },
  {
   "cell_type": "markdown",
   "id": "4b2d9f93",
   "metadata": {},
   "source": [
    "## 7. Filter short words (≤ 3)\n",
    "\n",
    "From `tech = [\"airflow\", \"dag\", \"spark\", \"sql\"]`, keep words with length ≤ 3. Expected: `[\"dag\", \"sql\"]`."
   ]
  },
  {
   "cell_type": "code",
   "execution_count": null,
   "id": "c2182329",
   "metadata": {},
   "outputs": [],
   "source": [
    "# Your turn 👇\n",
    "tech = [\"airflow\", \"dag\", \"spark\", \"sql\"]\n",
    "# short = [...]\n",
    "# print(short)\n"
   ]
  },
  {
   "cell_type": "markdown",
   "id": "9b0bd38d",
   "metadata": {},
   "source": [
    "<details>\n",
    "<summary><strong>Show solution</strong></summary>\n",
    "\n"
   ]
  },
  {
   "cell_type": "code",
   "execution_count": null,
   "id": "0b67cf24",
   "metadata": {},
   "outputs": [],
   "source": [
    "tech = [\"airflow\", \"dag\", \"spark\", \"sql\"]\n",
    "short = [w for w in tech if len(w) <= 3]\n",
    "print(short)"
   ]
  },
  {
   "cell_type": "markdown",
   "id": "6c0b4952",
   "metadata": {},
   "source": [
    "\n",
    "</details>"
   ]
  },
  {
   "cell_type": "markdown",
   "id": "56336761",
   "metadata": {},
   "source": [
    "## 8. Flatten a list of lists (one level)\n",
    "\n",
    "Flatten `nested = [[1, 2], [3, 4], [5, 6]]` into `[1, 2, 3, 4, 5, 6]`."
   ]
  },
  {
   "cell_type": "code",
   "execution_count": null,
   "id": "d72655f0",
   "metadata": {},
   "outputs": [],
   "source": [
    "# Your turn 👇\n",
    "nested = [[1, 2], [3, 4], [5, 6]]\n",
    "# flat = [...]\n",
    "# print(flat)\n"
   ]
  },
  {
   "cell_type": "markdown",
   "id": "c4cf6aa2",
   "metadata": {},
   "source": [
    "<details>\n",
    "<summary><strong>Show solution</strong></summary>\n",
    "\n"
   ]
  },
  {
   "cell_type": "code",
   "execution_count": null,
   "id": "34657329",
   "metadata": {},
   "outputs": [],
   "source": [
    "nested = [[1, 2], [3, 4], [5, 6]]\n",
    "flat = [x for sub in nested for x in sub]\n",
    "print(flat)"
   ]
  },
  {
   "cell_type": "markdown",
   "id": "0c224cdc",
   "metadata": {},
   "source": [
    "\n",
    "</details>"
   ]
  },
  {
   "cell_type": "markdown",
   "id": "708f3de5",
   "metadata": {},
   "source": [
    "## 9. Cartesian product (pairs)\n",
    "\n",
    "Given `letters = [\"A\", \"B\"]` and `numbers = [1, 2, 3]`, produce `[('A',1), ..., ('B',3)]`."
   ]
  },
  {
   "cell_type": "code",
   "execution_count": null,
   "id": "fb557302",
   "metadata": {},
   "outputs": [],
   "source": [
    "# Your turn 👇\n",
    "letters = [\"A\", \"B\"]\n",
    "numbers = [1, 2, 3]\n",
    "# pairs = [...]\n",
    "# print(pairs)\n"
   ]
  },
  {
   "cell_type": "markdown",
   "id": "ddf00433",
   "metadata": {},
   "source": [
    "<details>\n",
    "<summary><strong>Show solution</strong></summary>\n",
    "\n"
   ]
  },
  {
   "cell_type": "code",
   "execution_count": null,
   "id": "44677432",
   "metadata": {},
   "outputs": [],
   "source": [
    "letters = [\"A\", \"B\"]\n",
    "numbers = [1, 2, 3]\n",
    "pairs = [(L, n) for L in letters for n in numbers]\n",
    "print(pairs)"
   ]
  },
  {
   "cell_type": "markdown",
   "id": "a43a2e39",
   "metadata": {},
   "source": [
    "\n",
    "</details>"
   ]
  },
  {
   "cell_type": "markdown",
   "id": "1925e68c",
   "metadata": {},
   "source": [
    "## 10. Dictionary from two lists (zip)\n",
    "\n",
    "Given `keys = [\"name\", \"age\", \"city\"]` and `values = [\"Alice\", 25, \"Warsaw\"]`, build a dict."
   ]
  },
  {
   "cell_type": "code",
   "execution_count": null,
   "id": "4346b7ce",
   "metadata": {},
   "outputs": [],
   "source": [
    "# Your turn 👇\n",
    "keys   = [\"name\", \"age\", \"city\"]\n",
    "values = [\"Alice\", 25, \"Warsaw\"]\n",
    "# d = {...}\n",
    "# print(d)\n"
   ]
  },
  {
   "cell_type": "markdown",
   "id": "073e73eb",
   "metadata": {},
   "source": [
    "<details>\n",
    "<summary><strong>Show solution</strong></summary>\n",
    "\n"
   ]
  },
  {
   "cell_type": "code",
   "execution_count": null,
   "id": "592f2300",
   "metadata": {},
   "outputs": [],
   "source": [
    "keys   = [\"name\", \"age\", \"city\"]\n",
    "values = [\"Alice\", 25, \"Warsaw\"]\n",
    "d = {k: v for k, v in zip(keys, values)}\n",
    "print(d)"
   ]
  },
  {
   "cell_type": "markdown",
   "id": "bb5f2836",
   "metadata": {},
   "source": [
    "\n",
    "</details>"
   ]
  },
  {
   "cell_type": "markdown",
   "id": "04363ad3",
   "metadata": {},
   "source": [
    "## 11. Flatten & square\n",
    "\n",
    "From `matrix = [[1, 2, 3], [4, 5], [6]]`, create a flat list with squares of all numbers."
   ]
  },
  {
   "cell_type": "code",
   "execution_count": null,
   "id": "ae9da36f",
   "metadata": {},
   "outputs": [],
   "source": [
    "# Your turn 👇\n",
    "matrix = [[1, 2, 3], [4, 5], [6]]\n",
    "# squared_flat = [...]\n",
    "# print(squared_flat)\n"
   ]
  },
  {
   "cell_type": "markdown",
   "id": "7f260512",
   "metadata": {},
   "source": [
    "<details>\n",
    "<summary><strong>Show solution</strong></summary>\n",
    "\n"
   ]
  },
  {
   "cell_type": "code",
   "execution_count": null,
   "id": "bc8f21a0",
   "metadata": {},
   "outputs": [],
   "source": [
    "matrix = [[1, 2, 3], [4, 5], [6]]\n",
    "squared_flat = [x*x for row in matrix for x in row]\n",
    "print(squared_flat)"
   ]
  },
  {
   "cell_type": "markdown",
   "id": "656eeda4",
   "metadata": {},
   "source": [
    "\n",
    "</details>"
   ]
  },
  {
   "cell_type": "markdown",
   "id": "1eafb5f3",
   "metadata": {},
   "source": [
    "## 12. Conditional replacement (negatives → 0)\n",
    "\n",
    "From `numbers = [5, -3, 0, 7, -1]`, replace negatives with 0; keep others."
   ]
  },
  {
   "cell_type": "code",
   "execution_count": null,
   "id": "dee70466",
   "metadata": {},
   "outputs": [],
   "source": [
    "# Your turn 👇\n",
    "numbers = [5, -3, 0, 7, -1]\n",
    "# non_negative = [...]\n",
    "# print(non_negative)\n"
   ]
  },
  {
   "cell_type": "markdown",
   "id": "436f4906",
   "metadata": {},
   "source": [
    "<details>\n",
    "<summary><strong>Show solution</strong></summary>\n",
    "\n"
   ]
  },
  {
   "cell_type": "code",
   "execution_count": null,
   "id": "4287d24b",
   "metadata": {},
   "outputs": [],
   "source": [
    "numbers = [5, -3, 0, 7, -1]\n",
    "non_negative = [x if x >= 0 else 0 for x in numbers]\n",
    "print(non_negative)"
   ]
  },
  {
   "cell_type": "markdown",
   "id": "3f309751",
   "metadata": {},
   "source": [
    "\n",
    "</details>"
   ]
  },
  {
   "cell_type": "markdown",
   "id": "bf045b23",
   "metadata": {},
   "source": [
    "## 13. Extract names of adults (age ≥ 18)\n",
    "\n",
    "Given a list of dicts with `name` and `age`, return names where age ≥ 18. Expected: `[\"Alice\", \"Charlie\"]`."
   ]
  },
  {
   "cell_type": "code",
   "execution_count": null,
   "id": "d94a2d00",
   "metadata": {},
   "outputs": [],
   "source": [
    "# Your turn 👇\n",
    "people = [\n",
    "    {\"name\": \"Alice\", \"age\": 25},\n",
    "    {\"name\": \"Bob\", \"age\": 17},\n",
    "    {\"name\": \"Charlie\", \"age\": 30}\n",
    "]\n",
    "# adults = [...]\n",
    "# print(adults)\n"
   ]
  },
  {
   "cell_type": "markdown",
   "id": "d3aaeb43",
   "metadata": {},
   "source": [
    "<details>\n",
    "<summary><strong>Show solution</strong></summary>\n",
    "\n"
   ]
  },
  {
   "cell_type": "code",
   "execution_count": null,
   "id": "24e55e7c",
   "metadata": {},
   "outputs": [],
   "source": [
    "people = [\n",
    "    {\"name\": \"Alice\", \"age\": 25},\n",
    "    {\"name\": \"Bob\", \"age\": 17},\n",
    "    {\"name\": \"Charlie\", \"age\": 30}\n",
    "]\n",
    "adults = [p[\"name\"] for p in people if p.get(\"age\", 0) >= 18]\n",
    "print(adults)"
   ]
  },
  {
   "cell_type": "markdown",
   "id": "cd000f36",
   "metadata": {},
   "source": [
    "\n",
    "</details>"
   ]
  },
  {
   "cell_type": "markdown",
   "id": "662804f3",
   "metadata": {},
   "source": [
    "\n",
    "---\n",
    "\n",
    "### Bonus ideas\n",
    "- Try rewriting some solutions **without** comprehensions (plain loops) to compare clarity.\n",
    "- Add type guards (e.g., `isinstance(x, int)`) when inputs may be messy.\n",
    "- Measure performance with `%%timeit` for bigger inputs.\n",
    "\n",
    "Happy practicing! 🎯\n"
   ]
  },
  {
   "cell_type": "markdown",
   "id": "8c6c5e14",
   "metadata": {},
   "source": [
    "---\n",
    "\n",
    "# 🔥 Hard Mode — Advanced List Comprehension Challenges\n",
    "Focus: nested loops, conditional expressions, dict/set comprehensions, and small algorithmic patterns."
   ]
  },
  {
   "cell_type": "markdown",
   "id": "725e9696",
   "metadata": {},
   "source": [
    "## 14. Pythagorean triples (bounded)\n",
    "\n",
    "Generate all **primitive or non-primitive** Pythagorean triples `(a, b, c)` with `1 ≤ a < b < c ≤ 30` such that `a*a + b*b == c*c`."
   ]
  },
  {
   "cell_type": "code",
   "execution_count": null,
   "id": "7284075b",
   "metadata": {},
   "outputs": [],
   "source": [
    "# Your turn 👇\n",
    "limit = 30\n",
    "# triples = [...]  # list of (a, b, c)\n",
    "# print(triples)\n"
   ]
  },
  {
   "cell_type": "markdown",
   "id": "eef180be",
   "metadata": {},
   "source": [
    "<details>\n",
    "<summary><strong>Show solution</strong></summary>\n"
   ]
  },
  {
   "cell_type": "code",
   "execution_count": null,
   "id": "24759067",
   "metadata": {},
   "outputs": [],
   "source": [
    "limit = 30\n",
    "triples = [(a, b, c)\n",
    "           for a in range(1, limit+1)\n",
    "           for b in range(a+1, limit+1)\n",
    "           for c in range(b+1, limit+1)\n",
    "           if a*a + b*b == c*c]\n",
    "print(triples)"
   ]
  },
  {
   "cell_type": "markdown",
   "id": "b2bb8545",
   "metadata": {},
   "source": [
    "\n",
    "</details>"
   ]
  },
  {
   "cell_type": "markdown",
   "id": "82f4de3e",
   "metadata": {},
   "source": [
    "## 15. Matrix transpose (comprehension only)\n",
    "\n",
    "Given `M = [[1,2,3],[4,5,6]]`, build its transpose `[[1,4],[2,5],[3,6]]`."
   ]
  },
  {
   "cell_type": "code",
   "execution_count": null,
   "id": "ce8959ad",
   "metadata": {},
   "outputs": [],
   "source": [
    "# Your turn 👇\n",
    "M = [[1,2,3],[4,5,6]]\n",
    "# T = [...]\n",
    "# print(T)\n"
   ]
  },
  {
   "cell_type": "markdown",
   "id": "b7985a7c",
   "metadata": {},
   "source": [
    "<details>\n",
    "<summary><strong>Show solution</strong></summary>\n"
   ]
  },
  {
   "cell_type": "code",
   "execution_count": null,
   "id": "fe1bb9ff",
   "metadata": {},
   "outputs": [],
   "source": [
    "M = [[1,2,3],[4,5,6]]\n",
    "rows, cols = len(M), len(M[0])\n",
    "T = [[M[r][c] for r in range(rows)] for c in range(cols)]\n",
    "print(T)"
   ]
  },
  {
   "cell_type": "markdown",
   "id": "11fb5375",
   "metadata": {},
   "source": [
    "\n",
    "</details>"
   ]
  },
  {
   "cell_type": "markdown",
   "id": "3cd77bfb",
   "metadata": {},
   "source": [
    "## 16. Extract emails by multiple conditions\n",
    "\n",
    "From the list of user dicts, get emails of **active** users from **PL** only:"
   ]
  },
  {
   "cell_type": "code",
   "execution_count": null,
   "id": "6776df3f",
   "metadata": {},
   "outputs": [],
   "source": [
    "# Your turn 👇\n",
    "users = [\n",
    "    {\"name\":\"Ala\",\"email\":\"a@example.com\",\"active\":True,\"country\":\"PL\"},\n",
    "    {\"name\":\"Bob\",\"email\":\"b@example.com\",\"active\":False,\"country\":\"PL\"},\n",
    "    {\"name\":\"Carl\",\"email\":\"c@example.com\",\"active\":True,\"country\":\"DE\"},\n",
    "    {\"name\":\"Dana\",\"email\":\"d@example.com\",\"active\":True,\"country\":\"PL\"},\n",
    "]\n",
    "# emails = [...]\n",
    "# print(emails)\n"
   ]
  },
  {
   "cell_type": "markdown",
   "id": "03e27797",
   "metadata": {},
   "source": [
    "<details>\n",
    "<summary><strong>Show solution</strong></summary>\n"
   ]
  },
  {
   "cell_type": "code",
   "execution_count": null,
   "id": "2053fa8b",
   "metadata": {},
   "outputs": [],
   "source": [
    "users = [\n",
    "    {\"name\":\"Ala\",\"email\":\"a@example.com\",\"active\":True,\"country\":\"PL\"},\n",
    "    {\"name\":\"Bob\",\"email\":\"b@example.com\",\"active\":False,\"country\":\"PL\"},\n",
    "    {\"name\":\"Carl\",\"email\":\"c@example.com\",\"active\":True,\"country\":\"DE\"},\n",
    "    {\"name\":\"Dana\",\"email\":\"d@example.com\",\"active\":True,\"country\":\"PL\"},\n",
    "]\n",
    "emails = [u[\"email\"] for u in users if u.get(\"active\") and u.get(\"country\") == \"PL\"]\n",
    "print(emails)"
   ]
  },
  {
   "cell_type": "markdown",
   "id": "80a3184a",
   "metadata": {},
   "source": [
    "\n",
    "</details>"
   ]
  },
  {
   "cell_type": "markdown",
   "id": "5fcd53fe",
   "metadata": {},
   "source": [
    "## 17. Word frequency (case-insensitive, punctuation ignored)\n",
    "\n",
    "Given a sentence, build a frequency dict using a **dict comprehension** (avoid external libs)."
   ]
  },
  {
   "cell_type": "code",
   "execution_count": null,
   "id": "93cb41b9",
   "metadata": {},
   "outputs": [],
   "source": [
    "# Your turn 👇\n",
    "text = \"Red, red. BLUE blue blue! Red?\"\n",
    "# freq = {...}\n",
    "# print(freq)  # e.g., {'red': 3, 'blue': 3}\n"
   ]
  },
  {
   "cell_type": "markdown",
   "id": "10584e55",
   "metadata": {},
   "source": [
    "<details>\n",
    "<summary><strong>Show solution</strong></summary>\n"
   ]
  },
  {
   "cell_type": "code",
   "execution_count": null,
   "id": "0192e3d2",
   "metadata": {},
   "outputs": [],
   "source": [
    "import re\n",
    "text = \"Red, red. BLUE blue blue! Red?\"\n",
    "words = [w.lower() for w in re.findall(r\"[A-Za-z]+\", text)]\n",
    "freq = {w: words.count(w) for w in set(words)}\n",
    "print(freq)"
   ]
  },
  {
   "cell_type": "markdown",
   "id": "df7d0980",
   "metadata": {},
   "source": [
    "\n",
    "</details>"
   ]
  },
  {
   "cell_type": "markdown",
   "id": "6953ad2e",
   "metadata": {},
   "source": [
    "## 18. Invert a dict-of-lists\n",
    "\n",
    "Invert mapping like `{'a':[1,2], 'b':[2,3]}` to `{1:['a'], 2:['a','b'], 3:['b']}`."
   ]
  },
  {
   "cell_type": "code",
   "execution_count": null,
   "id": "0bc83893",
   "metadata": {},
   "outputs": [],
   "source": [
    "# Your turn 👇\n",
    "d = {'a':[1,2], 'b':[2,3]}\n",
    "# inv = {...}\n",
    "# print(inv)\n"
   ]
  },
  {
   "cell_type": "markdown",
   "id": "fa3a96be",
   "metadata": {},
   "source": [
    "<details>\n",
    "<summary><strong>Show solution</strong></summary>\n"
   ]
  },
  {
   "cell_type": "code",
   "execution_count": null,
   "id": "f330224b",
   "metadata": {},
   "outputs": [],
   "source": [
    "d = {'a':[1,2], 'b':[2,3]}\n",
    "keys = d.keys()\n",
    "values = set(x for vs in d.values() for x in vs)\n",
    "inv = {v: [k for k in keys if v in d[k]] for v in values}\n",
    "print(inv)"
   ]
  },
  {
   "cell_type": "markdown",
   "id": "8593c2f6",
   "metadata": {},
   "source": [
    "\n",
    "</details>"
   ]
  },
  {
   "cell_type": "markdown",
   "id": "dd5c8ccb",
   "metadata": {},
   "source": [
    "## 19. Diagonals of a square matrix\n",
    "\n",
    "For `A = [[1,2,3],[4,5,6],[7,8,9]]`, extract **main** and **anti** diagonals using comprehensions."
   ]
  },
  {
   "cell_type": "code",
   "execution_count": null,
   "id": "23ee1610",
   "metadata": {},
   "outputs": [],
   "source": [
    "# Your turn 👇\n",
    "A = [[1,2,3],[4,5,6],[7,8,9]]\n",
    "# main_diag = [...]\n",
    "# anti_diag = [...]\n",
    "# print(main_diag, anti_diag)\n"
   ]
  },
  {
   "cell_type": "markdown",
   "id": "14edd1ac",
   "metadata": {},
   "source": [
    "<details>\n",
    "<summary><strong>Show solution</strong></summary>\n"
   ]
  },
  {
   "cell_type": "code",
   "execution_count": null,
   "id": "84ca6432",
   "metadata": {},
   "outputs": [],
   "source": [
    "A = [[1,2,3],[4,5,6],[7,8,9]]\n",
    "n = len(A)\n",
    "main_diag = [A[i][i] for i in range(n)]\n",
    "anti_diag = [A[i][n-1-i] for i in range(n)]\n",
    "print(main_diag, anti_diag)"
   ]
  },
  {
   "cell_type": "markdown",
   "id": "9e45c581",
   "metadata": {},
   "source": [
    "\n",
    "</details>"
   ]
  },
  {
   "cell_type": "markdown",
   "id": "e4c0e59a",
   "metadata": {},
   "source": [
    "## 20. 2D grid with a constraint\n",
    "\n",
    "Create points `(x,y)` for `x,y in range(-2,3)` but **exclude** the origin `(0,0)` and keep only points where `x+y` is even."
   ]
  },
  {
   "cell_type": "code",
   "execution_count": null,
   "id": "4fef4d9c",
   "metadata": {},
   "outputs": [],
   "source": [
    "# Your turn 👇\n",
    "# points = [...]\n",
    "# print(points)\n"
   ]
  },
  {
   "cell_type": "markdown",
   "id": "0737636f",
   "metadata": {},
   "source": [
    "<details>\n",
    "<summary><strong>Show solution</strong></summary>\n"
   ]
  },
  {
   "cell_type": "code",
   "execution_count": null,
   "id": "ba276ce5",
   "metadata": {},
   "outputs": [],
   "source": [
    "points = [(x, y)\n",
    "           for x in range(-2, 3)\n",
    "           for y in range(-2, 3)\n",
    "           if not (x == 0 and y == 0) and (x + y) % 2 == 0]\n",
    "print(points)"
   ]
  },
  {
   "cell_type": "markdown",
   "id": "764e5a86",
   "metadata": {},
   "source": [
    "\n",
    "</details>"
   ]
  },
  {
   "cell_type": "markdown",
   "id": "bbaaf772",
   "metadata": {},
   "source": [
    "## 21. Conditional transform into a dict\n",
    "\n",
    "From the list below, give a **raise** of `10%` to developers with salary `< 10_000` and build `{name: new_salary}`."
   ]
  },
  {
   "cell_type": "code",
   "execution_count": null,
   "id": "ba6af0fc",
   "metadata": {},
   "outputs": [],
   "source": [
    "# Your turn 👇\n",
    "employees = [\n",
    "    {\"name\":\"Ala\",\"role\":\"dev\",\"salary\":9000},\n",
    "    {\"name\":\"Ben\",\"role\":\"qa\",\"salary\":9500},\n",
    "    {\"name\":\"Cora\",\"role\":\"dev\",\"salary\":12000},\n",
    "    {\"name\":\"Dan\",\"role\":\"dev\",\"salary\":7000},\n",
    "]\n",
    "# raises = {...}\n",
    "# print(raises)\n"
   ]
  },
  {
   "cell_type": "markdown",
   "id": "e1ebcc5e",
   "metadata": {},
   "source": [
    "<details>\n",
    "<summary><strong>Show solution</strong></summary>\n"
   ]
  },
  {
   "cell_type": "code",
   "execution_count": null,
   "id": "6aa3fdf0",
   "metadata": {},
   "outputs": [],
   "source": [
    "employees = [\n",
    "    {\"name\":\"Ala\",\"role\":\"dev\",\"salary\":9000},\n",
    "    {\"name\":\"Ben\",\"role\":\"qa\",\"salary\":9500},\n",
    "    {\"name\":\"Cora\",\"role\":\"dev\",\"salary\":12000},\n",
    "    {\"name\":\"Dan\",\"role\":\"dev\",\"salary\":7000},\n",
    "]\n",
    "raises = {e[\"name\"]: round(e[\"salary\"] * 1.10, 2)\n",
    "          for e in employees\n",
    "          if e.get(\"role\") == \"dev\" and e.get(\"salary\", 0) < 10_000}\n",
    "print(raises)"
   ]
  },
  {
   "cell_type": "markdown",
   "id": "781362ad",
   "metadata": {},
   "source": [
    "\n",
    "</details>"
   ]
  },
  {
   "cell_type": "markdown",
   "id": "742d1550",
   "metadata": {},
   "source": [
    "## 22. Flatten with None → 0\n",
    "\n",
    "From `B = [[1, None, 3], [None, 5], [6]]`, create a flat list replacing `None` with `0`."
   ]
  },
  {
   "cell_type": "code",
   "execution_count": null,
   "id": "fe6f344b",
   "metadata": {},
   "outputs": [],
   "source": [
    "# Your turn 👇\n",
    "B = [[1, None, 3], [None, 5], [6]]\n",
    "# flat = [...]\n",
    "# print(flat)\n"
   ]
  },
  {
   "cell_type": "markdown",
   "id": "8516ad42",
   "metadata": {},
   "source": [
    "<details>\n",
    "<summary><strong>Show solution</strong></summary>\n"
   ]
  },
  {
   "cell_type": "code",
   "execution_count": null,
   "id": "683ff1e2",
   "metadata": {},
   "outputs": [],
   "source": [
    "B = [[1, None, 3], [None, 5], [6]]\n",
    "flat = [0 if x is None else x for row in B for x in row]\n",
    "print(flat)"
   ]
  },
  {
   "cell_type": "markdown",
   "id": "73350226",
   "metadata": {},
   "source": [
    "\n",
    "</details>"
   ]
  },
  {
   "cell_type": "markdown",
   "id": "4aa84bcc",
   "metadata": {},
   "source": [
    "## 23. Cartesian product with constraint\n",
    "\n",
    "For `A = [1,2,3,4]` and `B = [10,11,12]`, produce pairs `(a,b)` where `a+b` is **even**."
   ]
  },
  {
   "cell_type": "code",
   "execution_count": null,
   "id": "7f8d56d4",
   "metadata": {},
   "outputs": [],
   "source": [
    "# Your turn 👇\n",
    "A = [1,2,3,4]\n",
    "B = [10,11,12]\n",
    "# pairs = [...]\n",
    "# print(pairs)\n"
   ]
  },
  {
   "cell_type": "markdown",
   "id": "cdfdf3d4",
   "metadata": {},
   "source": [
    "<details>\n",
    "<summary><strong>Show solution</strong></summary>\n"
   ]
  },
  {
   "cell_type": "code",
   "execution_count": null,
   "id": "e3219306",
   "metadata": {},
   "outputs": [],
   "source": [
    "A = [1,2,3,4]\n",
    "B = [10,11,12]\n",
    "pairs = [(a, b) for a in A for b in B if (a + b) % 2 == 0]\n",
    "print(pairs)"
   ]
  },
  {
   "cell_type": "markdown",
   "id": "4a8e3ad7",
   "metadata": {},
   "source": [
    "\n",
    "</details>"
   ]
  }
 ],
 "metadata": {},
 "nbformat": 4,
 "nbformat_minor": 5
}
