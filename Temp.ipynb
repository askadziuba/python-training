1. Reading a log file line by line

EN: Use a generator expression to lazily read lines from a list (simulate a log file) and filter only those containing "ERROR".
PL: Użyj wyrażenia generatorowego do leniwego czytania linii z listy (symulacja pliku logów) i przefiltruj tylko te, które zawierają "ERROR".


logs = [
    "2025-08-26 INFO User logged in",
    "2025-08-26 ERROR Connection lost",


    "2025-08-26 INFO Data saved",
    "2025-08-26 ERROR Timeout",
]

# Your solution here / Twoje rozwiązanie tutaj
errors = (line for line in logs if "ERROR" in line)
for e in errors:
    print(e)
