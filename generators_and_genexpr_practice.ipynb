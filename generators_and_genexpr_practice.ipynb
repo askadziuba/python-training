{
 "cells": [
  {
   "cell_type": "markdown",
   "id": "fa7baff1",
   "metadata": {},
   "source": [
    "# Python Generators & Generator Expressions — from zero to hero 🧵⚙️\n",
    "\n",
    "Welcome! This notebook teaches **generators** and **generator expressions** with\n",
    "clear explanations, diagrams-in-your-head™, and lots of bite‑sized exercises.\n",
    "\n",
    "> Tip: Solutions are hidden under clickable “**Show solution**” blocks.\n",
    "\n",
    "## Table of Contents\n",
    "1. What is a generator?\n",
    "2. `yield` — the pause button\n",
    "3. Iteration protocol: `iter()` & `next()`\n",
    "4. Generators vs. lists (speed & memory)\n",
    "5. Generator expressions `(x for x in ...)`\n",
    "6. Chaining generators (pipelines)\n",
    "7. Useful patterns & `itertools`\n",
    "8. Common pitfalls\n",
    "9. Exercises (easy → hard) + solutions\n"
   ]
  },
  {
   "cell_type": "markdown",
   "id": "8a4b4669",
   "metadata": {},
   "source": [
    "\n",
    "## 1. What is a generator?\n",
    "\n",
    "A **generator** is a function that returns an *iterator*—it produces values **lazily**,\n",
    "one at a time, using the `yield` keyword instead of `return`.\n",
    "\n",
    "**Why care?**\n",
    "- Saves memory: values are produced on demand (no big lists in RAM).\n",
    "- Can model *streams* (files, sockets, infinite sequences).\n",
    "- Composable: chain multiple simple steps into a data pipeline.\n"
   ]
  },
  {
   "cell_type": "code",
   "execution_count": null,
   "id": "d908552d",
   "metadata": {},
   "outputs": [],
   "source": [
    "\n",
    "def countdown(n: int):\n",
    "    print(\"Start!\")\n",
    "    while n > 0:\n",
    "        print(\"About to yield\", n)\n",
    "        yield n\n",
    "        n -= 1\n",
    "    print(\"Done.\")\n",
    "\n",
    "gen = countdown(3)\n",
    "gen\n"
   ]
  },
  {
   "cell_type": "code",
   "execution_count": null,
   "id": "32b7ec1a",
   "metadata": {},
   "outputs": [],
   "source": [
    "\n",
    "next(gen)\n"
   ]
  },
  {
   "cell_type": "code",
   "execution_count": null,
   "id": "8de74160",
   "metadata": {},
   "outputs": [],
   "source": [
    "\n",
    "list(gen)  # continue consuming remaining values\n"
   ]
  },
  {
   "cell_type": "markdown",
   "id": "b950a9d7",
   "metadata": {},
   "source": [
    "\n",
    "## 2. `yield` — the pause button\n",
    "\n",
    "`yield` *pauses* the function and sends a value to the caller. On the next\n",
    "iteration, execution resumes **right after** the `yield`.\n",
    "\n",
    "Illustration:\n",
    "\n",
    "```text\n",
    "enter function → ... → yield value ──► caller gets value\n",
    "                               ▲\n",
    "                      next() resumes here\n",
    "```\n"
   ]
  },
  {
   "cell_type": "code",
   "execution_count": null,
   "id": "8c997c9a",
   "metadata": {},
   "outputs": [],
   "source": [
    "\n",
    "def squares(n):\n",
    "    for i in range(n):\n",
    "        yield i, i*i\n",
    "\n",
    "for i, sq in squares(5):\n",
    "    print(i, sq)\n"
   ]
  },
  {
   "cell_type": "markdown",
   "id": "f9cb1471",
   "metadata": {},
   "source": [
    "\n",
    "## 3. The iteration protocol: `iter()` & `next()`\n",
    "\n",
    "In Python, an **iterator** is any object with:\n",
    "- `__iter__()` returning itself, and\n",
    "- `__next__()` returning the next value or raising `StopIteration`.\n",
    "\n",
    "Generators created by `yield` *already implement* this protocol.\n"
   ]
  },
  {
   "cell_type": "code",
   "execution_count": null,
   "id": "b69c4883",
   "metadata": {},
   "outputs": [],
   "source": [
    "\n",
    "g = (x*x for x in range(3))  # a generator *expression*\n",
    "it = iter(g)\n",
    "print(next(it))\n",
    "print(next(it))\n",
    "print(next(it))\n",
    "try:\n",
    "    print(next(it))\n",
    "except StopIteration:\n",
    "    print(\"No more values.\")\n"
   ]
  },
  {
   "cell_type": "markdown",
   "id": "9eda5d0f",
   "metadata": {},
   "source": [
    "\n",
    "## 4. Generators vs. lists — memory usage\n",
    "\n",
    "Lists store **all** items at once; generators compute items **on demand**.\n",
    "For big ranges/streams, generators can be dramatically lighter on memory.\n"
   ]
  },
  {
   "cell_type": "code",
   "execution_count": null,
   "id": "5bf82eb0",
   "metadata": {},
   "outputs": [],
   "source": [
    "\n",
    "import sys\n",
    "\n",
    "lst = [i*i for i in range(100_000)]\n",
    "gen = (i*i for i in range(100_000))\n",
    "\n",
    "print(\"List size (bytes):\", sys.getsizeof(lst))\n",
    "print(\"Gen  size (bytes):\", sys.getsizeof(gen))\n"
   ]
  },
  {
   "cell_type": "markdown",
   "id": "3b961a9d",
   "metadata": {},
   "source": [
    "\n",
    "## 5. Generator expressions `(expr for item in iterable if cond)`\n",
    "\n",
    "They look like list comprehensions but with parentheses — producing values lazily.\n",
    "\n",
    "**Examples:**"
   ]
  },
  {
   "cell_type": "code",
   "execution_count": null,
   "id": "a128132c",
   "metadata": {},
   "outputs": [],
   "source": [
    "\n",
    "nums = [1, 2, 3, 4, 5, 6]\n",
    "evens_sq = (n*n for n in nums if n % 2 == 0)\n",
    "print(evens_sq)       # just the generator object\n",
    "print(list(evens_sq)) # consuming it\n"
   ]
  },
  {
   "cell_type": "markdown",
   "id": "8a3bc453",
   "metadata": {},
   "source": [
    "\n",
    "## 6. Chaining generators (pipelines)\n",
    "\n",
    "You can build readable pipelines by composing small generator steps.\n"
   ]
  },
  {
   "cell_type": "code",
   "execution_count": null,
   "id": "0187334f",
   "metadata": {},
   "outputs": [],
   "source": [
    "\n",
    "def read_lines(path):\n",
    "    with open(path, \"r\", encoding=\"utf-8\") as f:\n",
    "        for line in f:\n",
    "            yield line.rstrip(\"\\n\")\n",
    "\n",
    "def grep(keyword, lines):\n",
    "    for line in lines:\n",
    "        if keyword.lower() in line.lower():\n",
    "            yield line\n",
    "\n",
    "def take(n, it):\n",
    "    for i, x in enumerate(it):\n",
    "        if i == n: \n",
    "            return\n",
    "        yield x\n",
    "\n",
    "# Demo with an in-memory \"file\"\n",
    "data = [\"Error: disk full\", \"ok\", \"warning\", \"error: fan\", \"OK\"]\n",
    "lines = (x for x in data)\n",
    "pipeline = take(2, grep(\"error\", lines))\n",
    "list(pipeline)\n"
   ]
  },
  {
   "cell_type": "markdown",
   "id": "48ab77e6",
   "metadata": {},
   "source": [
    "\n",
    "## 7. Useful patterns & `itertools`\n",
    "\n",
    "The `itertools` module provides fast building blocks that play perfectly with generators:\n",
    "- `count(start=0, step=1)` — infinite counter\n",
    "- `islice(iterable, stop)` — take first *n* items\n",
    "- `chain(a, b, ...)` — chain multiple iterables\n",
    "- `accumulate(iterable)` — running totals\n",
    "- `groupby(iterable, key=...)` — group consecutive items\n"
   ]
  },
  {
   "cell_type": "code",
   "execution_count": null,
   "id": "112f27f9",
   "metadata": {},
   "outputs": [],
   "source": [
    "\n",
    "from itertools import count, islice, chain, accumulate\n",
    "\n",
    "first10 = list(islice(count(10, 2), 10))\n",
    "chained = list(chain([1,2], [3,4], range(5,7)))\n",
    "running = list(accumulate([1,2,3,4]))\n",
    "\n",
    "first10, chained, running\n"
   ]
  },
  {
   "cell_type": "markdown",
   "id": "1896f5fb",
   "metadata": {},
   "source": [
    "\n",
    "## 8. Common pitfalls\n",
    "\n",
    "1. **Single-use**: Once consumed, a generator is *exhausted*.\n",
    "2. **Order of consumption** matters: if you partially consume, the next user starts later.\n",
    "3. **Side effects** in generators can be surprising if iterated multiple times.\n",
    "4. **Debugging**: Wrap with `list(...)` for a quick peek (but remember it forces full evaluation).\n"
   ]
  },
  {
   "cell_type": "code",
   "execution_count": null,
   "id": "36c6765b",
   "metadata": {},
   "outputs": [],
   "source": [
    "\n",
    "g = (x for x in range(5))\n",
    "print(list(g))\n",
    "print(list(g))  # empty now — already consumed\n"
   ]
  },
  {
   "cell_type": "markdown",
   "id": "c18b50c9",
   "metadata": {},
   "source": [
    "\n",
    "## 9. Exercises (with hidden solutions)\n",
    "\n",
    "Each task has a code cell for your answer. Open the **Show solution** block to compare.\n"
   ]
  },
  {
   "cell_type": "markdown",
   "id": "95d0f57d",
   "metadata": {},
   "source": [
    "\n",
    "### Exercise 1 — Simple range generator (Easy)\n",
    "\n",
    "Write a generator function `my_range(start, stop, step)` that mimics a tiny subset of `range()`.\n",
    "Yield numbers `start, start+step, ...` strictly less than `stop`.\n"
   ]
  },
  {
   "cell_type": "code",
   "execution_count": null,
   "id": "e509f1c6",
   "metadata": {},
   "outputs": [],
   "source": [
    "\n",
    "# Your turn!\n",
    "def my_range(start, stop=None, step=1):\n",
    "    # If called as my_range(stop), shift args like range(stop)\n",
    "    if stop is None:\n",
    "        start, stop = 0, start\n",
    "    # TODO: yield values from start to stop (exclusive) stepping by step\n",
    "    pass\n",
    "\n",
    "# Quick checks:\n",
    "print(list(my_range(5)))      # -> [0,1,2,3,4]\n",
    "print(list(my_range(2, 7)))   # -> [2,3,4,5,6]\n",
    "print(list(my_range(2, 10, 3)))  # -> [2,5,8]\n"
   ]
  },
  {
   "cell_type": "markdown",
   "id": "862616a2",
   "metadata": {},
   "source": [
    "\n",
    "<details>\n",
    "<summary><strong>Show solution</strong></summary>\n",
    "\n",
    "```python\n",
    "\n",
    "def my_range(start, stop=None, step=1):\n",
    "    if stop is None:\n",
    "        start, stop = 0, start\n",
    "    if step == 0:\n",
    "        raise ValueError(\"step cannot be 0\")\n",
    "    i = start\n",
    "    if step > 0:\n",
    "        while i < stop:\n",
    "            yield i\n",
    "            i += step\n",
    "    else:\n",
    "        while i > stop:\n",
    "            yield i\n",
    "            i += step  # step is negative\n",
    "\n",
    "```\n",
    "</details>\n"
   ]
  },
  {
   "cell_type": "markdown",
   "id": "b108643d",
   "metadata": {},
   "source": [
    "\n",
    "### Exercise 2 — Even numbers up to N (Easy)\n",
    "\n",
    "Create a **generator expression** that yields even numbers from `0` to `N` (inclusive). Store it in `evens`.\n"
   ]
  },
  {
   "cell_type": "code",
   "execution_count": null,
   "id": "98efcc4f",
   "metadata": {},
   "outputs": [],
   "source": [
    "\n",
    "N = 12\n",
    "# Your generator expression here:\n",
    "evens = None\n",
    "\n",
    "print(list(evens))  # -> [0, 2, 4, 6, 8, 10, 12]\n"
   ]
  },
  {
   "cell_type": "markdown",
   "id": "5af16941",
   "metadata": {},
   "source": [
    "\n",
    "<details>\n",
    "<summary><strong>Show solution</strong></summary>\n",
    "\n",
    "```python\n",
    "\n",
    "N = 12\n",
    "evens = (x for x in range(N+1) if x % 2 == 0)\n",
    "print(list(evens))\n",
    "\n",
    "```\n",
    "</details>\n"
   ]
  },
  {
   "cell_type": "markdown",
   "id": "e72d6510",
   "metadata": {},
   "source": [
    "\n",
    "### Exercise 3 — Sliding window (Medium)\n",
    "\n",
    "Write a generator `windows(iterable, size)` that yields consecutive tuples (windows) of length `size`.\n",
    "Example: `windows([1,2,3,4], 3)` → `(1,2,3)`, `(2,3,4)`.\n"
   ]
  },
  {
   "cell_type": "code",
   "execution_count": null,
   "id": "e1b93336",
   "metadata": {},
   "outputs": [],
   "source": [
    "\n",
    "from collections import deque\n",
    "\n",
    "def windows(iterable, size):\n",
    "    # TODO\n",
    "    pass\n",
    "\n",
    "print(list(windows([1,2,3,4], 3)))  # -> [(1,2,3), (2,3,4)]\n"
   ]
  },
  {
   "cell_type": "markdown",
   "id": "5506f74b",
   "metadata": {},
   "source": [
    "\n",
    "<details>\n",
    "<summary><strong>Show solution</strong></summary>\n",
    "\n",
    "```python\n",
    "\n",
    "from collections import deque\n",
    "\n",
    "def windows(iterable, size):\n",
    "    it = iter(iterable)\n",
    "    dq = deque(maxlen=size)\n",
    "    for x in it:\n",
    "        dq.append(x)\n",
    "        if len(dq) == size:\n",
    "            yield tuple(dq)\n",
    "\n",
    "```\n",
    "</details>\n"
   ]
  },
  {
   "cell_type": "markdown",
   "id": "f8207455",
   "metadata": {},
   "source": [
    "\n",
    "### Exercise 4 — Prime numbers (Medium)\n",
    "\n",
    "Implement `primes()` as an **infinite generator** that yields prime numbers in ascending order.\n",
    "Then take the first 15 primes.\n"
   ]
  },
  {
   "cell_type": "code",
   "execution_count": null,
   "id": "ed4b3489",
   "metadata": {},
   "outputs": [],
   "source": [
    "\n",
    "def primes():\n",
    "    # TODO: yield 2, 3, 5, 7, 11, ...\n",
    "    pass\n",
    "\n",
    "# Take first 15\n",
    "out = []\n",
    "for p in primes():\n",
    "    out.append(p)\n",
    "    if len(out) == 15:\n",
    "        break\n",
    "\n",
    "print(out)  # -> [2, 3, 5, 7, 11, 13, 17, 19, 23, 29, 31, 37, 41, 43, 47]\n"
   ]
  },
  {
   "cell_type": "markdown",
   "id": "568356a2",
   "metadata": {},
   "source": [
    "\n",
    "<details>\n",
    "<summary><strong>Show solution</strong></summary>\n",
    "\n",
    "```python\n",
    "\n",
    "def primes():\n",
    "    yield 2\n",
    "    candidate = 3\n",
    "    found = [2]\n",
    "    import math\n",
    "    while True:\n",
    "        is_p = True\n",
    "        r = int(math.isqrt(candidate))\n",
    "        for q in found:\n",
    "            if q > r:\n",
    "                break\n",
    "            if candidate % q == 0:\n",
    "                is_p = False\n",
    "                break\n",
    "        if is_p:\n",
    "            found.append(candidate)\n",
    "            yield candidate\n",
    "        candidate += 2  # skip even numbers\n",
    "\n",
    "```\n",
    "</details>\n"
   ]
  },
  {
   "cell_type": "markdown",
   "id": "7ae247ff",
   "metadata": {},
   "source": [
    "\n",
    "### Exercise 5 — File pipeline (Hard)\n",
    "\n",
    "Using **only generators**, build a three‑stage pipeline to process lines of text:\n",
    "1) `read_lines(path)` — yields stripped lines,\n",
    "2) `only_numbers(lines)` — yields lines that contain only digits,\n",
    "3) `as_ints(lines)` — converts them to integers.\n",
    "\n",
    "Then compute the **sum of the first 100 integers** produced by the pipeline.\n"
   ]
  },
  {
   "cell_type": "code",
   "execution_count": null,
   "id": "9a7c441c",
   "metadata": {},
   "outputs": [],
   "source": [
    "\n",
    "# Your turn! You may reuse patterns from earlier sections.\n",
    "def read_lines(path):\n",
    "    pass\n",
    "\n",
    "def only_numbers(lines):\n",
    "    pass\n",
    "\n",
    "def as_ints(lines):\n",
    "    pass\n",
    "\n",
    "# Demo input:\n",
    "sample = [\"001\", \"abc\", \"42\", \"  7 \", \"x9\", \"100\", \"999\"]\n",
    "lines = (x for x in sample)  # pretend it's a file\n",
    "# TODO: connect the pipeline and sum the first 100 integers\n"
   ]
  },
  {
   "cell_type": "markdown",
   "id": "9e2778c7",
   "metadata": {},
   "source": [
    "\n",
    "<details>\n",
    "<summary><strong>Show solution</strong></summary>\n",
    "\n",
    "```python\n",
    "\n",
    "def read_lines(path_or_iter):\n",
    "    # accept a path or any iterable of strings\n",
    "    if isinstance(path_or_iter, str):\n",
    "        with open(path_or_iter, \"r\", encoding=\"utf-8\") as f:\n",
    "            for line in f:\n",
    "                yield line.strip()\n",
    "    else:\n",
    "        for line in path_or_iter:\n",
    "            yield line.strip()\n",
    "\n",
    "def only_numbers(lines):\n",
    "    for line in lines:\n",
    "        if line.isdigit():\n",
    "            yield line\n",
    "\n",
    "def as_ints(lines):\n",
    "    for line in lines:\n",
    "        yield int(line)\n",
    "\n",
    "from itertools import islice\n",
    "\n",
    "sample = [\"001\", \"abc\", \"42\", \"  7 \", \"x9\", \"100\", \"999\"]\n",
    "pipeline = as_ints(only_numbers(read_lines(sample)))\n",
    "total = sum(islice(pipeline, 100))\n",
    "print(total)  # -> 1142\n",
    "\n",
    "```\n",
    "</details>\n"
   ]
  },
  {
   "cell_type": "markdown",
   "id": "791971e0",
   "metadata": {},
   "source": [
    "\n",
    "### Exercise 6 — Coroutine‑style `send()` (Hard, optional)\n",
    "\n",
    "Make a generator `collector()` that *receives* values via `.send(x)` and keeps a running total.\n",
    "When `.close()` is called, it should print (or yield) the final total.\n"
   ]
  },
  {
   "cell_type": "code",
   "execution_count": null,
   "id": "b0ecf645",
   "metadata": {},
   "outputs": [],
   "source": [
    "\n",
    "def collector():\n",
    "    # HINT: use a `while True:` loop and `val = yield total`\n",
    "    pass\n",
    "\n",
    "# Manual drive:\n",
    "c = collector()\n",
    "next(c)           # prime\n",
    "c.send(10)\n",
    "c.send(5)\n",
    "c.send(2)\n",
    "c.close()         # should show total=17\n"
   ]
  },
  {
   "cell_type": "markdown",
   "id": "2ef203f4",
   "metadata": {},
   "source": [
    "\n",
    "<details>\n",
    "<summary><strong>Show solution</strong></summary>\n",
    "\n",
    "```python\n",
    "\n",
    "def collector():\n",
    "    total = 0\n",
    "    try:\n",
    "        while True:\n",
    "            val = yield total\n",
    "            if val is not None:\n",
    "                total += val\n",
    "    except GeneratorExit:\n",
    "        print(\"Final total:\", total)\n",
    "\n",
    "c = collector()\n",
    "next(c)\n",
    "c.send(10); c.send(5); c.send(2)\n",
    "c.close()\n",
    "\n",
    "```\n",
    "</details>\n"
   ]
  },
  {
   "cell_type": "markdown",
   "id": "898f77a9",
   "metadata": {},
   "source": [
    "\n",
    "## Wrap‑up\n",
    "\n",
    "- Generators = lazy iterators built with `yield`.\n",
    "- Generator expressions = compact lazy pipelines with parentheses.\n",
    "- Use them for: streaming data, memory efficiency, readable pipelines.\n",
    "- Explore `itertools` for battle‑tested building blocks.\n",
    "\n",
    "Happy generating! ✨\n"
   ]
  }
 ],
 "metadata": {
  "kernelspec": {
   "display_name": "Python 3",
   "language": "python",
   "name": "python3"
  },
  "language_info": {
   "name": "python",
   "pygments_lexer": "ipython3"
  }
 },
 "nbformat": 4,
 "nbformat_minor": 5
}
