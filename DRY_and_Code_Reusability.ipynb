{
 "cells": [
  {
   "cell_type": "markdown",
   "id": "faac2f01",
   "metadata": {},
   "source": [
    "\n",
    "# DRY & Code Reusability — Notebook  \n",
    "**Don’t Repeat Yourself (DRY) & Reużywalność kodu — notatnik szkoleniowy**\n",
    "\n",
    "**Audience / Grupa docelowa:** Python intermediate  \n",
    "**Time / Czas:** ~45–60 min  \n",
    "**Format:** Bilingual (EN/PL) — dwujęzycznie\n"
   ]
  },
  {
   "cell_type": "markdown",
   "id": "b838b5b8",
   "metadata": {},
   "source": [
    "\n",
    "## Learning objectives / Cele nauki\n",
    "\n",
    "**EN**  \n",
    "By the end of this notebook, you will be able to:  \n",
    "- Explain the **DRY** principle and identify duplication smells.  \n",
    "- Refactor duplication into **functions**, **parameters**, and **modules**.  \n",
    "- Apply **composition**, **higher-order functions**, and **decorators** to reuse code.  \n",
    "- Structure code for reuse across files and projects.  \n",
    "- Write exercises that reinforce DRY thinking.\n",
    "\n",
    "**PL**  \n",
    "Po zakończeniu tego notatnika będziesz umieć:  \n",
    "- Wyjaśnić zasadę **DRY** i rozpoznawać symptomy duplikacji.  \n",
    "- Refaktoryzować duplikacje do **funkcji**, **parametrów** i **modułów**.  \n",
    "- Stosować **kompozycję**, **funkcje wyższego rzędu** oraz **dekoratory** do ponownego użycia kodu.  \n",
    "- Strukturyzować kod tak, aby był wielokrotnie wykorzystywany w różnych plikach i projektach.  \n",
    "- Rozwiązywać ćwiczenia utrwalające myślenie zgodne z DRY.\n"
   ]
  },
  {
   "cell_type": "markdown",
   "id": "63dfe27c",
   "metadata": {},
   "source": [
    "\n",
    "## What is DRY? / Czym jest DRY?\n",
    "\n",
    "**EN**  \n",
    "**DRY = Don't Repeat Yourself.** Every piece of knowledge should have a **single, unambiguous, authoritative** representation in the system. Duplication increases maintenance cost and the risk of inconsistencies.\n",
    "\n",
    "**Common duplication smells:**  \n",
    "- Copy–paste blocks that differ in **one or two lines**.  \n",
    "- The same constant/business rule scattered across files.  \n",
    "- Repeated **I/O patterns** (open → transform → save).  \n",
    "- Parallel functions that only differ by a **parameter**.\n",
    "\n",
    "**PL**  \n",
    "**DRY = Nie powtarzaj się.** Każda porcja wiedzy w systemie powinna mieć **jedno, jednoznaczne, autorytatywne** źródło. Duplikacja podnosi koszt utrzymania i ryzyko niespójności.\n",
    "\n",
    "**Typowe sygnały duplikacji:**  \n",
    "- Bloki „kopiuj‑wklej” różniące się **jedną–dwiema liniami**.  \n",
    "- Ta sama stała/reguła biznesowa rozrzucona po plikach.  \n",
    "- Powtarzalne schematy **wejścia/wyjścia** (open → transform → save).  \n",
    "- Bliźniacze funkcje różniące się tylko **parametrem**.\n"
   ]
  },
  {
   "cell_type": "markdown",
   "id": "30504a19",
   "metadata": {},
   "source": [
    "\n",
    "## Refactor duplication into a function / Refaktoryzacja do funkcji\n",
    "\n",
    "**EN**: Start by extracting the shared steps into a named function.  \n",
    "**PL**: Zacznij od wyodrębnienia wspólnych kroków do funkcji nazwanej.\n"
   ]
  },
  {
   "cell_type": "code",
   "execution_count": null,
   "id": "31134e55",
   "metadata": {},
   "outputs": [],
   "source": [
    "\n",
    "# BEFORE (duplication)\n",
    "def price_with_vat_pl(price):\n",
    "    return round(price * 1.23, 2)\n",
    "\n",
    "def price_with_vat_de(price):\n",
    "    return round(price * 1.19, 2)\n",
    "\n",
    "# AFTER (parameterize differences)\n",
    "def price_with_vat(price, vat_rate):\n",
    "    return round(price * (1 + vat_rate), 2)\n",
    "\n",
    "print(price_with_vat(100, 0.23))\n",
    "print(price_with_vat(100, 0.19))\n"
   ]
  },
  {
   "cell_type": "markdown",
   "id": "cad639e3",
   "metadata": {},
   "source": [
    "\n",
    "## Parameterization over duplication / Parametryzacja zamiast duplikacji\n",
    "\n",
    "**EN**  \n",
    "If two functions only differ in **constants** or **small behaviors**, parameterize them.  \n",
    "**PL**  \n",
    "Jeśli dwie funkcje różnią się tylko **stałymi** lub **drobiazgami**, zastosuj parametry.\n"
   ]
  },
  {
   "cell_type": "code",
   "execution_count": null,
   "id": "62082a67",
   "metadata": {},
   "outputs": [],
   "source": [
    "\n",
    "from pathlib import Path\n",
    "\n",
    "def transform_lines(src: Path, dst: Path, *, to_upper: bool = False, prefix: str = \"\"):\n",
    "    \"\"\"Generic file transformer—reusable.\n",
    "    - Set to_upper to transform case\n",
    "    - Use prefix to add annotation per line\n",
    "    \"\"\"\n",
    "    with src.open(encoding=\"utf-8\") as fin, dst.open(\"w\", encoding=\"utf-8\") as fout:\n",
    "        for line in fin:\n",
    "            line = line.rstrip(\"\\n\")\n",
    "            if to_upper:\n",
    "                line = line.upper()\n",
    "            if prefix:\n",
    "                line = f\"{prefix}{line}\"\n",
    "            print(line, file=fout)\n"
   ]
  },
  {
   "cell_type": "markdown",
   "id": "18d8f4f4",
   "metadata": {},
   "source": [
    "\n",
    "## Reuse via composition / Reużywalność przez kompozycję\n",
    "\n",
    "**EN**  \n",
    "Prefer **composition** (build from smaller parts) over deep inheritance hierarchies.  \n",
    "**PL**  \n",
    "Preferuj **kompozycję** (składanie z mniejszych klocków) zamiast głębokiej hierarchii dziedziczenia.\n"
   ]
  },
  {
   "cell_type": "code",
   "execution_count": null,
   "id": "6498204d",
   "metadata": {},
   "outputs": [],
   "source": [
    "\n",
    "class Formatter:\n",
    "    def __init__(self, prefix=\"\"):\n",
    "        self.prefix = prefix\n",
    "    def format(self, text: str) -> str:\n",
    "        return f\"{self.prefix}{text}\"\n",
    "\n",
    "class Writer:\n",
    "    def write(self, text: str):\n",
    "        print(text)\n",
    "\n",
    "class Service:\n",
    "    def __init__(self, formatter: Formatter, writer: Writer):\n",
    "        self.formatter = formatter\n",
    "        self.writer = writer\n",
    "    def process(self, text: str):\n",
    "        self.writer.write(self.formatter.format(text))\n",
    "\n",
    "svc = Service(Formatter(prefix=\"[INFO] \"), Writer())\n",
    "svc.process(\"Hello\")\n"
   ]
  },
  {
   "cell_type": "markdown",
   "id": "71d8c559",
   "metadata": {},
   "source": [
    "\n",
    "## Higher‑order functions / Funkcje wyższego rzędu\n",
    "\n",
    "**EN**  \n",
    "Pass behavior as a function instead of forking code.  \n",
    "**PL**  \n",
    "Przekazuj zachowanie jako funkcję zamiast rozgałęziać kod.\n"
   ]
  },
  {
   "cell_type": "code",
   "execution_count": null,
   "id": "3b25dedb",
   "metadata": {},
   "outputs": [],
   "source": [
    "\n",
    "from typing import Callable, Iterable, TypeVar, List\n",
    "\n",
    "T = TypeVar(\"T\")\n",
    "U = TypeVar(\"U\")\n",
    "\n",
    "def map_and_filter(items: Iterable[T], map_fn: Callable[[T], U], pred: Callable[[U], bool]) -> List[U]:\n",
    "    return [y for x in items if (y := map_fn(x)) and pred(y)]\n",
    "\n",
    "data = [\"  Alice \", \"bob\", \"  \", \"Eve \"]\n",
    "result = map_and_filter(data, lambda s: s.strip().title(), lambda s: len(s) >= 3)\n",
    "print(result)  # ['Alice', 'Bob', 'Eve']\n"
   ]
  },
  {
   "cell_type": "markdown",
   "id": "8fd39b2e",
   "metadata": {},
   "source": [
    "\n",
    "## Decorators for cross‑cutting concerns / Dekoratory dla aspektów przekrojowych\n",
    "\n",
    "**EN**  \n",
    "Use decorators to **reuse** logging, timing, caching across many functions.  \n",
    "**PL**  \n",
    "Użyj dekoratorów do wielokrotnego użytku logowania, pomiaru czasu, cache’owania.\n"
   ]
  },
  {
   "cell_type": "code",
   "execution_count": null,
   "id": "2abd14f4",
   "metadata": {},
   "outputs": [],
   "source": [
    "\n",
    "import time\n",
    "from functools import wraps\n",
    "\n",
    "def timed(fn):\n",
    "    @wraps(fn)\n",
    "    def wrapper(*args, **kwargs):\n",
    "        start = time.perf_counter()\n",
    "        try:\n",
    "            return fn(*args, **kwargs)\n",
    "        finally:\n",
    "            dur = (time.perf_counter() - start) * 1000\n",
    "            print(f\"{fn.__name__} took {dur:.2f} ms\")\n",
    "    return wrapper\n",
    "\n",
    "@timed\n",
    "def slow_sum(n: int) -> int:\n",
    "    total = 0\n",
    "    for i in range(n):\n",
    "        total += i\n",
    "    return total\n",
    "\n",
    "slow_sum(200000)\n"
   ]
  },
  {
   "cell_type": "markdown",
   "id": "1467f685",
   "metadata": {},
   "source": [
    "\n",
    "## Structure for reuse: modules & packages / Struktura do reużywalności: moduły i pakiety\n",
    "\n",
    "**EN**  \n",
    "- Extract utilities into **modules** (e.g., `utils/io.py`, `utils/text.py`).  \n",
    "- Keep public API small and documented (`__all__`).  \n",
    "- Add **type hints** to improve IDE support and safe reuse.  \n",
    "- Write **unit tests** to lock behavior and allow safe refactoring.\n",
    "\n",
    "**PL**  \n",
    "- Wyodrębniaj narzędzia do **modułów** (np. `utils/io.py`, `utils/text.py`).  \n",
    "- Utrzymuj małe i opisane **publiczne API** (`__all__`).  \n",
    "- Dodawaj **adnotacje typów** dla wsparcia IDE i bezpiecznej reużywalności.  \n",
    "- Pisz **testy jednostkowe**, aby zabezpieczyć zachowanie i umożliwić refaktoryzacje.\n"
   ]
  },
  {
   "cell_type": "markdown",
   "id": "35e6f8f0",
   "metadata": {},
   "source": [
    "\n",
    "## Example: Reusable data pipeline function / Przykład: Reużywalna funkcja „pipeline”\n"
   ]
  },
  {
   "cell_type": "code",
   "execution_count": null,
   "id": "289d1620",
   "metadata": {},
   "outputs": [],
   "source": [
    "\n",
    "from typing import Iterable, Callable, TypeVar\n",
    "\n",
    "T = TypeVar(\"T\")\n",
    "\n",
    "def pipeline(data: Iterable[T], *steps: Callable[[Iterable[T]], Iterable[T]]) -> Iterable[T]:\n",
    "    for step in steps:\n",
    "        data = step(data)\n",
    "    return data\n",
    "\n",
    "def drop_empty(xs: Iterable[str]) -> Iterable[str]:\n",
    "    return (x for x in xs if x.strip())\n",
    "\n",
    "def to_int(xs: Iterable[str]) -> Iterable[int]:\n",
    "    for x in xs:\n",
    "        try:\n",
    "            yield int(x)\n",
    "        except ValueError:\n",
    "            continue\n",
    "\n",
    "def keep_even(xs: Iterable[int]) -> Iterable[int]:\n",
    "    return (x for x in xs if x % 2 == 0)\n",
    "\n",
    "data = [\"10\", \"  \", \"3\", \"6\", \"foo\", \"8\"]\n",
    "res = list(pipeline(data, drop_empty, to_int, keep_even))\n",
    "print(res)  # [10, 6, 8]\n"
   ]
  },
  {
   "cell_type": "markdown",
   "id": "e99939ef",
   "metadata": {},
   "source": [
    "\n",
    "## Anti‑patterns / Antywzorce\n",
    "\n",
    "**EN**  \n",
    "- Copy–paste then tweak.  \n",
    "- Monster functions with optional flags controlling many behaviors.  \n",
    "- Over‑engineering (abstract too early).  \n",
    "- DRYing **comments** instead of **code**.\n",
    "\n",
    "**PL**  \n",
    "- Kopiuj‑wklej, a potem „dokręcanie śrubek”.  \n",
    "- „Potworne” funkcje z dziesiątkami flag.  \n",
    "- Nadmierna abstrakcja zbyt wcześnie.  \n",
    "- „Wysuszanie” **komentarzy** zamiast **kodu**.\n"
   ]
  },
  {
   "cell_type": "markdown",
   "id": "44b2f489",
   "metadata": {},
   "source": [
    "\n",
    "# Exercises / Ćwiczenia\n",
    "\n",
    "**Guidelines (EN):** Prefer parameterization, composition, or higher‑order functions over duplication.  \n",
    "**Wskazówki (PL):** Wybieraj parametryzację, kompozycję lub funkcje wyższego rzędu zamiast duplikacji.\n"
   ]
  },
  {
   "cell_type": "markdown",
   "id": "6f68d2b1",
   "metadata": {},
   "source": [
    "\n",
    "## Exercise 1 — Parameterize VAT / Parametryzacja VAT\n",
    "\n",
    "**EN**  \n",
    "You have two functions: `invoice_total_pl(items)` and `invoice_total_de(items)` that differ only in VAT rate.  \n",
    "Refactor into a single reusable function with a `vat_rate` parameter.\n",
    "\n",
    "**PL**  \n",
    "Masz dwie funkcje: `invoice_total_pl(items)` i `invoice_total_de(items)` różniące się jedynie stawką VAT.  \n",
    "Zrefaktoryzuj do jednej funkcji z parametrem `vat_rate`.\n"
   ]
  },
  {
   "cell_type": "code",
   "execution_count": null,
   "id": "488d92cb",
   "metadata": {},
   "outputs": [],
   "source": [
    "\n",
    "# STARTER\n",
    "items = [100.0, 49.9, 250.0]\n",
    "\n",
    "def invoice_total_pl(items):\n",
    "    return round(sum(items) * 1.23, 2)\n",
    "\n",
    "def invoice_total_de(items):\n",
    "    return round(sum(items) * 1.19, 2)\n",
    "\n",
    "# TODO: write a single function: invoice_total(items, vat_rate)\n",
    "# and show results for PL and DE\n"
   ]
  },
  {
   "cell_type": "markdown",
   "id": "ddfbf455",
   "metadata": {},
   "source": [
    "\n",
    "## Exercise 2 — Remove copy‑paste I/O / Usuń duplikację I/O\n",
    "\n",
    "**EN**  \n",
    "Two functions `save_upper(src, dst)` and `save_lower(src, dst)` only differ in case transformation.  \n",
    "Create **one** function that accepts a transformation callable.\n",
    "\n",
    "**PL**  \n",
    "Dwie funkcje `save_upper(src, dst)` oraz `save_lower(src, dst)` różnią się tylko zmianą wielkości liter.  \n",
    "Utwórz **jedną** funkcję przyjmującą funkcję transformującą.\n"
   ]
  },
  {
   "cell_type": "code",
   "execution_count": null,
   "id": "97f42bcd",
   "metadata": {},
   "outputs": [],
   "source": [
    "\n",
    "# STARTER\n",
    "def save_upper(text: str, path: str):\n",
    "    with open(path, \"w\", encoding=\"utf-8\") as f:\n",
    "        f.write(text.upper())\n",
    "\n",
    "def save_lower(text: str, path: str):\n",
    "    with open(path, \"w\", encoding=\"utf-8\") as f:\n",
    "        f.write(text.lower())\n",
    "\n",
    "# TODO: create save_transformed(text, path, transform)\n",
    "# Example usage:\n",
    "# save_transformed(\"Hello\", \"out.txt\", str.title)\n"
   ]
  },
  {
   "cell_type": "markdown",
   "id": "2adf9e2d",
   "metadata": {},
   "source": [
    "\n",
    "## Exercise 3 — Decorator reuse / Reużywalność z dekoratorem\n",
    "\n",
    "**EN**  \n",
    "Write a decorator `cached_once` that memoizes a **no‑argument** function the first time it is called.  \n",
    "Then apply it to two independent functions to avoid repeated heavy work.\n",
    "\n",
    "**PL**  \n",
    "Napisz dekorator `cached_once`, który zapamiętuje wynik funkcji **bezargumentowej** przy pierwszym wywołaniu.  \n",
    "Zastosuj go do dwóch niezależnych funkcji, aby uniknąć kosztownych obliczeń.\n"
   ]
  },
  {
   "cell_type": "code",
   "execution_count": null,
   "id": "dada80bb",
   "metadata": {},
   "outputs": [],
   "source": [
    "\n",
    "# STARTER\n",
    "import time\n",
    "\n",
    "def heavy():\n",
    "    time.sleep(0.2)\n",
    "    return \"OK\"\n",
    "\n",
    "# TODO:\n",
    "# @cached_once\n",
    "# def config():\n",
    "#     return heavy()\n",
    "#\n",
    "# @cached_once\n",
    "# def exchange_rate():\n",
    "#     return heavy()\n"
   ]
  },
  {
   "cell_type": "markdown",
   "id": "80058c34",
   "metadata": {},
   "source": [
    "\n",
    "# Solutions / Rozwiązania\n",
    "\n",
    "*(Try first before scrolling here / Najpierw spróbuj samodzielnie!)*\n"
   ]
  },
  {
   "cell_type": "code",
   "execution_count": null,
   "id": "9802cfa7",
   "metadata": {},
   "outputs": [],
   "source": [
    "\n",
    "# Solution 1\n",
    "def invoice_total(items, vat_rate):\n",
    "    return round(sum(items) * (1 + vat_rate), 2)\n",
    "\n",
    "print(\"PL:\", invoice_total([100.0, 49.9, 250.0], 0.23))\n",
    "print(\"DE:\", invoice_total([100.0, 49.9, 250.0], 0.19))\n"
   ]
  },
  {
   "cell_type": "code",
   "execution_count": null,
   "id": "440f0e77",
   "metadata": {},
   "outputs": [],
   "source": [
    "\n",
    "# Solution 2\n",
    "from typing import Callable\n",
    "\n",
    "def save_transformed(text: str, path: str, transform: Callable[[str], str] = lambda s: s):\n",
    "    with open(path, \"w\", encoding=\"utf-8\") as f:\n",
    "        f.write(transform(text))\n",
    "\n",
    "# demo (writes a file 'demo.txt')\n",
    "save_transformed(\"hello WORLD\", \"demo.txt\", str.title)\n",
    "with open(\"demo.txt\", encoding=\"utf-8\") as f:\n",
    "    print(f.read())\n"
   ]
  },
  {
   "cell_type": "code",
   "execution_count": null,
   "id": "981b0264",
   "metadata": {},
   "outputs": [],
   "source": [
    "\n",
    "# Solution 3\n",
    "from functools import wraps\n",
    "\n",
    "def cached_once(fn):\n",
    "    has = {\"done\": False, \"value\": None}\n",
    "    @wraps(fn)\n",
    "    def wrapper():\n",
    "        if not has[\"done\"]:\n",
    "            has[\"value\"] = fn()\n",
    "            has[\"done\"] = True\n",
    "        return has[\"value\"]\n",
    "    return wrapper\n",
    "\n",
    "import time\n",
    "\n",
    "def heavy():\n",
    "    time.sleep(0.2)\n",
    "    return \"OK\"\n",
    "\n",
    "@cached_once\n",
    "def config():\n",
    "    return heavy()\n",
    "\n",
    "@cached_once\n",
    "def exchange_rate():\n",
    "    return heavy()\n",
    "\n",
    "t0 = time.perf_counter()\n",
    "print(config(), exchange_rate())\n",
    "t1 = time.perf_counter()\n",
    "print(f\"Total time ~{(t1 - t0)*1000:.1f} ms (should be ~200 ms, not ~400 ms)\")\n"
   ]
  },
  {
   "cell_type": "markdown",
   "id": "a028b5ad",
   "metadata": {},
   "source": [
    "\n",
    "## References / Źródła\n",
    "\n",
    "- **Python docs — Functions / Funkcje:** https://docs.python.org/3/tutorial/controlflow.html#defining-functions  \n",
    "- **Python docs — Modules / Moduły:** https://docs.python.org/3/tutorial/modules.html  \n",
    "- **Typing — type hints / adnotacje:** https://docs.python.org/3/library/typing.html  \n",
    "- **functools (LRU cache, wraps):** https://docs.python.org/3/library/functools.html  \n",
    "- **itertools (combinators):** https://docs.python.org/3/library/itertools.html  \n",
    "- **unittest — testy jednostkowe:** https://docs.python.org/3/library/unittest.html  \n",
    "- **Refactoring (Martin Fowler):** https://martinfowler.com/books/refactoring.html\n"
   ]
  }
 ],
 "metadata": {},
 "nbformat": 4,
 "nbformat_minor": 5
}