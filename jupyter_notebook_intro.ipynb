{
 "cells": [
  {
   "cell_type": "markdown",
   "id": "659efa3c",
   "metadata": {},
   "source": [
    "\n",
    "# Introduction to Jupyter Notebooks  \n",
    "### Wprowadzenie do Jupyter Notebooków  \n",
    "\n",
    "In this section we will learn the basics of Jupyter Notebooks:  \n",
    "- Code vs Markdown cells  \n",
    "- Running, editing and sharing notebooks  \n",
    "\n",
    "W tej sekcji nauczymy się podstaw Jupyter Notebooków:  \n",
    "- Komórki kodu vs komórki Markdown  \n",
    "- Uruchamianie, edytowanie i udostępnianie notebooków  \n"
   ]
  },
  {
   "cell_type": "markdown",
   "id": "fdc1cc12",
   "metadata": {},
   "source": [
    "\n",
    "## Code vs Markdown cells  \n",
    "### Komórki kodu vs komórki Markdown  \n",
    "\n",
    "**English**:  \n",
    "In Jupyter Notebook, there are two main types of cells:  \n",
    "- **Code cells**: used to write and execute Python code.  \n",
    "- **Markdown cells**: used to write formatted text, explanations, headers, bullet points, links, or equations.  \n",
    "\n",
    "**Polish (Polski)**:  \n",
    "W Jupyter Notebook występują dwa główne typy komórek:  \n",
    "- **Komórki kodu**: służą do pisania i wykonywania kodu Pythona.  \n",
    "- **Komórki Markdown**: służą do pisania sformatowanego tekstu, wyjaśnień, nagłówków, list punktowanych, linków czy równań.  \n",
    "\n",
    "### Example / Przykład  \n",
    "\n",
    "- Code cell:  \n",
    "```python\n",
    "x = 5\n",
    "y = 10\n",
    "x + y\n",
    "```  \n",
    "\n",
    "- Markdown cell:  \n",
    "```\n",
    "# This is a header  \n",
    "This is *italic* and **bold** text.  \n",
    "- bullet point 1  \n",
    "- bullet point 2  \n",
    "```  \n",
    "\n",
    "### Exercise / Ćwiczenie  \n",
    "1. Create one code cell that calculates `25 * 4`.  \n",
    "2. Create one markdown cell that contains a **header** and a *list* of your 3 favorite programming languages.  \n"
   ]
  },
  {
   "cell_type": "markdown",
   "id": "dd06e80d",
   "metadata": {},
   "source": [
    "\n",
    "## Running, editing and sharing notebooks  \n",
    "### Uruchamianie, edytowanie i udostępnianie notebooków  \n",
    "\n",
    "**English**:  \n",
    "- To **run a cell**: click inside and press `Shift + Enter`.  \n",
    "- To **edit a cell**: double-click a Markdown cell or place cursor in a Code cell.  \n",
    "- To **add a new cell**: use the `+` button in the toolbar or press `B` (below) / `A` (above) in command mode.  \n",
    "- To **share notebooks**: save them as `.ipynb` files or export as HTML/PDF. You can also share them via GitHub or JupyterHub.  \n",
    "\n",
    "**Polish (Polski)**:  \n",
    "- Aby **uruchomić komórkę**: kliknij w nią i naciśnij `Shift + Enter`.  \n",
    "- Aby **edytować komórkę**: kliknij dwukrotnie na komórkę Markdown lub ustaw kursor w komórce kodu.  \n",
    "- Aby **dodać nową komórkę**: użyj przycisku `+` na pasku narzędzi lub naciśnij `B` (poniżej) / `A` (powyżej) w trybie poleceń.  \n",
    "- Aby **udostępniać notebooki**: zapisz je jako pliki `.ipynb` lub wyeksportuj do HTML/PDF. Możesz je także udostępniać przez GitHub lub JupyterHub.  \n",
    "\n",
    "### Example / Przykład  \n",
    "Try to run this code cell below:  \n"
   ]
  },
  {
   "cell_type": "code",
   "execution_count": null,
   "id": "e7ddfd41",
   "metadata": {},
   "outputs": [],
   "source": [
    "\n",
    "name = \"Python student\"\n",
    "for i in range(3):\n",
    "    print(f\"Hello, {name}! This is run number {i+1}.\")\n"
   ]
  },
  {
   "cell_type": "markdown",
   "id": "df17114c",
   "metadata": {},
   "source": [
    "\n",
    "### Exercise / Ćwiczenie  \n",
    "1. Run the code cell above at least 2 times. What do you notice?  \n",
    "2. Edit the code to print your own name instead of `\"Python student\"`.  \n",
    "3. Save the notebook and try exporting it as HTML (File -> Download as -> HTML).  \n"
   ]
  }
 ],
 "metadata": {},
 "nbformat": 4,
 "nbformat_minor": 5
}