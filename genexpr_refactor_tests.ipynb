{
 "cells": [
  {
   "cell_type": "markdown",
   "id": "ce64d7aa",
   "metadata": {},
   "source": [
    "# Refactor to Generator Expressions — With Tests\n",
    "**Bilingual / Dwujęzycznie (EN/PL)**  \n",
    "Created: 2025-08-26\n",
    "\n",
    "**Goal / Cel:** Change functions that currently use `yield` into ones that **return a generator expression**.  \n",
    "**How to use / Jak używać:** Edit the function in each task, then run the **Test** cell below it. Tests will fail until your change is correct.\n",
    "\n",
    "---\n"
   ]
  },
  {
   "cell_type": "code",
   "execution_count": null,
   "id": "5a0aa66c",
   "metadata": {},
   "outputs": [],
   "source": [
    "# Common imports for tests / Wspólne importy do testów\n",
    "import types\n"
   ]
  },
  {
   "cell_type": "markdown",
   "id": "ba4c0c68",
   "metadata": {},
   "source": [
    "## Task 1 — Filter ERROR lines / Filtrowanie linii z ERROR\n",
    "\n",
    "**EN:** Replace the `yield`-based generator with a function that **returns a generator expression** yielding only lines containing `\"ERROR\"`.  \n",
    "**PL:** Zastąp generator oparty na `yield` funkcją, która **zwraca wyrażenie generatorowe** zwracające tylko linie zawierające `\"ERROR\"`.\n"
   ]
  },
  {
   "cell_type": "code",
   "execution_count": null,
   "id": "ccca2a81",
   "metadata": {},
   "outputs": [],
   "source": [
    "# Dataset\n",
    "logs = [\n",
    "    \"2025-08-26 09:15:10,032 INFO user=alice action=login status=OK ip=192.168.0.10\",\n",
    "    \"2025-08-26 09:15:13,221 ERROR user=alice action=fetch_data status=TIMEOUT ip=192.168.0.10\",\n",
    "    \"2025-08-26 09:16:00,101 WARN user=bob action=upload status=RETRY ip=10.0.0.5\",\n",
    "    \"2025-08-26 09:16:08,450 ERROR user=bob action=upload status=DENIED ip=10.0.0.5\",\n",
    "]"
   ]
  },
  {
   "cell_type": "code",
   "execution_count": null,
   "id": "4352b677",
   "metadata": {},
   "outputs": [],
   "source": [
    "# TODO: refactor this function\n",
    "def error_lines(lines):\n",
    "    for line in lines:\n",
    "        if \" ERROR \" in f\" {line} \":\n",
    "            yield line\n"
   ]
  },
  {
   "cell_type": "code",
   "execution_count": null,
   "id": "59a5b912",
   "metadata": {},
   "outputs": [],
   "source": [
    "# TEST 1 — run after you edit the function\n",
    "result = error_lines(logs)\n",
    "assert isinstance(result, types.GeneratorType), \"Should return a generator (from a generator expression).\"\n",
    "\n",
    "got = list(result)\n",
    "expected = [\n",
    "    \"2025-08-26 09:15:13,221 ERROR user=alice action=fetch_data status=TIMEOUT ip=192.168.0.10\",\n",
    "    \"2025-08-26 09:16:08,450 ERROR user=bob action=upload status=DENIED ip=10.0.0.5\",\n",
    "]\n",
    "assert got == expected, f\"Unexpected lines: {got}\"\n",
    "print(\"Task 1 ✅ Passed\")"
   ]
  },
  {
   "cell_type": "markdown",
   "id": "ce6324a8",
   "metadata": {},
   "source": [
    "---\n",
    "## Task 2 — Parse CSV prices / Parsowanie cen z CSV\n",
    "\n",
    "**EN:** Convert the function so it **returns a generator expression** that yields `float(price)` for each non-header row.  \n",
    "**PL:** Przerób funkcję tak, aby **zwracała wyrażenie generatorowe** `float(price)` dla każdej linii poza nagłówkiem.\n"
   ]
  },
  {
   "cell_type": "code",
   "execution_count": null,
   "id": "24f16041",
   "metadata": {},
   "outputs": [],
   "source": [
    "# Dataset (CSV-like rows)\n",
    "csv_rows = [\n",
    "    \"id,name,price\",\n",
    "    \"1,TV,2000\",\n",
    "    \"2,Laptop,3500\",\n",
    "    \"3,Phone,1500\",\n",
    "]"
   ]
  },
  {
   "cell_type": "code",
   "execution_count": null,
   "id": "a2e60c41",
   "metadata": {},
   "outputs": [],
   "source": [
    "# TODO: refactor this function\n",
    "def iter_prices(lines):\n",
    "    header = True\n",
    "    for row in lines:\n",
    "        if header:\n",
    "            header = False\n",
    "            continue\n",
    "        _, _, price = row.strip().split(\",\")\n",
    "        yield float(price)\n"
   ]
  },
  {
   "cell_type": "code",
   "execution_count": null,
   "id": "108138f2",
   "metadata": {},
   "outputs": [],
   "source": [
    "# TEST 2 — run after you edit the function\n",
    "pr = iter_prices(csv_rows)\n",
    "assert isinstance(pr, types.GeneratorType), \"Should return a generator (from a generator expression).\"\n",
    "\n",
    "values = list(iter_prices(csv_rows))\n",
    "assert values == [2000.0, 3500.0, 1500.0], f\"Wrong prices: {values}\"\n",
    "avg = sum(iter_prices(csv_rows)) / 3\n",
    "assert abs(avg - 2333.3333) < 1e-4, f\"Wrong average: {avg}\"\n",
    "print(\"Task 2 ✅ Passed\")"
   ]
  },
  {
   "cell_type": "markdown",
   "id": "761b3e15",
   "metadata": {},
   "source": [
    "---\n",
    "## Task 3 — Normalize usernames / Normalizacja nazw użytkowników\n",
    "\n",
    "**EN:** Make the function **return a generator expression** that trims whitespace, lowercases values, and **skips empties**.  \n",
    "**PL:** Zmień funkcję tak, aby **zwracała wyrażenie generatorowe**, które obcina spacje, zmienia na małe litery i **pomija puste** wartości.\n"
   ]
  },
  {
   "cell_type": "code",
   "execution_count": null,
   "id": "8e46d475",
   "metadata": {},
   "outputs": [],
   "source": [
    "# Dataset\n",
    "raw_users = [\"  Alice \", \"  \", \"\\tBoB\", \"carol  \", \"\", \"   dave   \"]"
   ]
  },
  {
   "cell_type": "code",
   "execution_count": null,
   "id": "440ddcf6",
   "metadata": {},
   "outputs": [],
   "source": [
    "# TODO: refactor this function\n",
    "def normalized_users(users):\n",
    "    for u in users:\n",
    "        u = u.strip()\n",
    "        if not u:\n",
    "            continue\n",
    "        yield u.lower()\n"
   ]
  },
  {
   "cell_type": "code",
   "execution_count": null,
   "id": "89ed28b6",
   "metadata": {},
   "outputs": [],
   "source": [
    "# TEST 3 — run after you edit the function\n",
    "nu = normalized_users(raw_users)\n",
    "assert isinstance(nu, types.GeneratorType), \"Should return a generator (from a generator expression).\"\n",
    "\n",
    "got = list(nu)\n",
    "expected = [\"alice\", \"bob\", \"carol\", \"dave\"]\n",
    "assert got == expected, f\"Unexpected result: {got}\"\n",
    "print(\"Task 3 ✅ Passed\")"
   ]
  },
  {
   "cell_type": "markdown",
   "id": "0cab4000",
   "metadata": {},
   "source": [
    "---\n",
    "### Tip / Wskazówka\n",
    "If your original `yield` function opens files internally (`with open(path) as f:`), returning a generator expression that uses `f` will close the file too early. In that case, open the file **outside** and pass the iterable into your function, or keep the `yield` form.\n"
   ]
  }
 ],
 "metadata": {},
 "nbformat": 4,
 "nbformat_minor": 5
}
