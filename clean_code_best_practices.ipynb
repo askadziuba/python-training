{
 "cells": [
  {
   "cell_type": "markdown",
   "id": "0e7d4897",
   "metadata": {},
   "source": [
    "# Clean Code & Best Practices — Python Intermediate  \n",
    "**Bilingual / Dwujęzycznie (EN/PL)**  \n",
    "Created: 2025-08-26\n",
    "\n",
    "> This notebook covers: Naming conventions (PEP 8), Type hints & annotations, Docstrings (PEP 257), DRY & reusability, Commenting & readability.  \n",
    "> Ten zeszyt omawia: Konwencje nazewnictwa (PEP 8), Adnotacje typów, Docstringi (PEP 257), Zasadę DRY i ponowne wykorzystanie kodu, Komentowanie i czytelność.\n",
    "\n",
    "---\n",
    "\n",
    "## Table of Contents / Spis treści\n",
    "1. [Naming conventions (PEP 8) / Konwencje nazewnictwa (PEP 8)](#sec1)\n",
    "2. [Type hints & annotations / Adnotacje typów](#sec2)\n",
    "3. [Docstrings (PEP 257)](#sec3)\n",
    "4. [DRY & code reusability / DRY i ponowne wykorzystanie kodu](#sec4)\n",
    "5. [Commenting & readability / Komentowanie i czytelność](#sec5)\n",
    "\n",
    "Each section contains: theory (EN & PL), examples, links, and exercises.  \n",
    "Każda sekcja zawiera: teorię (EN & PL), przykłady, linki i ćwiczenia.\n"
   ]
  },
  {
   "cell_type": "markdown",
   "id": "61ed1fd7",
   "metadata": {},
   "source": [
    "---\n",
    "<a id=\"sec1\"></a>\n",
    "# 1) Naming conventions (PEP 8) / Konwencje nazewnictwa (PEP 8)\n",
    "\n",
    "### EN — Theory\n",
    "- **Modules & packages:** `lowercase_with_underscores`  \n",
    "- **Variables & functions:** `lowercase_with_underscores` (snake_case)  \n",
    "- **Classes & Exceptions:** `CapWords` (PascalCase)  \n",
    "- **Constants:** `ALL_CAPS_WITH_UNDERSCORES`  \n",
    "- **Protected (internal) attrs:** single leading underscore `_internal`  \n",
    "- **“Dunder” (magic) names:** `__init__`, `__repr__` (reserved by Python)  \n",
    "- Prefer **descriptive** names (`total_revenue` over `tr`) and avoid misleading abbreviations.\n",
    "- Keep **acronyms** consistent: prefer `HttpServer` not `HTTPServer` in variable names.\n",
    "\n",
    "### PL — Teoria\n",
    "- **Moduły i pakiety:** `lowercase_with_underscores`  \n",
    "- **Zmienne i funkcje:** `lowercase_with_underscores` (snake_case)  \n",
    "- **Klasy i wyjątki:** `CapWords` (PascalCase)  \n",
    "- **Stałe:** `ALL_CAPS_WITH_UNDERSCORES`  \n",
    "- **Atrybuty wewnętrzne:** pojedynczy podkreślnik `_internal`  \n",
    "- **Nazwy „dunder”:** `__init__`, `__repr__` (zarezerwowane przez Pythona)  \n",
    "- Preferuj **opisowe** nazwy i unikaj mylących skrótów.\n",
    "- Ujednolicaj **akronimy**: np. `HttpServer` zamiast `HTTPServer` w nazwach zmiennych.\n"
   ]
  },
  {
   "cell_type": "markdown",
   "id": "a21cb0f6",
   "metadata": {},
   "source": [
    "### Examples / Przykłady"
   ]
  },
  {
   "cell_type": "code",
   "execution_count": null,
   "id": "17713a02",
   "metadata": {},
   "outputs": [],
   "source": [
    "# Bad\n",
    "x = 10\n",
    "def do(a, b): return a+b\n",
    "\n",
    "# Good\n",
    "max_retries = 10  # constant-like config can also be UPPER_CASE if truly constant\n",
    "def add_numbers(left: int, right: int) -> int:\n",
    "    return left + right\n",
    "\n",
    "class PaymentProcessor:\n",
    "    pass\n",
    "\n",
    "_internal_cache = {}  # internal (module-private) by convention\n"
   ]
  },
  {
   "cell_type": "markdown",
   "id": "ee3ab426",
   "metadata": {},
   "source": [
    "### Useful links / Przydatne linki\n",
    "- PEP 8 — Style Guide for Python Code: https://peps.python.org/pep-0008/#naming-conventions\n",
    "- Google Python Style Guide (reference): https://google.github.io/styleguide/pyguide.html#316-naming\n"
   ]
  },
  {
   "cell_type": "markdown",
   "id": "89daff2b",
   "metadata": {},
   "source": [
    "### Exercises / Ćwiczenia\n",
    "\n",
    "**EN:** Rename variables, functions, and classes to follow PEP 8.  \n",
    "**PL:** Zmień nazwy zmiennych, funkcji i klas zgodnie z PEP 8.\n",
    "\n",
    "1. Rename to good names / Zmień na dobre nazwy:\n",
    "```python\n",
    "X = 3.14\n",
    "class dbclient: pass\n",
    "def CalcSUM(A,B): return A+B\n",
    "```\n",
    "\n",
    "2. Create a constant for VAT rate / Utwórz stałą dla stawki VAT: `0.23`\n",
    "\n",
    "Write your solution below / Zapisz rozwiązanie poniżej:\n"
   ]
  },
  {
   "cell_type": "code",
   "execution_count": null,
   "id": "306c4465",
   "metadata": {},
   "outputs": [],
   "source": [
    "# Your answer here / Twoje rozwiązanie tutaj\n"
   ]
  },
  {
   "cell_type": "markdown",
   "id": "f0de87b1",
   "metadata": {},
   "source": [
    "---\n",
    "<a id=\"sec2\"></a>\n",
    "# 2) Type hints & annotations / Adnotacje typów\n",
    "\n",
    "### EN — Theory\n",
    "- Use **PEP 484** type hints to improve readability and tooling (linters, mypy/pyright).\n",
    "- Built-ins are subscriptable: `list[str]`, `dict[str, int]` (Python 3.9+).\n",
    "- `Optional[T]` == `T | None` (Python 3.10+ union operator `|`).\n",
    "- Use `TypedDict` for dict-like records; `Protocol` for structural subtyping.\n",
    "- Consider `from __future__ import annotations` in libraries to avoid forward-ref issues.\n",
    "- Type **public APIs**; internal helpers as needed. Avoid over-annotating trivial locals.\n",
    "\n",
    "### PL — Teoria\n",
    "- Używaj adnotacji typów (PEP 484) dla czytelności i wsparcia narzędzi (linters, mypy/pyright).\n",
    "- Wbudowane typy są parametryzowane: `list[str]`, `dict[str, int]` (Python 3.9+).\n",
    "- `Optional[T]` to `T | None` (operator unii `|` od Pythona 3.10+).\n",
    "- `TypedDict` do struktur słownikowych; `Protocol` do typowania strukturalnego.\n",
    "- Rozważ `from __future__ import annotations` w bibliotekach.\n",
    "- Typuj **publiczne API**; wewnętrzne pomocnicze w razie potrzeby. Nie przesadzaj z adnotacjami.\n"
   ]
  },
  {
   "cell_type": "markdown",
   "id": "856b3843",
   "metadata": {},
   "source": [
    "### Examples / Przykłady"
   ]
  },
  {
   "cell_type": "code",
   "execution_count": null,
   "id": "5da5e991",
   "metadata": {},
   "outputs": [],
   "source": [
    "from __future__ import annotations\n",
    "from typing import Optional, Iterable, TypedDict, Protocol\n",
    "\n",
    "def average(nums: Iterable[float]) -> float:\n",
    "    total = 0.0\n",
    "    count = 0\n",
    "    for n in nums:\n",
    "        total += n\n",
    "        count += 1\n",
    "    return total / count if count else 0.0\n",
    "\n",
    "def greet(name: str, title: Optional[str] = None) -> str:\n",
    "    full = f\"{title} {name}\" if title else name\n",
    "    return f\"Hello, {full}!\"\n",
    "\n",
    "class User(TypedDict):\n",
    "    id: int\n",
    "    name: str\n",
    "    email: str\n",
    "\n",
    "class HasLen(Protocol):\n",
    "    def __len__(self) -> int: ...\n",
    "\n",
    "def is_empty(x: HasLen) -> bool:\n",
    "    return len(x) == 0\n"
   ]
  },
  {
   "cell_type": "markdown",
   "id": "8af28c54",
   "metadata": {},
   "source": [
    "### Useful links / Przydatne linki\n",
    "- Typing — type hints: https://docs.python.org/3/library/typing.html\n",
    "- PEP 484 Type Hints: https://peps.python.org/pep-0484/\n",
    "- PEP 563 / Future annotations note: https://peps.python.org/pep-0563/\n",
    "- mypy: https://mypy.readthedocs.io/\n",
    "- pyright: https://github.com/microsoft/pyright\n"
   ]
  },
  {
   "cell_type": "markdown",
   "id": "7891c64b",
   "metadata": {},
   "source": [
    "### Exercises / Ćwiczenia\n",
    "\n",
    "**EN:** Add type hints to the functions.  \n",
    "**PL:** Dodaj adnotacje typów do funkcji.\n",
    "\n",
    "```python\n",
    "def area(width, height):\n",
    "    return width * height\n",
    "\n",
    "def first_or_none(xs):\n",
    "    return xs[0] if xs else None\n",
    "```\n",
    "\n",
    "Then run a type checker (optional) / Następnie uruchom type checker (opcjonalnie).\n",
    "\n",
    "Write your solution below / Zapisz rozwiązanie poniżej:\n"
   ]
  },
  {
   "cell_type": "code",
   "execution_count": null,
   "id": "dcea5c93",
   "metadata": {},
   "outputs": [],
   "source": [
    "# Your answer here / Twoje rozwiązanie tutaj\n"
   ]
  },
  {
   "cell_type": "markdown",
   "id": "2eeac7da",
   "metadata": {},
   "source": [
    "---\n",
    "<a id=\"sec3\"></a>\n",
    "# 3) Writing docstrings (PEP 257) / Docstringi (PEP 257)\n",
    "\n",
    "### EN — Theory\n",
    "- Use triple quotes `\"\"\"` and write a **one-line summary** followed by details.\n",
    "- Keep a blank line after the summary for multi-line docstrings.\n",
    "- Describe args, returns, raises. Use a consistent style (Google / NumPy / reST).\n",
    "- Docstrings are for **what** and **why**; inline comments can cover **how**.\n",
    "\n",
    "### PL — Teoria\n",
    "- Używaj potrójnych cudzysłowów `\"\"\"` i **jednolinijkowego podsumowania**.\n",
    "- W przypadku dłuższych opisów zostaw pustą linię po podsumowaniu.\n",
    "- Opisz argumenty, zwracane wartości i wyjątki. Używaj spójnego stylu (Google / NumPy / reST).\n",
    "- Docstring opisuje **co** i **dlaczego**; komentarze liniowe mogą tłumaczyć **jak**.\n"
   ]
  },
  {
   "cell_type": "markdown",
   "id": "bfa380d2",
   "metadata": {},
   "source": [
    "### Examples (Google style) / Przykłady (styl Google)"
   ]
  },
  {
   "cell_type": "code",
   "execution_count": null,
   "id": "88994592",
   "metadata": {},
   "outputs": [],
   "source": [
    "def normalize(text: str, *, lower: bool = True) -> str:\n",
    "    \"\"\"Normalize text by trimming spaces and optionally lowercasing.\n",
    "\n",
    "    Args:\n",
    "        text: Input text.\n",
    "        lower: Whether to lowercase the result.\n",
    "\n",
    "    Returns:\n",
    "        A normalized string.\n",
    "\n",
    "    Examples:\n",
    "        >>> normalize(\"  Hello  \")\n",
    "        'hello'\n",
    "    \"\"\"\n",
    "    out = text.strip()\n",
    "    return out.lower() if lower else out\n"
   ]
  },
  {
   "cell_type": "markdown",
   "id": "ee241613",
   "metadata": {},
   "source": [
    "### Useful links / Przydatne linki\n",
    "- PEP 257 — Docstring Conventions: https://peps.python.org/pep-0257/\n",
    "- PEP 8 — Documentation strings: https://peps.python.org/pep-0008/#documentation-strings\n",
    "- Google style guide (docstrings): https://google.github.io/styleguide/pyguide.html#38-comments-and-docstrings\n",
    "- NumPy docstring guide: https://numpydoc.readthedocs.io/en/latest/format.html\n"
   ]
  },
  {
   "cell_type": "markdown",
   "id": "742a024a",
   "metadata": {},
   "source": [
    "### Exercises / Ćwiczenia\n",
    "\n",
    "**EN:** Add a proper docstring (Google style) to the function below.  \n",
    "**PL:** Dodaj poprawny docstring (styl Google) do funkcji poniżej.\n"
   ]
  },
  {
   "cell_type": "code",
   "execution_count": null,
   "id": "0571b5f4",
   "metadata": {},
   "outputs": [],
   "source": [
    "def clamp(value: float, low: float, high: float) -> float:\n",
    "    # TODO: add a docstring\n",
    "    if value < low:\n",
    "        return low\n",
    "    if value > high:\n",
    "        return high\n",
    "    return value\n",
    "\n",
    "# Your answer: add a docstring above / Twoje rozwiązanie: dodaj docstring powyżej\n"
   ]
  },
  {
   "cell_type": "markdown",
   "id": "f6229eac",
   "metadata": {},
   "source": [
    "---\n",
    "<a id=\"sec4\"></a>\n",
    "# 4) DRY & code reusability / DRY i ponowne wykorzystanie kodu\n",
    "\n",
    "### EN — Theory\n",
    "- **DRY (Don't Repeat Yourself):** extract common logic into functions, utilities, or classes.\n",
    "- Parameterize differences; avoid copy-paste blocks.\n",
    "- Prefer **composition** and small, testable functions.\n",
    "- Use constants/config instead of magic numbers.\n",
    "- Reuse via standard library and well-chosen dependencies.\n",
    "\n",
    "### PL — Teoria\n",
    "- **DRY (Nie powtarzaj się):** wydziel wspólną logikę do funkcji, modułów lub klas.\n",
    "- Parametryzuj różnice; unikaj kopiuj-wklej.\n",
    "- Preferuj **kompozycję** i małe, testowalne funkcje.\n",
    "- Zastępuj „magiczne liczby” stałymi/konfiguracją.\n",
    "- Wykorzystuj bibliotekę standardową i sprawdzone zależności.\n"
   ]
  },
  {
   "cell_type": "markdown",
   "id": "3d686ae1",
   "metadata": {},
   "source": [
    "### Example: Refactor repetition / Przykład: refaktoryzacja powtórzeń"
   ]
  },
  {
   "cell_type": "code",
   "execution_count": null,
   "id": "336ffbe4",
   "metadata": {},
   "outputs": [],
   "source": [
    "# Before / Przed\n",
    "def price_with_vat_pl(price):\n",
    "    return price * 1.23\n",
    "\n",
    "def price_with_vat_de(price):\n",
    "    return price * 1.19\n",
    "\n",
    "# After / Po\n",
    "VAT = {\n",
    "    'PL': 0.23,\n",
    "    'DE': 0.19,\n",
    "}\n",
    "\n",
    "def price_with_vat(price: float, country_code: str) -> float:\n",
    "    rate = VAT.get(country_code.upper(), 0.0)\n",
    "    return price * (1 + rate)\n"
   ]
  },
  {
   "cell_type": "markdown",
   "id": "fd7ff3ee",
   "metadata": {},
   "source": [
    "### Useful links / Przydatne linki\n",
    "- Refactoring (Martin Fowler) overview: https://refactoring.com/\n",
    "- Python stdlib (reusable batteries): https://docs.python.org/3/library/\n"
   ]
  },
  {
   "cell_type": "markdown",
   "id": "aebad808",
   "metadata": {},
   "source": [
    "### Exercises / Ćwiczenia\n",
    "\n",
    "**EN:** Refactor to remove duplication; extract a reusable function.  \n",
    "**PL:** Zrefaktoryzuj kod, aby usunąć duplikację; wydziel funkcję wielokrotnego użytku.\n",
    "\n",
    "```python\n",
    "def discount_black_friday(price):\n",
    "    return price * 0.8\n",
    "\n",
    "def discount_new_year(price):\n",
    "    return price * 0.9\n",
    "\n",
    "def discount_student(price):\n",
    "    return price * 0.85\n",
    "```\n",
    "Write your solution below / Zapisz rozwiązanie poniżej:\n"
   ]
  },
  {
   "cell_type": "code",
   "execution_count": null,
   "id": "306124ea",
   "metadata": {},
   "outputs": [],
   "source": [
    "# Your answer here / Twoje rozwiązanie tutaj\n"
   ]
  },
  {
   "cell_type": "markdown",
   "id": "e2b4c893",
   "metadata": {},
   "source": [
    "---\n",
    "<a id=\"sec5\"></a>\n",
    "# 5) Commenting & readability / Komentowanie i czytelność\n",
    "\n",
    "### EN — Theory\n",
    "- Prefer **clear code** over excessive comments; rename variables and extract helpers.\n",
    "- Use comments for **why**, not obvious **what**.\n",
    "- Keep comments up-to-date; remove dead code.\n",
    "- Use **TODO/BUG/FIXME** with issue references.\n",
    "- Break up long expressions; use intermediate variables and **early returns**.\n",
    "\n",
    "### PL — Teoria\n",
    "- Preferuj **czytelny kod** zamiast nadmiaru komentarzy; zmieniaj nazwy i wydzielaj funkcje pomocnicze.\n",
    "- Używaj komentarzy do wyjaśnienia **dlaczego**, nie oczywistego **co**.\n",
    "- Aktualizuj komentarze; usuwaj martwy kod.\n",
    "- Używaj **TODO/BUG/FIXME** z numerami zgłoszeń.\n",
    "- Dziel długie wyrażenia; stosuj zmienne pośrednie i **wczesne zwroty** (early return).\n"
   ]
  },
  {
   "cell_type": "markdown",
   "id": "c0baed33",
   "metadata": {},
   "source": [
    "### Examples / Przykłady"
   ]
  },
  {
   "cell_type": "code",
   "execution_count": null,
   "id": "5ca0f908",
   "metadata": {},
   "outputs": [],
   "source": [
    "def is_eligible(age: int, has_consent: bool) -> bool:\n",
    "    # Early return improves readability over nested ifs\n",
    "    if age >= 18:\n",
    "        return True\n",
    "    return has_consent\n"
   ]
  },
  {
   "cell_type": "markdown",
   "id": "e02b494c",
   "metadata": {},
   "source": [
    "### Useful links / Przydatne linki\n",
    "- PEP 8 — Comments: https://peps.python.org/pep-0008/#comments\n",
    "- PEP 20 — The Zen of Python: https://peps.python.org/pep-0020/\n"
   ]
  },
  {
   "cell_type": "markdown",
   "id": "0227da05",
   "metadata": {},
   "source": [
    "### Exercises / Ćwiczenia\n",
    "\n",
    "**EN:** Improve readability without adding many comments; prefer names & structure.  \n",
    "**PL:** Popraw czytelność bez nadmiernych komentarzy; preferuj nazwy i strukturę.\n",
    "\n",
    "```python\n",
    "def f(a,b,c):\n",
    "    if a>18:\n",
    "        return True\n",
    "    else:\n",
    "        if b==True:\n",
    "            return True\n",
    "        else:\n",
    "            return False\n",
    "```\n",
    "Write your refactor below / Zapisz refaktoryzację poniżej:\n"
   ]
  },
  {
   "cell_type": "code",
   "execution_count": null,
   "id": "378371a7",
   "metadata": {},
   "outputs": [],
   "source": [
    "# Your answer here / Twoje rozwiązanie tutaj\n"
   ]
  },
  {
   "cell_type": "markdown",
   "id": "65e78db6",
   "metadata": {},
   "source": [
    "---\n",
    "## Suggested solutions / Proponowane rozwiązania\n",
    "\n",
    "<details>\n",
    "<summary>Show / Pokaż</summary>\n",
    "\n",
    "### 1) Naming\n",
    "```python\n",
    "VAT_RATE = 0.23\n",
    "class DBClient: pass\n",
    "def calc_sum(a: float, b: float) -> float:\n",
    "    return a + b\n",
    "```\n",
    "\n",
    "### 2) Types\n",
    "```python\n",
    "from typing import Optional, Sequence, TypeVar\n",
    "\n",
    "def area(width: float, height: float) -> float:\n",
    "    return width * height\n",
    "\n",
    "T = TypeVar('T')\n",
    "def first_or_none(xs: Sequence[T]) -> Optional[T]:\n",
    "    return xs[0] if xs else None\n",
    "```\n",
    "\n",
    "### 3) Docstring\n",
    "```python\n",
    "def clamp(value: float, low: float, high: float) -> float:\n",
    "    \"\"\"Clamp a value to the inclusive range [low, high].\n",
    "\n",
    "    Args:\n",
    "        value: Input number to clamp.\n",
    "        low: Lower bound (inclusive).\n",
    "        high: Upper bound (inclusive).\n",
    "\n",
    "    Returns:\n",
    "        The value limited to the range [low, high].\n",
    "\n",
    "    Raises:\n",
    "        ValueError: If low > high.\n",
    "    \"\"\"\n",
    "    if low > high:\n",
    "        raise ValueError(\"low must be <= high\")\n",
    "    if value < low:\n",
    "        return low\n",
    "    if value > high:\n",
    "        return high\n",
    "    return value\n",
    "```\n",
    "\n",
    "### 4) DRY\n",
    "```python\n",
    "DISCOUNTS = {\n",
    "    'black_friday': 0.20,\n",
    "    'new_year': 0.10,\n",
    "    'student': 0.15,\n",
    "}\n",
    "\n",
    "def apply_discount(price: float, kind: str) -> float:\n",
    "    rate = DISCOUNTS.get(kind, 0.0)\n",
    "    return price * (1 - rate)\n",
    "```\n",
    "\n",
    "### 5) Readability\n",
    "```python\n",
    "def is_adult_or_has_consent(age: int, has_consent: bool) -> bool:\n",
    "    if age >= 18:\n",
    "        return True\n",
    "    return has_consent\n",
    "```\n",
    "</details>\n"
   ]
  }
 ],
 "metadata": {},
 "nbformat": 4,
 "nbformat_minor": 5
}
